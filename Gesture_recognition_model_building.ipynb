{
 "cells": [
  {
   "cell_type": "markdown",
   "metadata": {},
   "source": [
    "# Gesture Recognition\n",
    "In this group project, you are going to build a 3D Conv & CNN-RNN models that will be able to predict the 5 gestures correctly.\n",
    "\n",
    "The dataset can be downloaded from here - https://drive.google.com/uc?id=1ehyrYBQ5rbQQe6yL4XbLWe3FMvuVUGiL"
   ]
  },
  {
   "cell_type": "code",
   "execution_count": 1,
   "metadata": {},
   "outputs": [
    {
     "name": "stdout",
     "output_type": "stream",
     "text": [
      "Tue Dec 31 13:17:22 2024       \n",
      "+---------------------------------------------------------------------------------------+\n",
      "| NVIDIA-SMI 535.104.05             Driver Version: 535.104.05   CUDA Version: 12.2     |\n",
      "|-----------------------------------------+----------------------+----------------------+\n",
      "| GPU  Name                 Persistence-M | Bus-Id        Disp.A | Volatile Uncorr. ECC |\n",
      "| Fan  Temp   Perf          Pwr:Usage/Cap |         Memory-Usage | GPU-Util  Compute M. |\n",
      "|                                         |                      |               MIG M. |\n",
      "|=========================================+======================+======================|\n",
      "|   0  Quadro RTX 6000                On  | 00000000:3F:00.0 Off |                  Off |\n",
      "| 33%   26C    P8               8W / 260W |      0MiB / 24576MiB |      0%      Default |\n",
      "|                                         |                      |                  N/A |\n",
      "+-----------------------------------------+----------------------+----------------------+\n",
      "                                                                                         \n",
      "+---------------------------------------------------------------------------------------+\n",
      "| Processes:                                                                            |\n",
      "|  GPU   GI   CI        PID   Type   Process name                            GPU Memory |\n",
      "|        ID   ID                                                             Usage      |\n",
      "|=======================================================================================|\n",
      "|  No running processes found                                                           |\n",
      "+---------------------------------------------------------------------------------------+\n"
     ]
    }
   ],
   "source": [
    "!nvidia-smi"
   ]
  },
  {
   "cell_type": "code",
   "execution_count": 21,
   "metadata": {},
   "outputs": [],
   "source": [
    "import numpy as np\n",
    "import os\n",
    "from imageio.v2 import imread\n",
    "import imageio\n",
    "from PIL import Image, ImageFilter, ImageEnhance\n",
    "import datetime\n",
    "import os"
   ]
  },
  {
   "cell_type": "markdown",
   "metadata": {},
   "source": [
    "We set the random seed so that the results don't vary drastically."
   ]
  },
  {
   "cell_type": "code",
   "execution_count": 22,
   "metadata": {},
   "outputs": [],
   "source": [
    "np.random.seed(30)\n",
    "import random as rn\n",
    "rn.seed(30)\n",
    "import tensorflow as tf\n",
    "# tf.set_random_seed(30) # deprecated\n",
    "tf.random.set_seed(30)\n",
    "import cv2\n",
    "import matplotlib.pyplot as plt\n",
    "%matplotlib inline"
   ]
  },
  {
   "cell_type": "markdown",
   "metadata": {},
   "source": [
    "In this block, you read the folder names for training and validation. You also set the `batch_size` here. Note that you set the batch size in such a way that you are able to use the GPU in full capacity. You keep increasing the batch size until the machine throws an error."
   ]
  },
  {
   "cell_type": "code",
   "execution_count": 23,
   "metadata": {},
   "outputs": [],
   "source": [
    "project_folder='/datasets/Project_data'"
   ]
  },
  {
   "cell_type": "markdown",
   "metadata": {},
   "source": [
    "## Configration"
   ]
  },
  {
   "cell_type": "code",
   "execution_count": 24,
   "metadata": {},
   "outputs": [
    {
     "name": "stdout",
     "output_type": "stream",
     "text": [
      "# training sequences = 663\n",
      "# validation sequences = 100\n",
      "# epochs = 50\n"
     ]
    }
   ],
   "source": [
    "train_doc = np.random.permutation(open(f'{project_folder}/train.csv').readlines())\n",
    "val_doc = np.random.permutation(open(f'{project_folder}/val.csv').readlines())\n",
    "batch_size = 10 #experiment with the batch size\n",
    "image_count = 30 # number of images to be used for each video\n",
    "image_height=160\n",
    "image_width=160\n",
    "channels=3\n",
    "num_classes=5 # number of classes\n",
    "input_shape=(image_count,image_width,image_height,channels)\n",
    "curr_dt_time = datetime.datetime.now()\n",
    "train_path = f'{project_folder}/train'\n",
    "val_path = f'{project_folder}/val'\n",
    "num_train_sequences = len(train_doc)\n",
    "print('# training sequences =', num_train_sequences)\n",
    "num_val_sequences = len(val_doc)\n",
    "print('# validation sequences =', num_val_sequences)\n",
    "num_epochs = 50 # choose the number of epochs  \n",
    "print ('# epochs =', num_epochs)"
   ]
  },
  {
   "cell_type": "markdown",
   "metadata": {},
   "source": [
    "## Generator\n",
    "This is one of the most important part of the code. The overall structure of the generator has been given. In the generator, you are going to preprocess the images as you have images of 2 different dimensions as well as create a batch of video frames. You have to experiment with `img_idx`, `y`,`z` and normalization such that you get high accuracy."
   ]
  },
  {
   "cell_type": "code",
   "execution_count": 25,
   "metadata": {},
   "outputs": [],
   "source": [
    "def one_batch_data(source_path, t, batch, batch_size, img_idx, augment, remaining_seq=0):\n",
    "        # Determine the sequence length for the current batch\n",
    "        seq_len = remaining_seq if remaining_seq else batch_size\n",
    "        \n",
    "        # Initialize arrays for batch data and labels\n",
    "        batch_data = np.zeros((seq_len, len(img_idx), image_height, image_width, channels))\n",
    "        batch_labels = np.zeros((seq_len, num_classes))\n",
    "        \n",
    "        if augment: \n",
    "            # Initialize array for augmented batch data\n",
    "            batch_data_aug = np.zeros((seq_len, len(img_idx), image_height, image_width, channels))\n",
    "\n",
    "        # Process each folder (video) in the batch\n",
    "        for folder in range(seq_len):\n",
    "            imgs = os.listdir(source_path + '/' + t[folder + (batch * batch_size)].split(';')[0])\n",
    "            for idx, item in enumerate(img_idx): \n",
    "                # Read and resize the image\n",
    "                image = imread(source_path + '/' + t[folder + (batch * batch_size)].strip().split(';')[0] + '/' + imgs[item]).astype(np.float32)\n",
    "                #image_resized = imresize(image, (self.image_height, self.image_width, 3))\n",
    "                image_resized = cv2.resize(image, (image_width, image_height), interpolation=cv2.INTER_AREA)\n",
    "                \n",
    "                \n",
    "                # Normalize and add the image data to the batch\n",
    "                batch_data[folder, idx, :, :, 0] = (image_resized[:, :, 0]) / 255\n",
    "                batch_data[folder, idx, :, :, 1] = (image_resized[:, :, 1]) / 255\n",
    "                batch_data[folder, idx, :, :, 2] = (image_resized[:, :, 2]) / 255\n",
    "                \n",
    "                if augment:\n",
    "                    # Apply random transformations for augmentation\n",
    "                    shifted = cv2.warpAffine(\n",
    "                        image, \n",
    "                        np.float32([[1, 0, np.random.randint(-30, 30)], [0, 1, np.random.randint(-30, 30)]]),\n",
    "                        (image.shape[1], image.shape[0])\n",
    "                    )\n",
    "                    gray = cv2.cvtColor(shifted, cv2.COLOR_BGR2GRAY)\n",
    "                    x0, y0 = np.argwhere(gray > 0).min(axis=0)\n",
    "                    x1, y1 = np.argwhere(gray > 0).max(axis=0)\n",
    "                    cropped = shifted[x0:x1, y0:y1, :]\n",
    "                    #image_resized = imresize(cropped, (self.image_height, self.image_width, 3))\n",
    "                    image_resized = cv2.resize(cropped, (image_width, image_height), interpolation=cv2.INTER_AREA)\n",
    "                    \n",
    "                    # Normalize and add the augmented image data\n",
    "                    batch_data_aug[folder, idx, :, :, 0] = (image_resized[:, :, 0]) / 255\n",
    "                    batch_data_aug[folder, idx, :, :, 1] = (image_resized[:, :, 1]) / 255\n",
    "                    batch_data_aug[folder, idx, :, :, 2] = (image_resized[:, :, 2]) / 255\n",
    "            \n",
    "            # Assign one-hot encoded labels to the batch\n",
    "            batch_labels[folder, int(t[folder + (batch * batch_size)].strip().split(';')[2])] = 1\n",
    "        \n",
    "        if augment:\n",
    "            # Concatenate original and augmented data/labels\n",
    "            batch_data = np.concatenate([batch_data, batch_data_aug])\n",
    "            batch_labels = np.concatenate([batch_labels, batch_labels])\n",
    "\n",
    "        return batch_data, batch_labels"
   ]
  },
  {
   "cell_type": "code",
   "execution_count": 26,
   "metadata": {},
   "outputs": [],
   "source": [
    "def generator(source_path, folder_list, batch_size, augment=False):\n",
    "    #img_idx = [x for x in range(0, image_count) if x % 2 != 0]\n",
    "    #print('Source path =', source_path, '; batch size =', batch_size, '; img_ix =', img_idx)\n",
    "    img_idx = [x for x in range(0, image_count)]\n",
    "    img_idx = img_idx[5:25] # middle 20 frames\n",
    "    print('Source path =', source_path, '; batch size =', batch_size)\n",
    "    while True:\n",
    "        t = np.random.permutation(folder_list)\n",
    "        num_batches = len(t) // batch_size  # calculate the number of batches\n",
    "        for batch in range(num_batches):  # we iterate over the number of batches\n",
    "            batch_data, batch_labels = one_batch_data(source_path, t, batch, batch_size, img_idx, augment)\n",
    "            yield batch_data, batch_labels\n",
    "\n",
    "        # Handle the remaining sequences if any (not forming a full batch)\n",
    "        remaining_seq = len(t) % batch_size\n",
    "        if remaining_seq != 0:\n",
    "            batch_data, batch_labels = one_batch_data(source_path, t, num_batches, batch_size, img_idx, augment, remaining_seq)\n",
    "            yield batch_data, batch_labels    \n"
   ]
  },
  {
   "cell_type": "markdown",
   "metadata": {},
   "source": [
    "Note here that a video is represented above in the generator as (number of images, height, width, number of channels). Take this into consideration while creating the model architecture."
   ]
  },
  {
   "cell_type": "code",
   "execution_count": 27,
   "metadata": {},
   "outputs": [],
   "source": [
    "def create_model_config(name):\n",
    "    model_name = name + '_' + str(curr_dt_time).replace(' ','').replace(':','_') + '/'\n",
    "\n",
    "    if not os.path.exists(model_name):\n",
    "        os.mkdir(model_name)\n",
    "\n",
    "    filepath = model_name + 'model-{epoch:05d}-{loss:.5f}-{categorical_accuracy:.5f}-{val_loss:.5f}-{val_categorical_accuracy:.5f}.keras'\n",
    "\n",
    "    checkpoint = ModelCheckpoint(filepath, monitor='val_loss', verbose=1, save_best_only=True, save_weights_only=False, mode='auto')\n",
    "\n",
    "    LR = ReduceLROnPlateau(monitor='val_loss', factor=0.2, patience=5, verbose=1, mode='auto')\n",
    "    early_stopping = EarlyStopping(monitor='val_loss', patience=10, verbose=1, mode='auto', restore_best_weights=True)\n",
    "\n",
    "    callbacks_list = [checkpoint, LR, early_stopping]\n",
    "    return callbacks_list"
   ]
  },
  {
   "cell_type": "code",
   "execution_count": 28,
   "metadata": {},
   "outputs": [],
   "source": [
    "def calculate_steps_per_epoch():\n",
    "    if (num_train_sequences%batch_size) == 0:\n",
    "        steps_per_epoch = int(num_train_sequences/batch_size)\n",
    "    else:\n",
    "        steps_per_epoch = (num_train_sequences//batch_size) + 1\n",
    "\n",
    "    if (num_val_sequences%batch_size) == 0:\n",
    "        validation_steps = int(num_val_sequences/batch_size)\n",
    "    else:\n",
    "        validation_steps = (num_val_sequences//batch_size) + 1\n",
    "    return steps_per_epoch, validation_steps"
   ]
  },
  {
   "cell_type": "code",
   "execution_count": 52,
   "metadata": {},
   "outputs": [],
   "source": [
    "# Ensure that the number of epochs is consistent with the history data\n",
    "def plot_evaluation_graph(history):\n",
    "    num_epochs = len(history.history['loss'])\n",
    "\n",
    "    plt.figure(figsize=(10,10))\n",
    "\n",
    "    acc = history.history['categorical_accuracy']\n",
    "    val_acc = history.history['val_categorical_accuracy']\n",
    "\n",
    "    loss = history.history['loss']\n",
    "    val_loss = history.history['val_loss']\n",
    "\n",
    "    epochs_range = range(num_epochs)\n",
    "\n",
    "    plt.figure(figsize=(8, 8))\n",
    "    plt.subplot(1, 2, 1)\n",
    "    plt.plot(epochs_range, acc, label='Training Accuracy')\n",
    "    plt.plot(epochs_range, val_acc, label='Validation Accuracy')\n",
    "    plt.legend(loc='lower right')\n",
    "    plt.title('Training and Validation Accuracy')\n",
    "\n",
    "    plt.subplot(1, 2, 2)\n",
    "    plt.plot(epochs_range, loss, label='Training Loss')\n",
    "    plt.plot(epochs_range, val_loss, label='Validation Loss')\n",
    "    plt.legend(loc='upper right')\n",
    "    plt.title('Training and Validation Loss')\n",
    "    plt.show()"
   ]
  },
  {
   "cell_type": "markdown",
   "metadata": {},
   "source": [
    "## Model\n",
    "Here you make the model using different functionalities that Keras provides. Remember to use `Conv3D` and `MaxPooling3D` and not `Conv2D` and `Maxpooling2D` for a 3D convolution model. You would want to use `TimeDistributed` while building a Conv2D + RNN model. Also remember that the last layer is the softmax. Design the network in such a way that the model is able to give good accuracy on the least number of parameters so that it can fit in the memory of the webcam."
   ]
  },
  {
   "cell_type": "code",
   "execution_count": 30,
   "metadata": {},
   "outputs": [],
   "source": [
    "from keras.models import Sequential, Model\n",
    "from keras.layers import Dense, GRU, Flatten, TimeDistributed, Flatten, BatchNormalization, Activation,Dropout,GlobalAveragePooling3D,GRU,GlobalAveragePooling2D,LSTM,MaxPool2D,ConvLSTM2D,GlobalAveragePooling1D\n",
    "from keras.layers.convolutional import Conv3D, MaxPooling3D,Conv2D, MaxPooling2D\n",
    "from keras.callbacks import ModelCheckpoint, ReduceLROnPlateau, EarlyStopping\n",
    "from keras import optimizers\n",
    "# from keras.applications import MobileNet"
   ]
  },
  {
   "cell_type": "markdown",
   "metadata": {},
   "source": [
    "### First Experiment - Conv3D Without Data Augmentation"
   ]
  },
  {
   "cell_type": "code",
   "execution_count": 54,
   "metadata": {},
   "outputs": [],
   "source": [
    "model1 = Sequential()\n",
    "model1.add(Conv3D(16, (3, 3, 3), padding='same',\n",
    "          input_shape=input_shape))\n",
    "model1.add(Activation('relu'))\n",
    "model1.add(MaxPooling3D(pool_size=(2, 2, 2)))\n",
    "\n",
    "model1.add(Conv3D(32, (2, 2, 2), padding='same'))\n",
    "model1.add(Activation('relu'))\n",
    "model1.add(MaxPooling3D(pool_size=(2, 2, 2)))\n",
    "\n",
    "model1.add(Conv3D(64, (2, 2, 2), padding='same'))\n",
    "model1.add(Activation('relu'))\n",
    "model1.add(MaxPooling3D(pool_size=(2, 2, 2)))\n",
    "\n",
    "model1.add(Conv3D(128, (2, 2, 2), padding='same'))\n",
    "model1.add(Activation('relu'))\n",
    "model1.add(MaxPooling3D(pool_size=(2, 2, 2)))\n",
    "\n",
    "model1.add(Flatten())\n",
    "model1.add(Dense(128,activation='relu'))\n",
    "model1.add(Dense(64,activation='relu'))\n",
    "\n",
    "model1.add(Dense(num_classes,activation='softmax'))"
   ]
  },
  {
   "cell_type": "code",
   "execution_count": 56,
   "metadata": {},
   "outputs": [
    {
     "name": "stdout",
     "output_type": "stream",
     "text": [
      "Steps per epoch: 34\n",
      "Validation steps: 5\n"
     ]
    }
   ],
   "source": [
    "batch_size = 20 #experiment with the batch size\n",
    "image_count = 30 # number of images to be used for each video\n",
    "num_epochs = 20 # choose the number of epochs  \n",
    "train_generator = generator(train_path, train_doc, batch_size, augment=False)\n",
    "val_generator = generator(val_path, val_doc, batch_size, augment=False)\n",
    "\n",
    "callbacks_list = create_model_config('model_1')\n",
    "steps_per_epoch, validation_steps = calculate_steps_per_epoch()\n",
    "print(f\"Steps per epoch: {steps_per_epoch}\") \n",
    "print(f\"Validation steps: {validation_steps}\")"
   ]
  },
  {
   "cell_type": "markdown",
   "metadata": {},
   "source": [
    "Now that you have written the model, the next step is to `compile` the model. When you print the `summary` of the model, you'll see the total number of parameters you have to train."
   ]
  },
  {
   "cell_type": "code",
   "execution_count": 77,
   "metadata": {
    "scrolled": true
   },
   "outputs": [
    {
     "name": "stdout",
     "output_type": "stream",
     "text": [
      "Model: \"sequential_6\"\n",
      "_________________________________________________________________\n",
      " Layer (type)                Output Shape              Param #   \n",
      "=================================================================\n",
      " conv3d_17 (Conv3D)          (None, 30, 160, 160, 16)  1312      \n",
      "                                                                 \n",
      " activation_17 (Activation)  (None, 30, 160, 160, 16)  0         \n",
      "                                                                 \n",
      " max_pooling3d_16 (MaxPoolin  (None, 15, 80, 80, 16)   0         \n",
      " g3D)                                                            \n",
      "                                                                 \n",
      " conv3d_18 (Conv3D)          (None, 15, 80, 80, 32)    4128      \n",
      "                                                                 \n",
      " activation_18 (Activation)  (None, 15, 80, 80, 32)    0         \n",
      "                                                                 \n",
      " max_pooling3d_17 (MaxPoolin  (None, 7, 40, 40, 32)    0         \n",
      " g3D)                                                            \n",
      "                                                                 \n",
      " conv3d_19 (Conv3D)          (None, 7, 40, 40, 64)     16448     \n",
      "                                                                 \n",
      " activation_19 (Activation)  (None, 7, 40, 40, 64)     0         \n",
      "                                                                 \n",
      " max_pooling3d_18 (MaxPoolin  (None, 3, 20, 20, 64)    0         \n",
      " g3D)                                                            \n",
      "                                                                 \n",
      " conv3d_20 (Conv3D)          (None, 3, 20, 20, 128)    65664     \n",
      "                                                                 \n",
      " activation_20 (Activation)  (None, 3, 20, 20, 128)    0         \n",
      "                                                                 \n",
      " max_pooling3d_19 (MaxPoolin  (None, 1, 10, 10, 128)   0         \n",
      " g3D)                                                            \n",
      "                                                                 \n",
      " flatten_6 (Flatten)         (None, 12800)             0         \n",
      "                                                                 \n",
      " dense_16 (Dense)            (None, 128)               1638528   \n",
      "                                                                 \n",
      " dense_17 (Dense)            (None, 64)                8256      \n",
      "                                                                 \n",
      " dense_18 (Dense)            (None, 5)                 325       \n",
      "                                                                 \n",
      "=================================================================\n",
      "Total params: 1,734,661\n",
      "Trainable params: 1,734,661\n",
      "Non-trainable params: 0\n",
      "_________________________________________________________________\n",
      "None\n"
     ]
    }
   ],
   "source": [
    "optimiser = 'Adam' #write your optimizer\n",
    "model1.compile(optimizer=optimiser, loss='categorical_crossentropy', metrics=['categorical_accuracy'])\n",
    "print (model1.summary())"
   ]
  },
  {
   "cell_type": "markdown",
   "metadata": {},
   "source": [
    "Let us now fit the model. This will start training the model and with the help of the checkpoints, you'll be able to save the model at the end of each epoch."
   ]
  },
  {
   "cell_type": "code",
   "execution_count": 58,
   "metadata": {},
   "outputs": [
    {
     "name": "stdout",
     "output_type": "stream",
     "text": [
      "Source path = /datasets/Project_data/train ; batch size = 20\n",
      "Epoch 1/20\n",
      "34/34 [==============================] - ETA: 0s - loss: 1.5964 - categorical_accuracy: 0.2293Source path = /datasets/Project_data/val ; batch size = 20\n",
      "\n",
      "Epoch 00001: val_loss improved from inf to 1.53910, saving model to model_1_2024-12-3114_11_23.804348/model-00001-1.59641-0.22926-1.53910-0.23000.keras\n",
      "34/34 [==============================] - 49s 1s/step - loss: 1.5964 - categorical_accuracy: 0.2293 - val_loss: 1.5391 - val_categorical_accuracy: 0.2300 - lr: 0.0010\n",
      "Epoch 2/20\n",
      "34/34 [==============================] - ETA: 0s - loss: 1.4347 - categorical_accuracy: 0.3363\n",
      "Epoch 00002: val_loss improved from 1.53910 to 1.53364, saving model to model_1_2024-12-3114_11_23.804348/model-00002-1.43472-0.33635-1.53364-0.32000.keras\n",
      "34/34 [==============================] - 49s 1s/step - loss: 1.4347 - categorical_accuracy: 0.3363 - val_loss: 1.5336 - val_categorical_accuracy: 0.3200 - lr: 0.0010\n",
      "Epoch 3/20\n",
      "33/34 [============================>.] - ETA: 1s - loss: 1.2535 - categorical_accuracy: 0.4273\n",
      "Epoch 00003: val_loss improved from 1.53364 to 1.20665, saving model to model_1_2024-12-3114_11_23.804348/model-00003-1.25348-0.42685-1.20665-0.52000.keras\n",
      "34/34 [==============================] - 49s 1s/step - loss: 1.2535 - categorical_accuracy: 0.4268 - val_loss: 1.2067 - val_categorical_accuracy: 0.5200 - lr: 0.0010\n",
      "Epoch 4/20\n",
      "34/34 [==============================] - ETA: 0s - loss: 1.0397 - categorical_accuracy: 0.5897\n",
      "Epoch 00004: val_loss improved from 1.20665 to 1.11298, saving model to model_1_2024-12-3114_11_23.804348/model-00004-1.03971-0.58974-1.11298-0.51000.keras\n",
      "34/34 [==============================] - 48s 1s/step - loss: 1.0397 - categorical_accuracy: 0.5897 - val_loss: 1.1130 - val_categorical_accuracy: 0.5100 - lr: 0.0010\n",
      "Epoch 5/20\n",
      "33/34 [============================>.] - ETA: 1s - loss: 0.9478 - categorical_accuracy: 0.5879\n",
      "Epoch 00005: val_loss did not improve from 1.11298\n",
      "34/34 [==============================] - 48s 1s/step - loss: 0.9460 - categorical_accuracy: 0.5882 - val_loss: 1.2189 - val_categorical_accuracy: 0.5100 - lr: 0.0010\n",
      "Epoch 6/20\n",
      "33/34 [============================>.] - ETA: 1s - loss: 0.8378 - categorical_accuracy: 0.6561\n",
      "Epoch 00006: val_loss improved from 1.11298 to 0.95448, saving model to model_1_2024-12-3114_11_23.804348/model-00006-0.83618-0.65611-0.95448-0.57000.keras\n",
      "34/34 [==============================] - 48s 1s/step - loss: 0.8362 - categorical_accuracy: 0.6561 - val_loss: 0.9545 - val_categorical_accuracy: 0.5700 - lr: 0.0010\n",
      "Epoch 7/20\n",
      "33/34 [============================>.] - ETA: 1s - loss: 0.6347 - categorical_accuracy: 0.7530\n",
      "Epoch 00007: val_loss improved from 0.95448 to 0.88635, saving model to model_1_2024-12-3114_11_23.804348/model-00007-0.63854-0.75264-0.88635-0.65000.keras\n",
      "34/34 [==============================] - 48s 1s/step - loss: 0.6385 - categorical_accuracy: 0.7526 - val_loss: 0.8863 - val_categorical_accuracy: 0.6500 - lr: 0.0010\n",
      "Epoch 8/20\n",
      "34/34 [==============================] - ETA: 0s - loss: 0.5161 - categorical_accuracy: 0.8024\n",
      "Epoch 00008: val_loss improved from 0.88635 to 0.82460, saving model to model_1_2024-12-3114_11_23.804348/model-00008-0.51614-0.80241-0.82460-0.73000.keras\n",
      "34/34 [==============================] - 59s 2s/step - loss: 0.5161 - categorical_accuracy: 0.8024 - val_loss: 0.8246 - val_categorical_accuracy: 0.7300 - lr: 0.0010\n",
      "Epoch 9/20\n",
      "34/34 [==============================] - ETA: 0s - loss: 0.4546 - categorical_accuracy: 0.8522\n",
      "Epoch 00009: val_loss improved from 0.82460 to 0.75292, saving model to model_1_2024-12-3114_11_23.804348/model-00009-0.45462-0.85219-0.75292-0.67000.keras\n",
      "34/34 [==============================] - 68s 2s/step - loss: 0.4546 - categorical_accuracy: 0.8522 - val_loss: 0.7529 - val_categorical_accuracy: 0.6700 - lr: 0.0010\n",
      "Epoch 10/20\n",
      "34/34 [==============================] - ETA: 0s - loss: 0.2456 - categorical_accuracy: 0.9050\n",
      "Epoch 00010: val_loss improved from 0.75292 to 0.72896, saving model to model_1_2024-12-3114_11_23.804348/model-00010-0.24559-0.90498-0.72896-0.73000.keras\n",
      "34/34 [==============================] - 61s 2s/step - loss: 0.2456 - categorical_accuracy: 0.9050 - val_loss: 0.7290 - val_categorical_accuracy: 0.7300 - lr: 0.0010\n",
      "Epoch 11/20\n",
      "34/34 [==============================] - ETA: 0s - loss: 0.1366 - categorical_accuracy: 0.9578\n",
      "Epoch 00011: val_loss did not improve from 0.72896\n",
      "34/34 [==============================] - 55s 2s/step - loss: 0.1366 - categorical_accuracy: 0.9578 - val_loss: 0.7650 - val_categorical_accuracy: 0.7300 - lr: 0.0010\n",
      "Epoch 12/20\n",
      "34/34 [==============================] - ETA: 0s - loss: 0.0928 - categorical_accuracy: 0.9729\n",
      "Epoch 00012: val_loss did not improve from 0.72896\n",
      "34/34 [==============================] - 53s 2s/step - loss: 0.0928 - categorical_accuracy: 0.9729 - val_loss: 0.7767 - val_categorical_accuracy: 0.7600 - lr: 0.0010\n",
      "Epoch 13/20\n",
      "33/34 [============================>.] - ETA: 1s - loss: 0.0414 - categorical_accuracy: 0.9924\n",
      "Epoch 00013: val_loss did not improve from 0.72896\n",
      "34/34 [==============================] - 53s 2s/step - loss: 0.0412 - categorical_accuracy: 0.9925 - val_loss: 1.4737 - val_categorical_accuracy: 0.7200 - lr: 0.0010\n",
      "Epoch 14/20\n",
      "34/34 [==============================] - ETA: 0s - loss: 0.1127 - categorical_accuracy: 0.9608\n",
      "Epoch 00014: val_loss did not improve from 0.72896\n",
      "34/34 [==============================] - 52s 2s/step - loss: 0.1127 - categorical_accuracy: 0.9608 - val_loss: 1.3823 - val_categorical_accuracy: 0.6900 - lr: 0.0010\n",
      "Epoch 15/20\n",
      "33/34 [============================>.] - ETA: 1s - loss: 0.0933 - categorical_accuracy: 0.9682\n",
      "Epoch 00015: val_loss did not improve from 0.72896\n",
      "\n",
      "Epoch 00015: ReduceLROnPlateau reducing learning rate to 0.00020000000949949026.\n",
      "34/34 [==============================] - 53s 2s/step - loss: 0.0929 - categorical_accuracy: 0.9683 - val_loss: 0.9992 - val_categorical_accuracy: 0.6800 - lr: 0.0010\n",
      "Epoch 16/20\n",
      "34/34 [==============================] - ETA: 0s - loss: 0.0440 - categorical_accuracy: 0.9894\n",
      "Epoch 00016: val_loss did not improve from 0.72896\n",
      "34/34 [==============================] - 53s 2s/step - loss: 0.0440 - categorical_accuracy: 0.9894 - val_loss: 1.1694 - val_categorical_accuracy: 0.6800 - lr: 2.0000e-04\n",
      "Epoch 17/20\n",
      "33/34 [============================>.] - ETA: 1s - loss: 0.0214 - categorical_accuracy: 0.9955\n",
      "Epoch 00017: val_loss did not improve from 0.72896\n",
      "34/34 [==============================] - 54s 2s/step - loss: 0.0213 - categorical_accuracy: 0.9955 - val_loss: 1.0871 - val_categorical_accuracy: 0.6900 - lr: 2.0000e-04\n",
      "Epoch 18/20\n",
      "34/34 [==============================] - ETA: 0s - loss: 0.0086 - categorical_accuracy: 1.0000\n",
      "Epoch 00018: val_loss did not improve from 0.72896\n",
      "34/34 [==============================] - 54s 2s/step - loss: 0.0086 - categorical_accuracy: 1.0000 - val_loss: 1.2983 - val_categorical_accuracy: 0.7000 - lr: 2.0000e-04\n",
      "Epoch 19/20\n",
      "33/34 [============================>.] - ETA: 1s - loss: 0.0057 - categorical_accuracy: 1.0000\n",
      "Epoch 00019: val_loss improved from 0.72896 to 0.57583, saving model to model_1_2024-12-3114_11_23.804348/model-00019-0.00568-1.00000-0.57583-0.80000.keras\n",
      "34/34 [==============================] - 52s 2s/step - loss: 0.0057 - categorical_accuracy: 1.0000 - val_loss: 0.5758 - val_categorical_accuracy: 0.8000 - lr: 2.0000e-04\n",
      "Epoch 20/20\n",
      "34/34 [==============================] - ETA: 0s - loss: 0.0044 - categorical_accuracy: 1.0000\n",
      "Epoch 00020: val_loss did not improve from 0.57583\n",
      "34/34 [==============================] - 52s 2s/step - loss: 0.0044 - categorical_accuracy: 1.0000 - val_loss: 1.0771 - val_categorical_accuracy: 0.7400 - lr: 2.0000e-04\n"
     ]
    }
   ],
   "source": [
    "history1=model1.fit(train_generator,\n",
    "                  steps_per_epoch=steps_per_epoch,\n",
    "                  epochs=num_epochs,\n",
    "                  verbose=1,\n",
    "                  callbacks=callbacks_list,\n",
    "                  validation_data=val_generator,\n",
    "                  validation_steps=validation_steps,\n",
    "                  class_weight=None,\n",
    "                  batch_size=batch_size,\n",
    "                  initial_epoch=0)"
   ]
  },
  {
   "cell_type": "code",
   "execution_count": 59,
   "metadata": {},
   "outputs": [
    {
     "data": {
      "text/plain": [
       "<Figure size 720x720 with 0 Axes>"
      ]
     },
     "metadata": {},
     "output_type": "display_data"
    },
    {
     "data": {
      "image/png": "[encoded data removed]",
      "text/plain": [
       "<Figure size 576x576 with 2 Axes>"
      ]
     },
     "metadata": {
      "needs_background": "light"
     },
     "output_type": "display_data"
    }
   ],
   "source": [
    "plot_evaluation_graph(history1)"
   ]
  },
  {
   "cell_type": "markdown",
   "metadata": {},
   "source": [
    "### Second Experiment - Conv3D with Data Augmentation"
   ]
  },
  {
   "cell_type": "code",
   "execution_count": 60,
   "metadata": {},
   "outputs": [],
   "source": [
    "model2 = Sequential()\n",
    "model2.add(Conv3D(16, (3, 3, 3), padding='same',\n",
    "          input_shape=input_shape))\n",
    "model2.add(Activation('relu'))\n",
    "model2.add(MaxPooling3D(pool_size=(2, 2, 2)))\n",
    "\n",
    "model2.add(Conv3D(32, (2, 2, 2), padding='same'))\n",
    "model2.add(Activation('relu'))\n",
    "model2.add(MaxPooling3D(pool_size=(2, 2, 2)))\n",
    "\n",
    "model2.add(Conv3D(64, (2, 2, 2), padding='same'))\n",
    "model2.add(Activation('relu'))\n",
    "model2.add(MaxPooling3D(pool_size=(2, 2, 2)))\n",
    "\n",
    "model2.add(Conv3D(128, (2, 2, 2), padding='same'))\n",
    "model2.add(Activation('relu'))\n",
    "model2.add(MaxPooling3D(pool_size=(2, 2, 2)))\n",
    "\n",
    "model2.add(Flatten())\n",
    "model2.add(Dense(128,activation='relu'))\n",
    "model2.add(Dense(64,activation='relu'))\n",
    "\n",
    "model2.add(Dense(num_classes,activation='softmax'))"
   ]
  },
  {
   "cell_type": "code",
   "execution_count": 61,
   "metadata": {},
   "outputs": [
    {
     "name": "stdout",
     "output_type": "stream",
     "text": [
      "Steps per epoch: 34\n",
      "Validation steps: 5\n"
     ]
    }
   ],
   "source": [
    "batch_size = 20 #experiment with the batch size\n",
    "image_count = 30 # number of images to be used for each video\n",
    "num_epochs = 20 # choose the number of epochs  \n",
    "train_generator = generator(train_path, train_doc, batch_size, augment=True)\n",
    "val_generator = generator(val_path, val_doc, batch_size, augment=True)\n",
    "\n",
    "callbacks_list = create_model_config('model_2')\n",
    "steps_per_epoch, validation_steps = calculate_steps_per_epoch()\n",
    "print(f\"Steps per epoch: {steps_per_epoch}\") \n",
    "print(f\"Validation steps: {validation_steps}\")"
   ]
  },
  {
   "cell_type": "code",
   "execution_count": 78,
   "metadata": {
    "scrolled": true
   },
   "outputs": [
    {
     "name": "stdout",
     "output_type": "stream",
     "text": [
      "Model: \"sequential_7\"\n",
      "_________________________________________________________________\n",
      " Layer (type)                Output Shape              Param #   \n",
      "=================================================================\n",
      " conv3d_21 (Conv3D)          (None, 30, 160, 160, 16)  1312      \n",
      "                                                                 \n",
      " activation_21 (Activation)  (None, 30, 160, 160, 16)  0         \n",
      "                                                                 \n",
      " max_pooling3d_20 (MaxPoolin  (None, 15, 80, 80, 16)   0         \n",
      " g3D)                                                            \n",
      "                                                                 \n",
      " conv3d_22 (Conv3D)          (None, 15, 80, 80, 32)    4128      \n",
      "                                                                 \n",
      " activation_22 (Activation)  (None, 15, 80, 80, 32)    0         \n",
      "                                                                 \n",
      " max_pooling3d_21 (MaxPoolin  (None, 7, 40, 40, 32)    0         \n",
      " g3D)                                                            \n",
      "                                                                 \n",
      " conv3d_23 (Conv3D)          (None, 7, 40, 40, 64)     16448     \n",
      "                                                                 \n",
      " activation_23 (Activation)  (None, 7, 40, 40, 64)     0         \n",
      "                                                                 \n",
      " max_pooling3d_22 (MaxPoolin  (None, 3, 20, 20, 64)    0         \n",
      " g3D)                                                            \n",
      "                                                                 \n",
      " conv3d_24 (Conv3D)          (None, 3, 20, 20, 128)    65664     \n",
      "                                                                 \n",
      " activation_24 (Activation)  (None, 3, 20, 20, 128)    0         \n",
      "                                                                 \n",
      " max_pooling3d_23 (MaxPoolin  (None, 1, 10, 10, 128)   0         \n",
      " g3D)                                                            \n",
      "                                                                 \n",
      " flatten_7 (Flatten)         (None, 12800)             0         \n",
      "                                                                 \n",
      " dense_19 (Dense)            (None, 128)               1638528   \n",
      "                                                                 \n",
      " dense_20 (Dense)            (None, 64)                8256      \n",
      "                                                                 \n",
      " dense_21 (Dense)            (None, 5)                 325       \n",
      "                                                                 \n",
      "=================================================================\n",
      "Total params: 1,734,661\n",
      "Trainable params: 1,734,661\n",
      "Non-trainable params: 0\n",
      "_________________________________________________________________\n",
      "None\n"
     ]
    }
   ],
   "source": [
    "optimiser = 'Adam' #write your optimizer\n",
    "model2.compile(optimizer=optimiser, loss='categorical_crossentropy', metrics=['categorical_accuracy'])\n",
    "print (model2.summary())"
   ]
  },
  {
   "cell_type": "code",
   "execution_count": 63,
   "metadata": {},
   "outputs": [
    {
     "name": "stdout",
     "output_type": "stream",
     "text": [
      "Source path = /datasets/Project_data/train ; batch size = 20\n",
      "Epoch 1/20\n",
      "34/34 [==============================] - ETA: 0s - loss: 1.6149 - categorical_accuracy: 0.2066Source path = /datasets/Project_data/val ; batch size = 20\n",
      "\n",
      "Epoch 00001: val_loss improved from inf to 1.54266, saving model to model_2_2024-12-3114_11_23.804348/model-00001-1.61494-0.20664-1.54266-0.42500.keras\n",
      "34/34 [==============================] - 142s 4s/step - loss: 1.6149 - categorical_accuracy: 0.2066 - val_loss: 1.5427 - val_categorical_accuracy: 0.4250 - lr: 0.0010\n",
      "Epoch 2/20\n",
      "34/34 [==============================] - ETA: 0s - loss: 1.4625 - categorical_accuracy: 0.3537\n",
      "Epoch 00002: val_loss improved from 1.54266 to 1.39623, saving model to model_2_2024-12-3114_11_23.804348/model-00002-1.46251-0.35370-1.39623-0.34500.keras\n",
      "34/34 [==============================] - 136s 4s/step - loss: 1.4625 - categorical_accuracy: 0.3537 - val_loss: 1.3962 - val_categorical_accuracy: 0.3450 - lr: 0.0010\n",
      "Epoch 3/20\n",
      "34/34 [==============================] - ETA: 0s - loss: 1.2952 - categorical_accuracy: 0.4080\n",
      "Epoch 00003: val_loss improved from 1.39623 to 1.22790, saving model to model_2_2024-12-3114_11_23.804348/model-00003-1.29524-0.40799-1.22790-0.48000.keras\n",
      "34/34 [==============================] - 136s 4s/step - loss: 1.2952 - categorical_accuracy: 0.4080 - val_loss: 1.2279 - val_categorical_accuracy: 0.4800 - lr: 0.0010\n",
      "Epoch 4/20\n",
      "34/34 [==============================] - ETA: 0s - loss: 1.1999 - categorical_accuracy: 0.4910\n",
      "Epoch 00004: val_loss improved from 1.22790 to 1.01912, saving model to model_2_2024-12-3114_11_23.804348/model-00004-1.19992-0.49095-1.01912-0.61500.keras\n",
      "34/34 [==============================] - 138s 4s/step - loss: 1.1999 - categorical_accuracy: 0.4910 - val_loss: 1.0191 - val_categorical_accuracy: 0.6150 - lr: 0.0010\n",
      "Epoch 5/20\n",
      "34/34 [==============================] - ETA: 0s - loss: 1.1413 - categorical_accuracy: 0.4864\n",
      "Epoch 00005: val_loss did not improve from 1.01912\n",
      "34/34 [==============================] - 137s 4s/step - loss: 1.1413 - categorical_accuracy: 0.4864 - val_loss: 1.0414 - val_categorical_accuracy: 0.5900 - lr: 0.0010\n",
      "Epoch 6/20\n",
      "33/34 [============================>.] - ETA: 3s - loss: 0.9974 - categorical_accuracy: 0.6000\n",
      "Epoch 00006: val_loss did not improve from 1.01912\n",
      "34/34 [==============================] - 133s 4s/step - loss: 0.9954 - categorical_accuracy: 0.6018 - val_loss: 1.1530 - val_categorical_accuracy: 0.5000 - lr: 0.0010\n",
      "Epoch 7/20\n",
      "34/34 [==============================] - ETA: 0s - loss: 0.9984 - categorical_accuracy: 0.6101\n",
      "Epoch 00007: val_loss improved from 1.01912 to 0.93403, saving model to model_2_2024-12-3114_11_23.804348/model-00007-0.99841-0.61011-0.93403-0.62000.keras\n",
      "34/34 [==============================] - 134s 4s/step - loss: 0.9984 - categorical_accuracy: 0.6101 - val_loss: 0.9340 - val_categorical_accuracy: 0.6200 - lr: 0.0010\n",
      "Epoch 8/20\n",
      "34/34 [==============================] - ETA: 0s - loss: 0.8296 - categorical_accuracy: 0.6621\n",
      "Epoch 00008: val_loss did not improve from 0.93403\n",
      "34/34 [==============================] - 133s 4s/step - loss: 0.8296 - categorical_accuracy: 0.6621 - val_loss: 0.9367 - val_categorical_accuracy: 0.5900 - lr: 0.0010\n",
      "Epoch 9/20\n",
      "34/34 [==============================] - ETA: 0s - loss: 0.7341 - categorical_accuracy: 0.7051\n",
      "Epoch 00009: val_loss improved from 0.93403 to 0.92361, saving model to model_2_2024-12-3114_11_23.804348/model-00009-0.73411-0.70513-0.92361-0.62000.keras\n",
      "34/34 [==============================] - 134s 4s/step - loss: 0.7341 - categorical_accuracy: 0.7051 - val_loss: 0.9236 - val_categorical_accuracy: 0.6200 - lr: 0.0010\n",
      "Epoch 10/20\n",
      "34/34 [==============================] - ETA: 0s - loss: 0.7548 - categorical_accuracy: 0.6863\n",
      "Epoch 00010: val_loss improved from 0.92361 to 0.82103, saving model to model_2_2024-12-3114_11_23.804348/model-00010-0.75479-0.68627-0.82103-0.66500.keras\n",
      "34/34 [==============================] - 132s 4s/step - loss: 0.7548 - categorical_accuracy: 0.6863 - val_loss: 0.8210 - val_categorical_accuracy: 0.6650 - lr: 0.0010\n",
      "Epoch 11/20\n",
      "34/34 [==============================] - ETA: 0s - loss: 0.6659 - categorical_accuracy: 0.7300\n",
      "Epoch 00011: val_loss did not improve from 0.82103\n",
      "34/34 [==============================] - 134s 4s/step - loss: 0.6659 - categorical_accuracy: 0.7300 - val_loss: 0.9664 - val_categorical_accuracy: 0.6650 - lr: 0.0010\n",
      "Epoch 12/20\n",
      "34/34 [==============================] - ETA: 0s - loss: 0.4999 - categorical_accuracy: 0.8047\n",
      "Epoch 00012: val_loss improved from 0.82103 to 0.70844, saving model to model_2_2024-12-3114_11_23.804348/model-00012-0.49993-0.80468-0.70844-0.72500.keras\n",
      "34/34 [==============================] - 135s 4s/step - loss: 0.4999 - categorical_accuracy: 0.8047 - val_loss: 0.7084 - val_categorical_accuracy: 0.7250 - lr: 0.0010\n",
      "Epoch 13/20\n",
      "34/34 [==============================] - ETA: 0s - loss: 0.4339 - categorical_accuracy: 0.8303\n",
      "Epoch 00013: val_loss did not improve from 0.70844\n",
      "34/34 [==============================] - 133s 4s/step - loss: 0.4339 - categorical_accuracy: 0.8303 - val_loss: 0.9497 - val_categorical_accuracy: 0.6750 - lr: 0.0010\n",
      "Epoch 14/20\n",
      "34/34 [==============================] - ETA: 0s - loss: 0.3825 - categorical_accuracy: 0.8439\n",
      "Epoch 00014: val_loss did not improve from 0.70844\n",
      "34/34 [==============================] - 134s 4s/step - loss: 0.3825 - categorical_accuracy: 0.8439 - val_loss: 0.9001 - val_categorical_accuracy: 0.6800 - lr: 0.0010\n",
      "Epoch 15/20\n",
      "34/34 [==============================] - ETA: 0s - loss: 0.3364 - categorical_accuracy: 0.8839\n",
      "Epoch 00015: val_loss did not improve from 0.70844\n",
      "34/34 [==============================] - 139s 4s/step - loss: 0.3364 - categorical_accuracy: 0.8839 - val_loss: 0.8330 - val_categorical_accuracy: 0.7100 - lr: 0.0010\n",
      "Epoch 16/20\n",
      "34/34 [==============================] - ETA: 0s - loss: 0.2639 - categorical_accuracy: 0.8929\n",
      "Epoch 00016: val_loss did not improve from 0.70844\n",
      "34/34 [==============================] - 132s 4s/step - loss: 0.2639 - categorical_accuracy: 0.8929 - val_loss: 0.8741 - val_categorical_accuracy: 0.7300 - lr: 0.0010\n",
      "Epoch 17/20\n",
      "34/34 [==============================] - ETA: 0s - loss: 0.3117 - categorical_accuracy: 0.8816\n",
      "Epoch 00017: val_loss did not improve from 0.70844\n",
      "\n",
      "Epoch 00017: ReduceLROnPlateau reducing learning rate to 0.00020000000949949026.\n",
      "34/34 [==============================] - 132s 4s/step - loss: 0.3117 - categorical_accuracy: 0.8816 - val_loss: 1.0846 - val_categorical_accuracy: 0.6250 - lr: 0.0010\n",
      "Epoch 18/20\n",
      "34/34 [==============================] - ETA: 0s - loss: 0.2261 - categorical_accuracy: 0.9231\n",
      "Epoch 00018: val_loss did not improve from 0.70844\n",
      "34/34 [==============================] - 133s 4s/step - loss: 0.2261 - categorical_accuracy: 0.9231 - val_loss: 0.9569 - val_categorical_accuracy: 0.7050 - lr: 2.0000e-04\n",
      "Epoch 19/20\n",
      "34/34 [==============================] - ETA: 0s - loss: 0.1373 - categorical_accuracy: 0.9532\n",
      "Epoch 00019: val_loss did not improve from 0.70844\n",
      "34/34 [==============================] - 129s 4s/step - loss: 0.1373 - categorical_accuracy: 0.9532 - val_loss: 0.8990 - val_categorical_accuracy: 0.7400 - lr: 2.0000e-04\n",
      "Epoch 20/20\n",
      "34/34 [==============================] - ETA: 0s - loss: 0.1201 - categorical_accuracy: 0.9585\n",
      "Epoch 00020: val_loss did not improve from 0.70844\n",
      "34/34 [==============================] - 130s 4s/step - loss: 0.1201 - categorical_accuracy: 0.9585 - val_loss: 0.9787 - val_categorical_accuracy: 0.7500 - lr: 2.0000e-04\n"
     ]
    }
   ],
   "source": [
    "history2=model2.fit(train_generator,\n",
    "                  steps_per_epoch=steps_per_epoch,\n",
    "                  epochs=num_epochs,\n",
    "                  verbose=1,\n",
    "                  callbacks=callbacks_list,\n",
    "                  validation_data=val_generator,\n",
    "                  validation_steps=validation_steps,\n",
    "                  class_weight=None,\n",
    "                  batch_size=batch_size,\n",
    "                  initial_epoch=0)"
   ]
  },
  {
   "cell_type": "code",
   "execution_count": 64,
   "metadata": {},
   "outputs": [
    {
     "data": {
      "text/plain": [
       "<Figure size 720x720 with 0 Axes>"
      ]
     },
     "metadata": {},
     "output_type": "display_data"
    },
    {
     "data": {
      "image/png": "[encoded data removed]",
      "text/plain": [
       "<Figure size 576x576 with 2 Axes>"
      ]
     },
     "metadata": {
      "needs_background": "light"
     },
     "output_type": "display_data"
    }
   ],
   "source": [
    "plot_evaluation_graph(history2)"
   ]
  },
  {
   "cell_type": "markdown",
   "metadata": {},
   "source": []
  },
  {
   "cell_type": "markdown",
   "metadata": {},
   "source": [
    "### Thrid Experiment - Conv3D with Data Augmentation and additional Layer"
   ]
  },
  {
   "cell_type": "code",
   "execution_count": 80,
   "metadata": {},
   "outputs": [],
   "source": [
    "model3 = Sequential()\n",
    "model3.add(Conv3D(8, (2, 2, 2), padding='same',\n",
    "          input_shape=input_shape))\n",
    "model3.add(Activation('relu'))\n",
    "\n",
    "model3.add(Conv3D(16, (2, 2, 2), padding='same'))\n",
    "model3.add(Activation('relu'))\n",
    "model3.add(MaxPooling3D(pool_size=(2, 2, 2)))\n",
    "\n",
    "model3.add(Conv3D(32, (2, 2, 2), padding='same'))\n",
    "model3.add(Activation('relu'))\n",
    "model3.add(MaxPooling3D(pool_size=(2, 2, 2)))\n",
    "\n",
    "model3.add(Conv3D(64, (2, 2, 2), padding='same'))\n",
    "model3.add(Activation('relu'))\n",
    "model3.add(MaxPooling3D(pool_size=(2, 2, 2)))\n",
    "\n",
    "model3.add(Conv3D(128, (2, 2, 2), padding='same'))\n",
    "model3.add(Activation('relu'))\n",
    "model3.add(MaxPooling3D(pool_size=(2, 2, 2)))\n",
    "\n",
    "model3.add(Flatten())\n",
    "model3.add(Dense(128,activation='relu'))\n",
    "model3.add(Dense(64,activation='relu'))\n",
    "\n",
    "model3.add(Dense(num_classes,activation='softmax'))"
   ]
  },
  {
   "cell_type": "code",
   "execution_count": 81,
   "metadata": {},
   "outputs": [
    {
     "name": "stdout",
     "output_type": "stream",
     "text": [
      "Steps per epoch: 34\n",
      "Validation steps: 5\n"
     ]
    }
   ],
   "source": [
    "batch_size = 20 #experiment with the batch size\n",
    "image_count = 30 # number of images to be used for each video\n",
    "num_epochs = 25 # choose the number of epochs  \n",
    "train_generator = generator(train_path, train_doc, batch_size, augment=True)\n",
    "val_generator = generator(val_path, val_doc, batch_size, augment=True)\n",
    "\n",
    "callbacks_list = create_model_config('model_3')\n",
    "steps_per_epoch, validation_steps = calculate_steps_per_epoch()\n",
    "print(f\"Steps per epoch: {steps_per_epoch}\") \n",
    "print(f\"Validation steps: {validation_steps}\")"
   ]
  },
  {
   "cell_type": "code",
   "execution_count": 82,
   "metadata": {},
   "outputs": [
    {
     "name": "stdout",
     "output_type": "stream",
     "text": [
      "Model: \"sequential_11\"\n",
      "_________________________________________________________________\n",
      " Layer (type)                Output Shape              Param #   \n",
      "=================================================================\n",
      " conv3d_25 (Conv3D)          (None, 30, 160, 160, 8)   200       \n",
      "                                                                 \n",
      " activation_25 (Activation)  (None, 30, 160, 160, 8)   0         \n",
      "                                                                 \n",
      " conv3d_26 (Conv3D)          (None, 30, 160, 160, 16)  1040      \n",
      "                                                                 \n",
      " activation_26 (Activation)  (None, 30, 160, 160, 16)  0         \n",
      "                                                                 \n",
      " max_pooling3d_24 (MaxPoolin  (None, 15, 80, 80, 16)   0         \n",
      " g3D)                                                            \n",
      "                                                                 \n",
      " conv3d_27 (Conv3D)          (None, 15, 80, 80, 32)    4128      \n",
      "                                                                 \n",
      " activation_27 (Activation)  (None, 15, 80, 80, 32)    0         \n",
      "                                                                 \n",
      " max_pooling3d_25 (MaxPoolin  (None, 7, 40, 40, 32)    0         \n",
      " g3D)                                                            \n",
      "                                                                 \n",
      " conv3d_28 (Conv3D)          (None, 7, 40, 40, 64)     16448     \n",
      "                                                                 \n",
      " activation_28 (Activation)  (None, 7, 40, 40, 64)     0         \n",
      "                                                                 \n",
      " max_pooling3d_26 (MaxPoolin  (None, 3, 20, 20, 64)    0         \n",
      " g3D)                                                            \n",
      "                                                                 \n",
      " conv3d_29 (Conv3D)          (None, 3, 20, 20, 128)    65664     \n",
      "                                                                 \n",
      " activation_29 (Activation)  (None, 3, 20, 20, 128)    0         \n",
      "                                                                 \n",
      " max_pooling3d_27 (MaxPoolin  (None, 1, 10, 10, 128)   0         \n",
      " g3D)                                                            \n",
      "                                                                 \n",
      " flatten_11 (Flatten)        (None, 12800)             0         \n",
      "                                                                 \n",
      " dense_28 (Dense)            (None, 128)               1638528   \n",
      "                                                                 \n",
      " dense_29 (Dense)            (None, 64)                8256      \n",
      "                                                                 \n",
      " dense_30 (Dense)            (None, 5)                 325       \n",
      "                                                                 \n",
      "=================================================================\n",
      "Total params: 1,734,589\n",
      "Trainable params: 1,734,589\n",
      "Non-trainable params: 0\n",
      "_________________________________________________________________\n",
      "None\n"
     ]
    }
   ],
   "source": [
    "optimiser = 'Adam' #write your optimizer\n",
    "model3.compile(optimizer=optimiser, loss='categorical_crossentropy', metrics=['categorical_accuracy'])\n",
    "print (model3.summary())"
   ]
  },
  {
   "cell_type": "code",
   "execution_count": 40,
   "metadata": {},
   "outputs": [
    {
     "name": "stdout",
     "output_type": "stream",
     "text": [
      "Source path = /datasets/Project_data/train ; batch size = 20\n",
      "Epoch 1/25\n",
      "34/34 [==============================] - ETA: 0s - loss: 1.5964 - categorical_accuracy: 0.2443Source path = /datasets/Project_data/val ; batch size = 20\n",
      "\n",
      "Epoch 00001: val_loss improved from inf to 1.59319, saving model to model_3_2024-12-3114_11_23.804348/model-00001-1.59641-0.24434-1.59319-0.39000.keras\n",
      "34/34 [==============================] - 120s 4s/step - loss: 1.5964 - categorical_accuracy: 0.2443 - val_loss: 1.5932 - val_categorical_accuracy: 0.3900 - lr: 0.0010\n",
      "Epoch 2/25\n",
      "34/34 [==============================] - ETA: 0s - loss: 1.5078 - categorical_accuracy: 0.3100\n",
      "Epoch 00002: val_loss improved from 1.59319 to 1.47162, saving model to model_3_2024-12-3114_11_23.804348/model-00002-1.50780-0.30995-1.47162-0.56500.keras\n",
      "34/34 [==============================] - 108s 3s/step - loss: 1.5078 - categorical_accuracy: 0.3100 - val_loss: 1.4716 - val_categorical_accuracy: 0.5650 - lr: 0.0010\n",
      "Epoch 3/25\n",
      "34/34 [==============================] - ETA: 0s - loss: 1.3831 - categorical_accuracy: 0.4389\n",
      "Epoch 00003: val_loss improved from 1.47162 to 1.14018, saving model to model_3_2024-12-3114_11_23.804348/model-00003-1.38310-0.43891-1.14018-0.49000.keras\n",
      "34/34 [==============================] - 107s 3s/step - loss: 1.3831 - categorical_accuracy: 0.4389 - val_loss: 1.1402 - val_categorical_accuracy: 0.4900 - lr: 0.0010\n",
      "Epoch 4/25\n",
      "34/34 [==============================] - ETA: 0s - loss: 1.2034 - categorical_accuracy: 0.4819\n",
      "Epoch 00004: val_loss did not improve from 1.14018\n",
      "34/34 [==============================] - 106s 3s/step - loss: 1.2034 - categorical_accuracy: 0.4819 - val_loss: 1.5414 - val_categorical_accuracy: 0.3450 - lr: 0.0010\n",
      "Epoch 5/25\n",
      "34/34 [==============================] - ETA: 0s - loss: 1.1016 - categorical_accuracy: 0.5460\n",
      "Epoch 00005: val_loss improved from 1.14018 to 1.00426, saving model to model_3_2024-12-3114_11_23.804348/model-00005-1.10159-0.54600-1.00426-0.58500.keras\n",
      "34/34 [==============================] - 106s 3s/step - loss: 1.1016 - categorical_accuracy: 0.5460 - val_loss: 1.0043 - val_categorical_accuracy: 0.5850 - lr: 0.0010\n",
      "Epoch 6/25\n",
      "34/34 [==============================] - ETA: 0s - loss: 1.0266 - categorical_accuracy: 0.5860\n",
      "Epoch 00006: val_loss improved from 1.00426 to 0.97631, saving model to model_3_2024-12-3114_11_23.804348/model-00006-1.02662-0.58597-0.97631-0.64500.keras\n",
      "34/34 [==============================] - 105s 3s/step - loss: 1.0266 - categorical_accuracy: 0.5860 - val_loss: 0.9763 - val_categorical_accuracy: 0.6450 - lr: 0.0010\n",
      "Epoch 7/25\n",
      "34/34 [==============================] - ETA: 0s - loss: 0.8837 - categorical_accuracy: 0.6388\n",
      "Epoch 00007: val_loss improved from 0.97631 to 0.93428, saving model to model_3_2024-12-3114_11_23.804348/model-00007-0.88372-0.63876-0.93428-0.62000.keras\n",
      "34/34 [==============================] - 106s 3s/step - loss: 0.8837 - categorical_accuracy: 0.6388 - val_loss: 0.9343 - val_categorical_accuracy: 0.6200 - lr: 0.0010\n",
      "Epoch 8/25\n",
      "34/34 [==============================] - ETA: 0s - loss: 0.7613 - categorical_accuracy: 0.6983\n",
      "Epoch 00008: val_loss improved from 0.93428 to 0.77323, saving model to model_3_2024-12-3114_11_23.804348/model-00008-0.76133-0.69834-0.77323-0.69000.keras\n",
      "34/34 [==============================] - 106s 3s/step - loss: 0.7613 - categorical_accuracy: 0.6983 - val_loss: 0.7732 - val_categorical_accuracy: 0.6900 - lr: 0.0010\n",
      "Epoch 9/25\n",
      "34/34 [==============================] - ETA: 0s - loss: 0.6573 - categorical_accuracy: 0.7353\n",
      "Epoch 00009: val_loss did not improve from 0.77323\n",
      "34/34 [==============================] - 105s 3s/step - loss: 0.6573 - categorical_accuracy: 0.7353 - val_loss: 0.8362 - val_categorical_accuracy: 0.6700 - lr: 0.0010\n",
      "Epoch 10/25\n",
      "34/34 [==============================] - ETA: 0s - loss: 0.6295 - categorical_accuracy: 0.7647\n",
      "Epoch 00010: val_loss improved from 0.77323 to 0.76984, saving model to model_3_2024-12-3114_11_23.804348/model-00010-0.62948-0.76471-0.76984-0.72500.keras\n",
      "34/34 [==============================] - 106s 3s/step - loss: 0.6295 - categorical_accuracy: 0.7647 - val_loss: 0.7698 - val_categorical_accuracy: 0.7250 - lr: 0.0010\n",
      "Epoch 11/25\n",
      "34/34 [==============================] - ETA: 0s - loss: 0.4350 - categorical_accuracy: 0.8220\n",
      "Epoch 00011: val_loss did not improve from 0.76984\n",
      "34/34 [==============================] - 106s 3s/step - loss: 0.4350 - categorical_accuracy: 0.8220 - val_loss: 0.8555 - val_categorical_accuracy: 0.6900 - lr: 0.0010\n",
      "Epoch 12/25\n",
      "34/34 [==============================] - ETA: 0s - loss: 0.3925 - categorical_accuracy: 0.8529\n",
      "Epoch 00012: val_loss improved from 0.76984 to 0.73778, saving model to model_3_2024-12-3114_11_23.804348/model-00012-0.39246-0.85294-0.73778-0.77000.keras\n",
      "34/34 [==============================] - 106s 3s/step - loss: 0.3925 - categorical_accuracy: 0.8529 - val_loss: 0.7378 - val_categorical_accuracy: 0.7700 - lr: 0.0010\n",
      "Epoch 13/25\n",
      "34/34 [==============================] - ETA: 0s - loss: 0.3494 - categorical_accuracy: 0.8537\n",
      "Epoch 00013: val_loss did not improve from 0.73778\n",
      "34/34 [==============================] - 106s 3s/step - loss: 0.3494 - categorical_accuracy: 0.8537 - val_loss: 1.1280 - val_categorical_accuracy: 0.6750 - lr: 0.0010\n",
      "Epoch 14/25\n",
      "34/34 [==============================] - ETA: 0s - loss: 0.3743 - categorical_accuracy: 0.8560\n",
      "Epoch 00014: val_loss improved from 0.73778 to 0.73280, saving model to model_3_2024-12-3114_11_23.804348/model-00014-0.37426-0.85596-0.73280-0.74500.keras\n",
      "34/34 [==============================] - 107s 3s/step - loss: 0.3743 - categorical_accuracy: 0.8560 - val_loss: 0.7328 - val_categorical_accuracy: 0.7450 - lr: 0.0010\n",
      "Epoch 15/25\n",
      "34/34 [==============================] - ETA: 0s - loss: 0.2972 - categorical_accuracy: 0.8831\n",
      "Epoch 00015: val_loss did not improve from 0.73280\n",
      "34/34 [==============================] - 107s 3s/step - loss: 0.2972 - categorical_accuracy: 0.8831 - val_loss: 0.7964 - val_categorical_accuracy: 0.7650 - lr: 0.0010\n",
      "Epoch 16/25\n",
      "34/34 [==============================] - ETA: 0s - loss: 0.2050 - categorical_accuracy: 0.9216\n",
      "Epoch 00016: val_loss did not improve from 0.73280\n",
      "34/34 [==============================] - 107s 3s/step - loss: 0.2050 - categorical_accuracy: 0.9216 - val_loss: 1.0554 - val_categorical_accuracy: 0.6900 - lr: 0.0010\n",
      "Epoch 17/25\n",
      "34/34 [==============================] - ETA: 0s - loss: 0.1590 - categorical_accuracy: 0.9397\n",
      "Epoch 00017: val_loss did not improve from 0.73280\n",
      "34/34 [==============================] - 106s 3s/step - loss: 0.1590 - categorical_accuracy: 0.9397 - val_loss: 1.1317 - val_categorical_accuracy: 0.7450 - lr: 0.0010\n",
      "Epoch 18/25\n",
      "34/34 [==============================] - ETA: 0s - loss: 0.2171 - categorical_accuracy: 0.9148\n",
      "Epoch 00018: val_loss improved from 0.73280 to 0.63865, saving model to model_3_2024-12-3114_11_23.804348/model-00018-0.21707-0.91478-0.63865-0.80500.keras\n",
      "34/34 [==============================] - 106s 3s/step - loss: 0.2171 - categorical_accuracy: 0.9148 - val_loss: 0.6386 - val_categorical_accuracy: 0.8050 - lr: 0.0010\n",
      "Epoch 19/25\n",
      "34/34 [==============================] - ETA: 0s - loss: 0.1312 - categorical_accuracy: 0.9578\n",
      "Epoch 00019: val_loss did not improve from 0.63865\n",
      "34/34 [==============================] - 107s 3s/step - loss: 0.1312 - categorical_accuracy: 0.9578 - val_loss: 1.1237 - val_categorical_accuracy: 0.6650 - lr: 0.0010\n",
      "Epoch 20/25\n",
      "34/34 [==============================] - ETA: 0s - loss: 0.1046 - categorical_accuracy: 0.9615\n",
      "Epoch 00020: val_loss did not improve from 0.63865\n",
      "34/34 [==============================] - 106s 3s/step - loss: 0.1046 - categorical_accuracy: 0.9615 - val_loss: 1.1055 - val_categorical_accuracy: 0.7050 - lr: 0.0010\n",
      "Epoch 21/25\n",
      "34/34 [==============================] - ETA: 0s - loss: 0.0861 - categorical_accuracy: 0.9713\n",
      "Epoch 00021: val_loss did not improve from 0.63865\n",
      "34/34 [==============================] - 106s 3s/step - loss: 0.0861 - categorical_accuracy: 0.9713 - val_loss: 1.2617 - val_categorical_accuracy: 0.6950 - lr: 0.0010\n",
      "Epoch 22/25\n",
      "34/34 [==============================] - ETA: 0s - loss: 0.1267 - categorical_accuracy: 0.9517\n",
      "Epoch 00022: val_loss did not improve from 0.63865\n",
      "34/34 [==============================] - 106s 3s/step - loss: 0.1267 - categorical_accuracy: 0.9517 - val_loss: 1.0942 - val_categorical_accuracy: 0.7250 - lr: 0.0010\n",
      "Epoch 23/25\n",
      "34/34 [==============================] - ETA: 0s - loss: 0.0749 - categorical_accuracy: 0.9751\n",
      "Epoch 00023: val_loss did not improve from 0.63865\n",
      "\n",
      "Epoch 00023: ReduceLROnPlateau reducing learning rate to 0.00020000000949949026.\n",
      "34/34 [==============================] - 107s 3s/step - loss: 0.0749 - categorical_accuracy: 0.9751 - val_loss: 1.5998 - val_categorical_accuracy: 0.6700 - lr: 0.0010\n",
      "Epoch 24/25\n",
      "34/34 [==============================] - ETA: 0s - loss: 0.0362 - categorical_accuracy: 0.9917\n",
      "Epoch 00024: val_loss did not improve from 0.63865\n",
      "34/34 [==============================] - 106s 3s/step - loss: 0.0362 - categorical_accuracy: 0.9917 - val_loss: 1.1855 - val_categorical_accuracy: 0.7150 - lr: 2.0000e-04\n",
      "Epoch 25/25\n",
      "34/34 [==============================] - ETA: 0s - loss: 0.0318 - categorical_accuracy: 0.9902\n",
      "Epoch 00025: val_loss did not improve from 0.63865\n",
      "34/34 [==============================] - 106s 3s/step - loss: 0.0318 - categorical_accuracy: 0.9902 - val_loss: 1.7731 - val_categorical_accuracy: 0.6650 - lr: 2.0000e-04\n"
     ]
    }
   ],
   "source": [
    "# history = model.fit_generator(train_generator, steps_per_epoch=steps_per_epoch, epochs=num_epochs, verbose=1, \n",
    "#                     callbacks=callbacks_list, validation_data=val_generator, \n",
    "#                     validation_steps=validation_steps, class_weight=None, workers=4, initial_epoch=0,max_queue_size=20)\n",
    "\n",
    "# fit_generator is deprecated and will be removed in a future version. Using fit which supports generators.\n",
    "history3=model3.fit(train_generator,\n",
    "                  steps_per_epoch=steps_per_epoch,\n",
    "                  epochs=num_epochs,\n",
    "                  verbose=1,\n",
    "                  callbacks=callbacks_list,\n",
    "                  validation_data=val_generator,\n",
    "                  validation_steps=validation_steps,\n",
    "                  class_weight=None,\n",
    "                  batch_size=batch_size,\n",
    "                  initial_epoch=0)"
   ]
  },
  {
   "cell_type": "code",
   "execution_count": 41,
   "metadata": {},
   "outputs": [
    {
     "data": {
      "text/plain": [
       "<Figure size 720x720 with 0 Axes>"
      ]
     },
     "metadata": {},
     "output_type": "display_data"
    },
    {
     "data": {
      "image/png": "[encoded data removed]",
      "text/plain": [
       "<Figure size 576x576 with 2 Axes>"
      ]
     },
     "metadata": {
      "needs_background": "light"
     },
     "output_type": "display_data"
    }
   ],
   "source": [
    "plot_evaluation_graph(history3)"
   ]
  },
  {
   "cell_type": "markdown",
   "metadata": {},
   "source": [
    "### Fouth Experiment - CNN 2D and RNN (LSTM) with Data Augmentation"
   ]
  },
  {
   "cell_type": "code",
   "execution_count": 84,
   "metadata": {},
   "outputs": [],
   "source": [
    "model4 = Sequential()\n",
    "model4.add(TimeDistributed(Conv2D(8, (3,3), padding='same',activation='relu'),\n",
    "         input_shape=(20,160,160,3)))\n",
    "model4.add(TimeDistributed(BatchNormalization()))\n",
    "model4.add(TimeDistributed(MaxPooling2D((2, 2))))\n",
    "\n",
    "model4.add(TimeDistributed(Conv2D(16, (3,3), padding='same',activation='relu')))\n",
    "model4.add(TimeDistributed(BatchNormalization()))\n",
    "model4.add(TimeDistributed(MaxPooling2D((2, 2))))\n",
    "\n",
    "model4.add(TimeDistributed(Conv2D(32, (3,3), padding='same',activation='relu')))\n",
    "model4.add(TimeDistributed(BatchNormalization()))\n",
    "model4.add(TimeDistributed(MaxPooling2D((2, 2))))\n",
    "\n",
    "model4.add(TimeDistributed(Conv2D(64, (3,3), padding='same',activation='relu')))\n",
    "model4.add(TimeDistributed(BatchNormalization()))\n",
    "model4.add(TimeDistributed(MaxPooling2D((2, 2))))\n",
    "\n",
    "model4.add(TimeDistributed(Conv2D(128, (3,3), padding='same',activation='relu')))\n",
    "model4.add(TimeDistributed(BatchNormalization()))\n",
    "model4.add(TimeDistributed(MaxPooling2D((2, 2))))\n",
    "\n",
    "model4.add(TimeDistributed(Flatten()))\n",
    "\n",
    "model4.add(LSTM(128))\n",
    "model4.add(Dropout(0.5))\n",
    "\n",
    "model4.add(Dense(128,activation='relu'))\n",
    "model4.add(Dropout(0.5))\n",
    "\n",
    "model4.add(Dense(num_classes,activation='softmax'))\n"
   ]
  },
  {
   "cell_type": "code",
   "execution_count": 85,
   "metadata": {},
   "outputs": [
    {
     "name": "stdout",
     "output_type": "stream",
     "text": [
      "Steps per epoch: 34\n",
      "Validation steps: 5\n"
     ]
    }
   ],
   "source": [
    "batch_size = 20 #experiment with the batch size\n",
    "image_count = 30 # number of images to be used for each video\n",
    "num_epochs = 25 # choose the number of epochs  \n",
    "train_generator = generator(train_path, train_doc, batch_size, augment=True)\n",
    "val_generator = generator(val_path, val_doc, batch_size, augment=True)\n",
    "\n",
    "callbacks_list = create_model_config('model_4')\n",
    "steps_per_epoch, validation_steps = calculate_steps_per_epoch()\n",
    "print(f\"Steps per epoch: {steps_per_epoch}\") \n",
    "print(f\"Validation steps: {validation_steps}\")"
   ]
  },
  {
   "cell_type": "code",
   "execution_count": 86,
   "metadata": {
    "scrolled": true
   },
   "outputs": [
    {
     "name": "stdout",
     "output_type": "stream",
     "text": [
      "Model: \"sequential_12\"\n",
      "_________________________________________________________________\n",
      " Layer (type)                Output Shape              Param #   \n",
      "=================================================================\n",
      " time_distributed_39 (TimeDi  (None, 20, 160, 160, 8)  224       \n",
      " stributed)                                                      \n",
      "                                                                 \n",
      " time_distributed_40 (TimeDi  (None, 20, 160, 160, 8)  32        \n",
      " stributed)                                                      \n",
      "                                                                 \n",
      " time_distributed_41 (TimeDi  (None, 20, 80, 80, 8)    0         \n",
      " stributed)                                                      \n",
      "                                                                 \n",
      " time_distributed_42 (TimeDi  (None, 20, 80, 80, 16)   1168      \n",
      " stributed)                                                      \n",
      "                                                                 \n",
      " time_distributed_43 (TimeDi  (None, 20, 80, 80, 16)   64        \n",
      " stributed)                                                      \n",
      "                                                                 \n",
      " time_distributed_44 (TimeDi  (None, 20, 40, 40, 16)   0         \n",
      " stributed)                                                      \n",
      "                                                                 \n",
      " time_distributed_45 (TimeDi  (None, 20, 40, 40, 32)   4640      \n",
      " stributed)                                                      \n",
      "                                                                 \n",
      " time_distributed_46 (TimeDi  (None, 20, 40, 40, 32)   128       \n",
      " stributed)                                                      \n",
      "                                                                 \n",
      " time_distributed_47 (TimeDi  (None, 20, 20, 20, 32)   0         \n",
      " stributed)                                                      \n",
      "                                                                 \n",
      " time_distributed_48 (TimeDi  (None, 20, 20, 20, 64)   18496     \n",
      " stributed)                                                      \n",
      "                                                                 \n",
      " time_distributed_49 (TimeDi  (None, 20, 20, 20, 64)   256       \n",
      " stributed)                                                      \n",
      "                                                                 \n",
      " time_distributed_50 (TimeDi  (None, 20, 10, 10, 64)   0         \n",
      " stributed)                                                      \n",
      "                                                                 \n",
      " time_distributed_51 (TimeDi  (None, 20, 10, 10, 128)  73856     \n",
      " stributed)                                                      \n",
      "                                                                 \n",
      " time_distributed_52 (TimeDi  (None, 20, 10, 10, 128)  512       \n",
      " stributed)                                                      \n",
      "                                                                 \n",
      " time_distributed_53 (TimeDi  (None, 20, 5, 5, 128)    0         \n",
      " stributed)                                                      \n",
      "                                                                 \n",
      " time_distributed_54 (TimeDi  (None, 20, 3200)         0         \n",
      " stributed)                                                      \n",
      "                                                                 \n",
      " lstm_1 (LSTM)               (None, 128)               1704448   \n",
      "                                                                 \n",
      " dropout_10 (Dropout)        (None, 128)               0         \n",
      "                                                                 \n",
      " dense_31 (Dense)            (None, 128)               16512     \n",
      "                                                                 \n",
      " dropout_11 (Dropout)        (None, 128)               0         \n",
      "                                                                 \n",
      " dense_32 (Dense)            (None, 5)                 645       \n",
      "                                                                 \n",
      "=================================================================\n",
      "Total params: 1,820,981\n",
      "Trainable params: 1,820,485\n",
      "Non-trainable params: 496\n",
      "_________________________________________________________________\n",
      "None\n"
     ]
    }
   ],
   "source": [
    "optimiser = 'Adam' #write your optimizer\n",
    "model4.compile(optimizer=optimiser, loss='categorical_crossentropy', metrics=['categorical_accuracy'])\n",
    "print (model4.summary())"
   ]
  },
  {
   "cell_type": "code",
   "execution_count": 91,
   "metadata": {},
   "outputs": [
    {
     "name": "stdout",
     "output_type": "stream",
     "text": [
      "Source path = /datasets/Project_data/train ; batch size = 20\n",
      "Epoch 1/15\n",
      "34/34 [==============================] - ETA: 0s - loss: 1.5939 - categorical_accuracy: 0.2964Source path = /datasets/Project_data/val ; batch size = 20\n",
      "\n",
      "Epoch 00001: val_loss improved from inf to 1.87033, saving model to model_5_2024-12-3114_11_23.804348/model-00001-1.59393-0.29638-1.87033-0.18000.keras\n",
      "34/34 [==============================] - 142s 4s/step - loss: 1.5939 - categorical_accuracy: 0.2964 - val_loss: 1.8703 - val_categorical_accuracy: 0.1800 - lr: 0.0010\n",
      "Epoch 2/15\n",
      "33/34 [============================>.] - ETA: 3s - loss: 1.2921 - categorical_accuracy: 0.4477\n",
      "Epoch 00002: val_loss improved from 1.87033 to 1.68093, saving model to model_5_2024-12-3114_11_23.804348/model-00002-1.29129-0.44796-1.68093-0.16500.keras\n",
      "34/34 [==============================] - 134s 4s/step - loss: 1.2913 - categorical_accuracy: 0.4480 - val_loss: 1.6809 - val_categorical_accuracy: 0.1650 - lr: 0.0010\n",
      "Epoch 3/15\n",
      "34/34 [==============================] - ETA: 0s - loss: 1.1356 - categorical_accuracy: 0.5204\n",
      "Epoch 00003: val_loss did not improve from 1.68093\n",
      "34/34 [==============================] - 132s 4s/step - loss: 1.1356 - categorical_accuracy: 0.5204 - val_loss: 1.7410 - val_categorical_accuracy: 0.3000 - lr: 0.0010\n",
      "Epoch 4/15\n",
      "34/34 [==============================] - ETA: 0s - loss: 1.1384 - categorical_accuracy: 0.5256\n",
      "Epoch 00004: val_loss did not improve from 1.68093\n",
      "34/34 [==============================] - 132s 4s/step - loss: 1.1384 - categorical_accuracy: 0.5256 - val_loss: 2.0158 - val_categorical_accuracy: 0.2100 - lr: 0.0010\n",
      "Epoch 5/15\n",
      "34/34 [==============================] - ETA: 0s - loss: 1.0156 - categorical_accuracy: 0.5814\n",
      "Epoch 00005: val_loss did not improve from 1.68093\n",
      "34/34 [==============================] - 134s 4s/step - loss: 1.0156 - categorical_accuracy: 0.5814 - val_loss: 2.8262 - val_categorical_accuracy: 0.1700 - lr: 0.0010\n",
      "Epoch 6/15\n",
      "34/34 [==============================] - ETA: 0s - loss: 1.0400 - categorical_accuracy: 0.5860\n",
      "Epoch 00006: val_loss did not improve from 1.68093\n",
      "34/34 [==============================] - 135s 4s/step - loss: 1.0400 - categorical_accuracy: 0.5860 - val_loss: 2.3850 - val_categorical_accuracy: 0.1600 - lr: 0.0010\n",
      "Epoch 7/15\n",
      "34/34 [==============================] - ETA: 0s - loss: 0.8903 - categorical_accuracy: 0.6463\n",
      "Epoch 00007: val_loss did not improve from 1.68093\n",
      "\n",
      "Epoch 00007: ReduceLROnPlateau reducing learning rate to 0.00020000000949949026.\n",
      "34/34 [==============================] - 133s 4s/step - loss: 0.8903 - categorical_accuracy: 0.6463 - val_loss: 2.3184 - val_categorical_accuracy: 0.1500 - lr: 0.0010\n",
      "Epoch 8/15\n",
      "34/34 [==============================] - ETA: 0s - loss: 0.7702 - categorical_accuracy: 0.6908\n",
      "Epoch 00008: val_loss did not improve from 1.68093\n",
      "34/34 [==============================] - 133s 4s/step - loss: 0.7702 - categorical_accuracy: 0.6908 - val_loss: 2.1919 - val_categorical_accuracy: 0.2100 - lr: 2.0000e-04\n",
      "Epoch 9/15\n",
      "34/34 [==============================] - ETA: 0s - loss: 0.6904 - categorical_accuracy: 0.7270\n",
      "Epoch 00009: val_loss did not improve from 1.68093\n",
      "34/34 [==============================] - 133s 4s/step - loss: 0.6904 - categorical_accuracy: 0.7270 - val_loss: 2.2043 - val_categorical_accuracy: 0.2100 - lr: 2.0000e-04\n",
      "Epoch 10/15\n",
      "34/34 [==============================] - ETA: 0s - loss: 0.6798 - categorical_accuracy: 0.7406\n",
      "Epoch 00010: val_loss did not improve from 1.68093\n",
      "34/34 [==============================] - 134s 4s/step - loss: 0.6798 - categorical_accuracy: 0.7406 - val_loss: 2.1443 - val_categorical_accuracy: 0.2150 - lr: 2.0000e-04\n",
      "Epoch 11/15\n",
      "34/34 [==============================] - ETA: 0s - loss: 0.6311 - categorical_accuracy: 0.7760\n",
      "Epoch 00011: val_loss did not improve from 1.68093\n",
      "34/34 [==============================] - 134s 4s/step - loss: 0.6311 - categorical_accuracy: 0.7760 - val_loss: 2.2516 - val_categorical_accuracy: 0.2100 - lr: 2.0000e-04\n",
      "Epoch 12/15\n",
      "34/34 [==============================] - ETA: 0s - loss: 0.5992 - categorical_accuracy: 0.7730\n",
      "Epoch 00012: val_loss did not improve from 1.68093\n",
      "\n",
      "Epoch 00012: ReduceLROnPlateau reducing learning rate to 4.0000001899898055e-05.\n",
      "Restoring model weights from the end of the best epoch: 2.\n",
      "34/34 [==============================] - 137s 4s/step - loss: 0.5992 - categorical_accuracy: 0.7730 - val_loss: 2.2100 - val_categorical_accuracy: 0.2250 - lr: 2.0000e-04\n",
      "Epoch 00012: early stopping\n"
     ]
    }
   ],
   "source": [
    "history4=model4.fit(train_generator,\n",
    "                  steps_per_epoch=steps_per_epoch,\n",
    "                  epochs=num_epochs,\n",
    "                  verbose=1,\n",
    "                  callbacks=callbacks_list,\n",
    "                  validation_data=val_generator,\n",
    "                  validation_steps=validation_steps,\n",
    "                  class_weight=None,\n",
    "                  batch_size=batch_size,\n",
    "                  initial_epoch=0)"
   ]
  },
  {
   "cell_type": "code",
   "execution_count": 93,
   "metadata": {},
   "outputs": [
    {
     "data": {
      "text/plain": [
       "<Figure size 720x720 with 0 Axes>"
      ]
     },
     "metadata": {},
     "output_type": "display_data"
    },
    {
     "data": {
      "image/png": "[encoded data removed]",
      "text/plain": [
       "<Figure size 576x576 with 2 Axes>"
      ]
     },
     "metadata": {
      "needs_background": "light"
     },
     "output_type": "display_data"
    }
   ],
   "source": [
    "plot_evaluation_graph(history4)"
   ]
  },
  {
   "cell_type": "code",
   "execution_count": null,
   "metadata": {},
   "outputs": [],
   "source": []
  },
  {
   "cell_type": "markdown",
   "metadata": {},
   "source": [
    "### Fifth Experiment - CNN 2D and GRU with Data Augmentation"
   ]
  },
  {
   "cell_type": "code",
   "execution_count": 88,
   "metadata": {},
   "outputs": [],
   "source": [
    "model5 = Sequential()\n",
    "model5.add(TimeDistributed(Conv2D(8, (3,3), padding='same', activation='relu'), input_shape=(20,160,160,3)))\n",
    "\n",
    "model5.add(TimeDistributed(Conv2D(16, (3, 3), padding='same', activation='relu')))\n",
    "model5.add(TimeDistributed(BatchNormalization()))\n",
    "model5.add(TimeDistributed(MaxPooling2D((2, 2))))\n",
    "\n",
    "model5.add(TimeDistributed(Conv2D(32, (3, 3), padding='same', activation='relu')))\n",
    "model5.add(TimeDistributed(BatchNormalization()))\n",
    "model5.add(TimeDistributed(MaxPooling2D((2, 2))))\n",
    "\n",
    "model5.add(TimeDistributed(Conv2D(64, (3, 3), padding='same', activation='relu')))\n",
    "model5.add(TimeDistributed(BatchNormalization()))\n",
    "model5.add(TimeDistributed(MaxPooling2D((2, 2))))\n",
    "\n",
    "model5.add(TimeDistributed(Conv2D(128, (3, 3), padding='same', activation='relu')))\n",
    "model5.add(TimeDistributed(BatchNormalization()))\n",
    "model5.add(TimeDistributed(MaxPooling2D((2, 2))))\n",
    "\n",
    "model5.add(TimeDistributed(Flatten()))\n",
    "\n",
    "model5.add(GRU(128))\n",
    "model5.add(Dropout(0.5))\n",
    "\n",
    "model5.add(Dense(128, activation='relu'))\n",
    "model5.add(Dropout(0.5))\n",
    "\n",
    "model5.add(Dense(num_classes, activation='softmax'))\n"
   ]
  },
  {
   "cell_type": "code",
   "execution_count": 89,
   "metadata": {},
   "outputs": [
    {
     "name": "stdout",
     "output_type": "stream",
     "text": [
      "Steps per epoch: 34\n",
      "Validation steps: 5\n"
     ]
    }
   ],
   "source": [
    "batch_size = 20 #experiment with the batch size\n",
    "image_count = 30 # number of images to be used for each video\n",
    "num_epochs = 15 # choose the number of epochs  \n",
    "train_generator = generator(train_path, train_doc, batch_size, augment=True)\n",
    "val_generator = generator(val_path, val_doc, batch_size, augment=True)\n",
    "\n",
    "callbacks_list = create_model_config('model_5')\n",
    "steps_per_epoch, validation_steps = calculate_steps_per_epoch()\n",
    "print(f\"Steps per epoch: {steps_per_epoch}\") \n",
    "print(f\"Validation steps: {validation_steps}\")"
   ]
  },
  {
   "cell_type": "code",
   "execution_count": 90,
   "metadata": {
    "scrolled": true
   },
   "outputs": [
    {
     "name": "stdout",
     "output_type": "stream",
     "text": [
      "Model: \"sequential_13\"\n",
      "_________________________________________________________________\n",
      " Layer (type)                Output Shape              Param #   \n",
      "=================================================================\n",
      " time_distributed_55 (TimeDi  (None, 20, 160, 160, 8)  224       \n",
      " stributed)                                                      \n",
      "                                                                 \n",
      " time_distributed_56 (TimeDi  (None, 20, 160, 160, 16)  1168     \n",
      " stributed)                                                      \n",
      "                                                                 \n",
      " time_distributed_57 (TimeDi  (None, 20, 160, 160, 16)  64       \n",
      " stributed)                                                      \n",
      "                                                                 \n",
      " time_distributed_58 (TimeDi  (None, 20, 80, 80, 16)   0         \n",
      " stributed)                                                      \n",
      "                                                                 \n",
      " time_distributed_59 (TimeDi  (None, 20, 80, 80, 32)   4640      \n",
      " stributed)                                                      \n",
      "                                                                 \n",
      " time_distributed_60 (TimeDi  (None, 20, 80, 80, 32)   128       \n",
      " stributed)                                                      \n",
      "                                                                 \n",
      " time_distributed_61 (TimeDi  (None, 20, 40, 40, 32)   0         \n",
      " stributed)                                                      \n",
      "                                                                 \n",
      " time_distributed_62 (TimeDi  (None, 20, 40, 40, 64)   18496     \n",
      " stributed)                                                      \n",
      "                                                                 \n",
      " time_distributed_63 (TimeDi  (None, 20, 40, 40, 64)   256       \n",
      " stributed)                                                      \n",
      "                                                                 \n",
      " time_distributed_64 (TimeDi  (None, 20, 20, 20, 64)   0         \n",
      " stributed)                                                      \n",
      "                                                                 \n",
      " time_distributed_65 (TimeDi  (None, 20, 20, 20, 128)  73856     \n",
      " stributed)                                                      \n",
      "                                                                 \n",
      " time_distributed_66 (TimeDi  (None, 20, 20, 20, 128)  512       \n",
      " stributed)                                                      \n",
      "                                                                 \n",
      " time_distributed_67 (TimeDi  (None, 20, 10, 10, 128)  0         \n",
      " stributed)                                                      \n",
      "                                                                 \n",
      " time_distributed_68 (TimeDi  (None, 20, 12800)        0         \n",
      " stributed)                                                      \n",
      "                                                                 \n",
      " gru_4 (GRU)                 (None, 128)               4965120   \n",
      "                                                                 \n",
      " dropout_12 (Dropout)        (None, 128)               0         \n",
      "                                                                 \n",
      " dense_33 (Dense)            (None, 128)               16512     \n",
      "                                                                 \n",
      " dropout_13 (Dropout)        (None, 128)               0         \n",
      "                                                                 \n",
      " dense_34 (Dense)            (None, 5)                 645       \n",
      "                                                                 \n",
      "=================================================================\n",
      "Total params: 5,081,621\n",
      "Trainable params: 5,081,141\n",
      "Non-trainable params: 480\n",
      "_________________________________________________________________\n",
      "None\n"
     ]
    }
   ],
   "source": [
    "optimiser = 'Adam' #write your optimizer\n",
    "model5.compile(optimizer=optimiser, loss='categorical_crossentropy', metrics=['categorical_accuracy'])\n",
    "print (model5.summary())"
   ]
  },
  {
   "cell_type": "code",
   "execution_count": 50,
   "metadata": {},
   "outputs": [
    {
     "name": "stdout",
     "output_type": "stream",
     "text": [
      "Source path = /datasets/Project_data/train ; batch size = 20\n",
      "Epoch 1/15\n",
      "34/34 [==============================] - ETA: 0s - loss: 1.8148 - categorical_accuracy: 0.2715Source path = /datasets/Project_data/val ; batch size = 20\n",
      "\n",
      "Epoch 00001: val_loss improved from inf to 2.87839, saving model to model_5_2024-12-3114_11_23.804348/model-00001-1.81484-0.27149-2.87839-0.18000.keras\n",
      "34/34 [==============================] - 110s 3s/step - loss: 1.8148 - categorical_accuracy: 0.2715 - val_loss: 2.8784 - val_categorical_accuracy: 0.1800 - lr: 0.0010\n",
      "Epoch 2/15\n",
      "34/34 [==============================] - ETA: 0s - loss: 1.5637 - categorical_accuracy: 0.3152\n",
      "Epoch 00002: val_loss improved from 2.87839 to 2.60284, saving model to model_5_2024-12-3114_11_23.804348/model-00002-1.56374-0.31523-2.60284-0.17000.keras\n",
      "34/34 [==============================] - 106s 3s/step - loss: 1.5637 - categorical_accuracy: 0.3152 - val_loss: 2.6028 - val_categorical_accuracy: 0.1700 - lr: 0.0010\n",
      "Epoch 3/15\n",
      "34/34 [==============================] - ETA: 0s - loss: 1.4285 - categorical_accuracy: 0.3725\n",
      "Epoch 00003: val_loss improved from 2.60284 to 2.28484, saving model to model_5_2024-12-3114_11_23.804348/model-00003-1.42855-0.37255-2.28484-0.21000.keras\n",
      "34/34 [==============================] - 106s 3s/step - loss: 1.4285 - categorical_accuracy: 0.3725 - val_loss: 2.2848 - val_categorical_accuracy: 0.2100 - lr: 0.0010\n",
      "Epoch 4/15\n",
      "34/34 [==============================] - ETA: 0s - loss: 1.3192 - categorical_accuracy: 0.4253\n",
      "Epoch 00004: val_loss did not improve from 2.28484\n",
      "34/34 [==============================] - 106s 3s/step - loss: 1.3192 - categorical_accuracy: 0.4253 - val_loss: 2.6224 - val_categorical_accuracy: 0.1600 - lr: 0.0010\n",
      "Epoch 5/15\n",
      "34/34 [==============================] - ETA: 0s - loss: 1.3044 - categorical_accuracy: 0.4125\n",
      "Epoch 00005: val_loss did not improve from 2.28484\n",
      "34/34 [==============================] - 107s 3s/step - loss: 1.3044 - categorical_accuracy: 0.4125 - val_loss: 2.8491 - val_categorical_accuracy: 0.2600 - lr: 0.0010\n",
      "Epoch 6/15\n",
      "34/34 [==============================] - ETA: 0s - loss: 1.2395 - categorical_accuracy: 0.4517\n",
      "Epoch 00006: val_loss did not improve from 2.28484\n",
      "34/34 [==============================] - 107s 3s/step - loss: 1.2395 - categorical_accuracy: 0.4517 - val_loss: 2.3069 - val_categorical_accuracy: 0.2300 - lr: 0.0010\n",
      "Epoch 7/15\n",
      "34/34 [==============================] - ETA: 0s - loss: 1.2248 - categorical_accuracy: 0.4691\n",
      "Epoch 00007: val_loss did not improve from 2.28484\n",
      "34/34 [==============================] - 107s 3s/step - loss: 1.2248 - categorical_accuracy: 0.4691 - val_loss: 2.3131 - val_categorical_accuracy: 0.2200 - lr: 0.0010\n",
      "Epoch 8/15\n",
      "34/34 [==============================] - ETA: 0s - loss: 1.1918 - categorical_accuracy: 0.4872\n",
      "Epoch 00008: val_loss improved from 2.28484 to 2.08369, saving model to model_5_2024-12-3114_11_23.804348/model-00008-1.19183-0.48718-2.08369-0.17000.keras\n",
      "34/34 [==============================] - 107s 3s/step - loss: 1.1918 - categorical_accuracy: 0.4872 - val_loss: 2.0837 - val_categorical_accuracy: 0.1700 - lr: 0.0010\n",
      "Epoch 9/15\n",
      "34/34 [==============================] - ETA: 0s - loss: 1.1348 - categorical_accuracy: 0.5241\n",
      "Epoch 00009: val_loss improved from 2.08369 to 2.06714, saving model to model_5_2024-12-3114_11_23.804348/model-00009-1.13484-0.52413-2.06714-0.17500.keras\n",
      "34/34 [==============================] - 106s 3s/step - loss: 1.1348 - categorical_accuracy: 0.5241 - val_loss: 2.0671 - val_categorical_accuracy: 0.1750 - lr: 0.0010\n",
      "Epoch 10/15\n",
      "34/34 [==============================] - ETA: 0s - loss: 1.1093 - categorical_accuracy: 0.5339\n",
      "Epoch 00010: val_loss improved from 2.06714 to 1.94630, saving model to model_5_2024-12-3114_11_23.804348/model-00010-1.10933-0.53394-1.94630-0.33000.keras\n",
      "34/34 [==============================] - 108s 3s/step - loss: 1.1093 - categorical_accuracy: 0.5339 - val_loss: 1.9463 - val_categorical_accuracy: 0.3300 - lr: 0.0010\n",
      "Epoch 11/15\n",
      "34/34 [==============================] - ETA: 0s - loss: 1.0581 - categorical_accuracy: 0.5649\n",
      "Epoch 00011: val_loss did not improve from 1.94630\n",
      "34/34 [==============================] - 107s 3s/step - loss: 1.0581 - categorical_accuracy: 0.5649 - val_loss: 1.9587 - val_categorical_accuracy: 0.2350 - lr: 0.0010\n",
      "Epoch 12/15\n",
      "34/34 [==============================] - ETA: 0s - loss: 1.0181 - categorical_accuracy: 0.5890\n",
      "Epoch 00012: val_loss improved from 1.94630 to 1.79265, saving model to model_5_2024-12-3114_11_23.804348/model-00012-1.01812-0.58899-1.79265-0.26500.keras\n",
      "34/34 [==============================] - 106s 3s/step - loss: 1.0181 - categorical_accuracy: 0.5890 - val_loss: 1.7927 - val_categorical_accuracy: 0.2650 - lr: 0.0010\n",
      "Epoch 13/15\n",
      "34/34 [==============================] - ETA: 0s - loss: 0.9571 - categorical_accuracy: 0.6169\n",
      "Epoch 00013: val_loss improved from 1.79265 to 1.76904, saving model to model_5_2024-12-3114_11_23.804348/model-00013-0.95710-0.61689-1.76904-0.28000.keras\n",
      "34/34 [==============================] - 108s 3s/step - loss: 0.9571 - categorical_accuracy: 0.6169 - val_loss: 1.7690 - val_categorical_accuracy: 0.2800 - lr: 0.0010\n",
      "Epoch 14/15\n",
      "34/34 [==============================] - ETA: 0s - loss: 0.9453 - categorical_accuracy: 0.6048\n",
      "Epoch 00014: val_loss improved from 1.76904 to 1.57672, saving model to model_5_2024-12-3114_11_23.804348/model-00014-0.94529-0.60483-1.57672-0.39000.keras\n",
      "34/34 [==============================] - 106s 3s/step - loss: 0.9453 - categorical_accuracy: 0.6048 - val_loss: 1.5767 - val_categorical_accuracy: 0.3900 - lr: 0.0010\n",
      "Epoch 15/15\n",
      "34/34 [==============================] - ETA: 0s - loss: 0.9754 - categorical_accuracy: 0.6071\n",
      "Epoch 00015: val_loss improved from 1.57672 to 1.44354, saving model to model_5_2024-12-3114_11_23.804348/model-00015-0.97538-0.60709-1.44354-0.40500.keras\n",
      "34/34 [==============================] - 108s 3s/step - loss: 0.9754 - categorical_accuracy: 0.6071 - val_loss: 1.4435 - val_categorical_accuracy: 0.4050 - lr: 0.0010\n"
     ]
    }
   ],
   "source": [
    "# history = model.fit_generator(train_generator, steps_per_epoch=steps_per_epoch, epochs=num_epochs, verbose=1, \n",
    "#                     callbacks=callbacks_list, validation_data=val_generator, \n",
    "#                     validation_steps=validation_steps, class_weight=None, workers=4, initial_epoch=0,max_queue_size=20)\n",
    "\n",
    "# fit_generator is deprecated and will be removed in a future version. Using fit which supports generators.\n",
    "history5=model5.fit(train_generator,\n",
    "                  steps_per_epoch=steps_per_epoch,\n",
    "                  epochs=num_epochs,\n",
    "                  verbose=1,\n",
    "                  callbacks=callbacks_list,\n",
    "                  validation_data=val_generator,\n",
    "                  validation_steps=validation_steps,\n",
    "                  class_weight=None,\n",
    "                  batch_size=batch_size,\n",
    "                  initial_epoch=0)"
   ]
  },
  {
   "cell_type": "code",
   "execution_count": 53,
   "metadata": {},
   "outputs": [
    {
     "data": {
      "text/plain": [
       "<Figure size 720x720 with 0 Axes>"
      ]
     },
     "metadata": {},
     "output_type": "display_data"
    },
    {
     "data": {
      "image/png": "[encoded data removed]",
      "text/plain": [
       "<Figure size 576x576 with 2 Axes>"
      ]
     },
     "metadata": {
      "needs_background": "light"
     },
     "output_type": "display_data"
    }
   ],
   "source": [
    "plot_evaluation_graph(history5)"
   ]
  },
  {
   "cell_type": "markdown",
   "metadata": {},
   "source": [
    "### Sixth Experiment -   Transfer Learning with MobileNet pre trained model with Data Augmentation"
   ]
  },
  {
   "cell_type": "code",
   "execution_count": 72,
   "metadata": {},
   "outputs": [
    {
     "name": "stdout",
     "output_type": "stream",
     "text": [
      "WARNING:tensorflow:`input_shape` is undefined or non-square, or `rows` is not in [128, 160, 192, 224]. Weights for input shape (224, 224) will be loaded as the default.\n"
     ]
    }
   ],
   "source": [
    "from keras.applications import mobilenet\n",
    "\n",
    "model6 = Sequential()\n",
    "model6.add(TimeDistributed(mobilenet.MobileNet(weights='imagenet', include_top=False),input_shape=(20,160,160,3), name='mobilenet', trainable=False))\n",
    "model6.add(TimeDistributed(BatchNormalization())) \n",
    "model6.add(TimeDistributed(MaxPooling2D((2, 2))))\n",
    "\n",
    "model6.add(TimeDistributed(Flatten()))\n",
    "\n",
    "model6.add(GRU(128)) \n",
    "model6.add(Dropout(0.5))\n",
    "\n",
    "model6.add(Dense(128,activation='relu')) \n",
    "model6.add(Dropout(0.5)) \n",
    "model6.add(Dense(num_classes, activation='softmax'))\n"
   ]
  },
  {
   "cell_type": "code",
   "execution_count": 73,
   "metadata": {},
   "outputs": [
    {
     "name": "stdout",
     "output_type": "stream",
     "text": [
      "Steps per epoch: 34\n",
      "Validation steps: 5\n"
     ]
    }
   ],
   "source": [
    "batch_size = 20 #experiment with the batch size\n",
    "image_count = 30 # number of images to be used for each video\n",
    "num_epochs = 25 # choose the number of epochs  \n",
    "train_generator = generator(train_path, train_doc, batch_size, augment=True)\n",
    "val_generator = generator(val_path, val_doc, batch_size, augment=True)\n",
    "\n",
    "callbacks_list = create_model_config('model_6')\n",
    "steps_per_epoch, validation_steps = calculate_steps_per_epoch()\n",
    "print(f\"Steps per epoch: {steps_per_epoch}\") \n",
    "print(f\"Validation steps: {validation_steps}\")"
   ]
  },
  {
   "cell_type": "code",
   "execution_count": 74,
   "metadata": {
    "scrolled": true
   },
   "outputs": [
    {
     "name": "stdout",
     "output_type": "stream",
     "text": [
      "Model: \"sequential_5\"\n",
      "_________________________________________________________________\n",
      " Layer (type)                Output Shape              Param #   \n",
      "=================================================================\n",
      " time_distributed_16 (TimeDi  (None, 20, 160, 160, 8)  224       \n",
      " stributed)                                                      \n",
      "                                                                 \n",
      " time_distributed_17 (TimeDi  (None, 20, 160, 160, 16)  1168     \n",
      " stributed)                                                      \n",
      "                                                                 \n",
      " time_distributed_18 (TimeDi  (None, 20, 160, 160, 16)  64       \n",
      " stributed)                                                      \n",
      "                                                                 \n",
      " time_distributed_19 (TimeDi  (None, 20, 80, 80, 16)   0         \n",
      " stributed)                                                      \n",
      "                                                                 \n",
      " time_distributed_20 (TimeDi  (None, 20, 80, 80, 32)   4640      \n",
      " stributed)                                                      \n",
      "                                                                 \n",
      " time_distributed_21 (TimeDi  (None, 20, 80, 80, 32)   128       \n",
      " stributed)                                                      \n",
      "                                                                 \n",
      " time_distributed_22 (TimeDi  (None, 20, 40, 40, 32)   0         \n",
      " stributed)                                                      \n",
      "                                                                 \n",
      " time_distributed_23 (TimeDi  (None, 20, 40, 40, 64)   18496     \n",
      " stributed)                                                      \n",
      "                                                                 \n",
      " time_distributed_24 (TimeDi  (None, 20, 40, 40, 64)   256       \n",
      " stributed)                                                      \n",
      "                                                                 \n",
      " time_distributed_25 (TimeDi  (None, 20, 20, 20, 64)   0         \n",
      " stributed)                                                      \n",
      "                                                                 \n",
      " time_distributed_26 (TimeDi  (None, 20, 20, 20, 128)  73856     \n",
      " stributed)                                                      \n",
      "                                                                 \n",
      " time_distributed_27 (TimeDi  (None, 20, 20, 20, 128)  512       \n",
      " stributed)                                                      \n",
      "                                                                 \n",
      " time_distributed_28 (TimeDi  (None, 20, 10, 10, 128)  0         \n",
      " stributed)                                                      \n",
      "                                                                 \n",
      " time_distributed_29 (TimeDi  (None, 20, 12800)        0         \n",
      " stributed)                                                      \n",
      "                                                                 \n",
      " gru (GRU)                   (None, 128)               4965120   \n",
      "                                                                 \n",
      " dropout_2 (Dropout)         (None, 128)               0         \n",
      "                                                                 \n",
      " dense_14 (Dense)            (None, 128)               16512     \n",
      "                                                                 \n",
      " dropout_3 (Dropout)         (None, 128)               0         \n",
      "                                                                 \n",
      " dense_15 (Dense)            (None, 5)                 645       \n",
      "                                                                 \n",
      "=================================================================\n",
      "Total params: 5,081,621\n",
      "Trainable params: 5,081,141\n",
      "Non-trainable params: 480\n",
      "_________________________________________________________________\n",
      "None\n"
     ]
    }
   ],
   "source": [
    "optimiser = 'Adam' #write your optimizer\n",
    "model6.compile(optimizer=optimiser, loss='categorical_crossentropy', metrics=['categorical_accuracy'])\n",
    "print (model6.summary())"
   ]
  },
  {
   "cell_type": "code",
   "execution_count": 75,
   "metadata": {},
   "outputs": [
    {
     "name": "stdout",
     "output_type": "stream",
     "text": [
      "Source path = /datasets/Project_data/train ; batch size = 20\n",
      "Epoch 1/25\n",
      "34/34 [==============================] - ETA: 0s - loss: 1.6696 - categorical_accuracy: 0.3002Source path = /datasets/Project_data/val ; batch size = 20\n",
      "\n",
      "Epoch 00001: val_loss improved from inf to 1.27002, saving model to model_6_2024-12-3114_11_23.804348/model-00001-1.66962-0.30015-1.27002-0.45000.keras\n",
      "34/34 [==============================] - 158s 5s/step - loss: 1.6696 - categorical_accuracy: 0.3002 - val_loss: 1.2700 - val_categorical_accuracy: 0.4500 - lr: 0.0010\n",
      "Epoch 2/25\n",
      "34/34 [==============================] - ETA: 0s - loss: 1.1754 - categorical_accuracy: 0.5196\n",
      "Epoch 00002: val_loss improved from 1.27002 to 0.93613, saving model to model_6_2024-12-3114_11_23.804348/model-00002-1.17540-0.51961-0.93613-0.61000.keras\n",
      "34/34 [==============================] - 137s 4s/step - loss: 1.1754 - categorical_accuracy: 0.5196 - val_loss: 0.9361 - val_categorical_accuracy: 0.6100 - lr: 0.0010\n",
      "Epoch 3/25\n",
      "34/34 [==============================] - ETA: 0s - loss: 0.8940 - categorical_accuracy: 0.6312\n",
      "Epoch 00003: val_loss improved from 0.93613 to 0.72742, saving model to model_6_2024-12-3114_11_23.804348/model-00003-0.89404-0.63122-0.72742-0.67500.keras\n",
      "34/34 [==============================] - 140s 4s/step - loss: 0.8940 - categorical_accuracy: 0.6312 - val_loss: 0.7274 - val_categorical_accuracy: 0.6750 - lr: 0.0010\n",
      "Epoch 4/25\n",
      "34/34 [==============================] - ETA: 0s - loss: 0.7265 - categorical_accuracy: 0.7066\n",
      "Epoch 00004: val_loss improved from 0.72742 to 0.57957, saving model to model_6_2024-12-3114_11_23.804348/model-00004-0.72651-0.70664-0.57957-0.79000.keras\n",
      "34/34 [==============================] - 139s 4s/step - loss: 0.7265 - categorical_accuracy: 0.7066 - val_loss: 0.5796 - val_categorical_accuracy: 0.7900 - lr: 0.0010\n",
      "Epoch 5/25\n",
      "34/34 [==============================] - ETA: 0s - loss: 0.5700 - categorical_accuracy: 0.7828\n",
      "Epoch 00005: val_loss improved from 0.57957 to 0.51186, saving model to model_6_2024-12-3114_11_23.804348/model-00005-0.57005-0.78281-0.51186-0.78500.keras\n",
      "34/34 [==============================] - 138s 4s/step - loss: 0.5700 - categorical_accuracy: 0.7828 - val_loss: 0.5119 - val_categorical_accuracy: 0.7850 - lr: 0.0010\n",
      "Epoch 6/25\n",
      "34/34 [==============================] - ETA: 0s - loss: 0.4377 - categorical_accuracy: 0.8318\n",
      "Epoch 00006: val_loss improved from 0.51186 to 0.45366, saving model to model_6_2024-12-3114_11_23.804348/model-00006-0.43768-0.83183-0.45366-0.81500.keras\n",
      "34/34 [==============================] - 141s 4s/step - loss: 0.4377 - categorical_accuracy: 0.8318 - val_loss: 0.4537 - val_categorical_accuracy: 0.8150 - lr: 0.0010\n",
      "Epoch 7/25\n",
      "34/34 [==============================] - ETA: 0s - loss: 0.3542 - categorical_accuracy: 0.8665\n",
      "Epoch 00007: val_loss improved from 0.45366 to 0.43742, saving model to model_6_2024-12-3114_11_23.804348/model-00007-0.35415-0.86652-0.43742-0.85000.keras\n",
      "34/34 [==============================] - 138s 4s/step - loss: 0.3542 - categorical_accuracy: 0.8665 - val_loss: 0.4374 - val_categorical_accuracy: 0.8500 - lr: 0.0010\n",
      "Epoch 8/25\n",
      "34/34 [==============================] - ETA: 0s - loss: 0.3097 - categorical_accuracy: 0.8906\n",
      "Epoch 00008: val_loss improved from 0.43742 to 0.40257, saving model to model_6_2024-12-3114_11_23.804348/model-00008-0.30971-0.89065-0.40257-0.84000.keras\n",
      "34/34 [==============================] - 317s 10s/step - loss: 0.3097 - categorical_accuracy: 0.8906 - val_loss: 0.4026 - val_categorical_accuracy: 0.8400 - lr: 0.0010\n",
      "Epoch 9/25\n",
      "34/34 [==============================] - ETA: 0s - loss: 0.2668 - categorical_accuracy: 0.9057\n",
      "Epoch 00009: val_loss improved from 0.40257 to 0.37823, saving model to model_6_2024-12-3114_11_23.804348/model-00009-0.26684-0.90573-0.37823-0.85000.keras\n",
      "34/34 [==============================] - 279s 8s/step - loss: 0.2668 - categorical_accuracy: 0.9057 - val_loss: 0.3782 - val_categorical_accuracy: 0.8500 - lr: 0.0010\n",
      "Epoch 10/25\n",
      "34/34 [==============================] - ETA: 0s - loss: 0.3006 - categorical_accuracy: 0.8899\n",
      "Epoch 00010: val_loss did not improve from 0.37823\n",
      "34/34 [==============================] - 138s 4s/step - loss: 0.3006 - categorical_accuracy: 0.8899 - val_loss: 0.4674 - val_categorical_accuracy: 0.8300 - lr: 0.0010\n",
      "Epoch 11/25\n",
      "34/34 [==============================] - ETA: 0s - loss: 0.2564 - categorical_accuracy: 0.9042\n",
      "Epoch 00011: val_loss did not improve from 0.37823\n",
      "34/34 [==============================] - 122s 4s/step - loss: 0.2564 - categorical_accuracy: 0.9042 - val_loss: 0.4612 - val_categorical_accuracy: 0.8550 - lr: 0.0010\n",
      "Epoch 12/25\n",
      "34/34 [==============================] - ETA: 0s - loss: 0.2175 - categorical_accuracy: 0.9208\n",
      "Epoch 00012: val_loss did not improve from 0.37823\n",
      "34/34 [==============================] - 121s 4s/step - loss: 0.2175 - categorical_accuracy: 0.9208 - val_loss: 0.4493 - val_categorical_accuracy: 0.8350 - lr: 0.0010\n",
      "Epoch 13/25\n",
      "34/34 [==============================] - ETA: 0s - loss: 0.1931 - categorical_accuracy: 0.9412\n",
      "Epoch 00013: val_loss did not improve from 0.37823\n",
      "34/34 [==============================] - 121s 4s/step - loss: 0.1931 - categorical_accuracy: 0.9412 - val_loss: 0.3862 - val_categorical_accuracy: 0.8800 - lr: 0.0010\n",
      "Epoch 14/25\n",
      "34/34 [==============================] - ETA: 0s - loss: 0.1968 - categorical_accuracy: 0.9306\n",
      "Epoch 00014: val_loss did not improve from 0.37823\n",
      "\n",
      "Epoch 00014: ReduceLROnPlateau reducing learning rate to 0.00020000000949949026.\n",
      "34/34 [==============================] - 122s 4s/step - loss: 0.1968 - categorical_accuracy: 0.9306 - val_loss: 0.3906 - val_categorical_accuracy: 0.8400 - lr: 0.0010\n",
      "Epoch 15/25\n",
      "34/34 [==============================] - ETA: 0s - loss: 0.1554 - categorical_accuracy: 0.9487\n",
      "Epoch 00015: val_loss improved from 0.37823 to 0.33854, saving model to model_6_2024-12-3114_11_23.804348/model-00015-0.15538-0.94872-0.33854-0.89500.keras\n",
      "34/34 [==============================] - 121s 4s/step - loss: 0.1554 - categorical_accuracy: 0.9487 - val_loss: 0.3385 - val_categorical_accuracy: 0.8950 - lr: 2.0000e-04\n",
      "Epoch 16/25\n",
      "34/34 [==============================] - ETA: 0s - loss: 0.1173 - categorical_accuracy: 0.9563\n",
      "Epoch 00016: val_loss improved from 0.33854 to 0.32360, saving model to model_6_2024-12-3114_11_23.804348/model-00016-0.11733-0.95626-0.32360-0.89500.keras\n",
      "34/34 [==============================] - 122s 4s/step - loss: 0.1173 - categorical_accuracy: 0.9563 - val_loss: 0.3236 - val_categorical_accuracy: 0.8950 - lr: 2.0000e-04\n",
      "Epoch 17/25\n",
      "34/34 [==============================] - ETA: 0s - loss: 0.1090 - categorical_accuracy: 0.9630\n",
      "Epoch 00017: val_loss did not improve from 0.32360\n",
      "34/34 [==============================] - 120s 4s/step - loss: 0.1090 - categorical_accuracy: 0.9630 - val_loss: 0.3703 - val_categorical_accuracy: 0.8700 - lr: 2.0000e-04\n",
      "Epoch 18/25\n",
      "34/34 [==============================] - ETA: 0s - loss: 0.0960 - categorical_accuracy: 0.9668\n",
      "Epoch 00018: val_loss did not improve from 0.32360\n",
      "34/34 [==============================] - 118s 4s/step - loss: 0.0960 - categorical_accuracy: 0.9668 - val_loss: 0.5821 - val_categorical_accuracy: 0.8100 - lr: 2.0000e-04\n",
      "Epoch 19/25\n",
      "34/34 [==============================] - ETA: 0s - loss: 0.0851 - categorical_accuracy: 0.9744\n",
      "Epoch 00019: val_loss improved from 0.32360 to 0.28672, saving model to model_6_2024-12-3114_11_23.804348/model-00019-0.08510-0.97436-0.28672-0.89000.keras\n",
      "34/34 [==============================] - 112s 3s/step - loss: 0.0851 - categorical_accuracy: 0.9744 - val_loss: 0.2867 - val_categorical_accuracy: 0.8900 - lr: 2.0000e-04\n",
      "Epoch 20/25\n",
      "34/34 [==============================] - ETA: 0s - loss: 0.0737 - categorical_accuracy: 0.9781\n",
      "Epoch 00020: val_loss did not improve from 0.28672\n",
      "34/34 [==============================] - 110s 3s/step - loss: 0.0737 - categorical_accuracy: 0.9781 - val_loss: 0.4241 - val_categorical_accuracy: 0.8600 - lr: 2.0000e-04\n",
      "Epoch 21/25\n",
      "34/34 [==============================] - ETA: 0s - loss: 0.0753 - categorical_accuracy: 0.9766\n",
      "Epoch 00021: val_loss did not improve from 0.28672\n",
      "34/34 [==============================] - 111s 3s/step - loss: 0.0753 - categorical_accuracy: 0.9766 - val_loss: 0.3456 - val_categorical_accuracy: 0.8850 - lr: 2.0000e-04\n",
      "Epoch 22/25\n",
      "34/34 [==============================] - ETA: 0s - loss: 0.0743 - categorical_accuracy: 0.9721\n",
      "Epoch 00022: val_loss did not improve from 0.28672\n",
      "34/34 [==============================] - 113s 3s/step - loss: 0.0743 - categorical_accuracy: 0.9721 - val_loss: 0.3772 - val_categorical_accuracy: 0.8700 - lr: 2.0000e-04\n",
      "Epoch 23/25\n",
      "34/34 [==============================] - ETA: 0s - loss: 0.0764 - categorical_accuracy: 0.9804\n",
      "Epoch 00023: val_loss did not improve from 0.28672\n",
      "34/34 [==============================] - 113s 3s/step - loss: 0.0764 - categorical_accuracy: 0.9804 - val_loss: 0.3704 - val_categorical_accuracy: 0.8850 - lr: 2.0000e-04\n",
      "Epoch 24/25\n",
      "34/34 [==============================] - ETA: 0s - loss: 0.0798 - categorical_accuracy: 0.9759\n",
      "Epoch 00024: val_loss did not improve from 0.28672\n",
      "\n",
      "Epoch 00024: ReduceLROnPlateau reducing learning rate to 4.0000001899898055e-05.\n",
      "34/34 [==============================] - 112s 3s/step - loss: 0.0798 - categorical_accuracy: 0.9759 - val_loss: 0.3932 - val_categorical_accuracy: 0.8550 - lr: 2.0000e-04\n",
      "Epoch 25/25\n",
      "34/34 [==============================] - ETA: 0s - loss: 0.0696 - categorical_accuracy: 0.9751\n",
      "Epoch 00025: val_loss did not improve from 0.28672\n",
      "34/34 [==============================] - 118s 4s/step - loss: 0.0696 - categorical_accuracy: 0.9751 - val_loss: 0.4082 - val_categorical_accuracy: 0.8750 - lr: 4.0000e-05\n"
     ]
    }
   ],
   "source": [
    "history6=model6.fit(train_generator,\n",
    "                  steps_per_epoch=steps_per_epoch,\n",
    "                  epochs=num_epochs,\n",
    "                  verbose=1,\n",
    "                  callbacks=callbacks_list,\n",
    "                  validation_data=val_generator,\n",
    "                  validation_steps=validation_steps,\n",
    "                  class_weight=None,\n",
    "                  batch_size=batch_size,\n",
    "                  initial_epoch=0)"
   ]
  },
  {
   "cell_type": "code",
   "execution_count": 76,
   "metadata": {},
   "outputs": [
    {
     "data": {
      "text/plain": [
       "<Figure size 720x720 with 0 Axes>"
      ]
     },
     "metadata": {},
     "output_type": "display_data"
    },
    {
     "data": {
      "image/png": "[encoded data removed]",
      "text/plain": [
       "<Figure size 576x576 with 2 Axes>"
      ]
     },
     "metadata": {
      "needs_background": "light"
     },
     "output_type": "display_data"
    }
   ],
   "source": [
    "plot_evaluation_graph(history6)"
   ]
  },
  {
   "cell_type": "code",
   "execution_count": null,
   "metadata": {},
   "outputs": [],
   "source": []
  },
  {
   "cell_type": "markdown",
   "metadata": {},
   "source": [
    "### Select the best model from all experiment and final evaluation"
   ]
  },
  {
   "cell_type": "code",
   "execution_count": 102,
   "metadata": {},
   "outputs": [
    {
     "name": "stdout",
     "output_type": "stream",
     "text": [
      "Model: \"sequential_3\"\n",
      "_________________________________________________________________\n",
      " Layer (type)                Output Shape              Param #   \n",
      "=================================================================\n",
      " conv3d_12 (Conv3D)          (None, 30, 160, 160, 8)   200       \n",
      "                                                                 \n",
      " activation_12 (Activation)  (None, 30, 160, 160, 8)   0         \n",
      "                                                                 \n",
      " conv3d_13 (Conv3D)          (None, 30, 160, 160, 16)  1040      \n",
      "                                                                 \n",
      " activation_13 (Activation)  (None, 30, 160, 160, 16)  0         \n",
      "                                                                 \n",
      " max_pooling3d_12 (MaxPoolin  (None, 15, 80, 80, 16)   0         \n",
      " g3D)                                                            \n",
      "                                                                 \n",
      " conv3d_14 (Conv3D)          (None, 15, 80, 80, 32)    4128      \n",
      "                                                                 \n",
      " activation_14 (Activation)  (None, 15, 80, 80, 32)    0         \n",
      "                                                                 \n",
      " max_pooling3d_13 (MaxPoolin  (None, 7, 40, 40, 32)    0         \n",
      " g3D)                                                            \n",
      "                                                                 \n",
      " conv3d_15 (Conv3D)          (None, 7, 40, 40, 64)     16448     \n",
      "                                                                 \n",
      " activation_15 (Activation)  (None, 7, 40, 40, 64)     0         \n",
      "                                                                 \n",
      " max_pooling3d_14 (MaxPoolin  (None, 3, 20, 20, 64)    0         \n",
      " g3D)                                                            \n",
      "                                                                 \n",
      " conv3d_16 (Conv3D)          (None, 3, 20, 20, 128)    65664     \n",
      "                                                                 \n",
      " activation_16 (Activation)  (None, 3, 20, 20, 128)    0         \n",
      "                                                                 \n",
      " max_pooling3d_15 (MaxPoolin  (None, 1, 10, 10, 128)   0         \n",
      " g3D)                                                            \n",
      "                                                                 \n",
      " flatten_3 (Flatten)         (None, 12800)             0         \n",
      "                                                                 \n",
      " dense_9 (Dense)             (None, 128)               1638528   \n",
      "                                                                 \n",
      " dense_10 (Dense)            (None, 64)                8256      \n",
      "                                                                 \n",
      " dense_11 (Dense)            (None, 5)                 325       \n",
      "                                                                 \n",
      "=================================================================\n",
      "Total params: 1,734,589\n",
      "Trainable params: 1,734,589\n",
      "Non-trainable params: 0\n",
      "_________________________________________________________________\n"
     ]
    }
   ],
   "source": [
    "from keras.models import load_model\n",
    " \n",
    "# load model\n",
    "model = load_model('model_3_2024-12-3114_11_23.804348/model-00018-0.21707-0.91478-0.63865-0.80500.keras') \n",
    "# Verify the model architecture \n",
    "model.build(input_shape)\n",
    "# summarize model.\n",
    "model.summary()"
   ]
  },
  {
   "cell_type": "code",
   "execution_count": 103,
   "metadata": {},
   "outputs": [
    {
     "name": "stdout",
     "output_type": "stream",
     "text": [
      "50/50 [==============================] - 266s 5s/step - loss: 0.8659 - categorical_accuracy: 0.7300\n",
      "evaluate categorical_accuracy: 73.00%\n"
     ]
    }
   ],
   "source": [
    "# Evaluate on Validation data\n",
    "scores = model.evaluate(val_generator, verbose=1, steps=validation_steps*10, max_queue_size=3000, workers=1, use_multiprocessing=False)\n",
    "print(\"%s%s: %.2f%%\" % (\"evaluate \",model.metrics_names[1], scores[1]*100))"
   ]
  },
  {
   "cell_type": "code",
   "execution_count": null,
   "metadata": {},
   "outputs": [],
   "source": []
  }
 ],
 "metadata": {
  "kernelspec": {
   "display_name": "Python 3 (ipykernel)",
   "language": "python",
   "name": "python3"
  },
  "language_info": {
   "codemirror_mode": {
    "name": "ipython",
    "version": 3
   },
   "file_extension": ".py",
   "mimetype": "text/x-python",
   "name": "python",
   "nbconvert_exporter": "python",
   "pygments_lexer": "ipython3",
   "version": "3.8.10"
  },
  "vscode": {
   "interpreter": {
    "hash": "5b78c356f59ad4f4bb37d320e87edfdd6e4609350ddbfb799f14c15ad9db04c2"
   }
  }
 },
 "nbformat": 4,
 "nbformat_minor": 4
}
