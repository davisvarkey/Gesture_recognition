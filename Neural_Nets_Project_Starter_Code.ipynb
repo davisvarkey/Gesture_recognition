{
 "cells": [
  {
   "cell_type": "markdown",
   "metadata": {},
   "source": [
    "# Gesture Recognition\n",
    "In this group project, you are going to build a 3D Conv & CNN-RNN models that will be able to predict the 5 gestures correctly."
   ]
  },
  {
   "cell_type": "code",
   "execution_count": 1,
   "metadata": {},
   "outputs": [
    {
     "name": "stdout",
     "output_type": "stream",
     "text": [
      "Tue Dec 31 13:17:22 2024       \n",
      "+---------------------------------------------------------------------------------------+\n",
      "| NVIDIA-SMI 535.104.05             Driver Version: 535.104.05   CUDA Version: 12.2     |\n",
      "|-----------------------------------------+----------------------+----------------------+\n",
      "| GPU  Name                 Persistence-M | Bus-Id        Disp.A | Volatile Uncorr. ECC |\n",
      "| Fan  Temp   Perf          Pwr:Usage/Cap |         Memory-Usage | GPU-Util  Compute M. |\n",
      "|                                         |                      |               MIG M. |\n",
      "|=========================================+======================+======================|\n",
      "|   0  Quadro RTX 6000                On  | 00000000:3F:00.0 Off |                  Off |\n",
      "| 33%   26C    P8               8W / 260W |      0MiB / 24576MiB |      0%      Default |\n",
      "|                                         |                      |                  N/A |\n",
      "+-----------------------------------------+----------------------+----------------------+\n",
      "                                                                                         \n",
      "+---------------------------------------------------------------------------------------+\n",
      "| Processes:                                                                            |\n",
      "|  GPU   GI   CI        PID   Type   Process name                            GPU Memory |\n",
      "|        ID   ID                                                             Usage      |\n",
      "|=======================================================================================|\n",
      "|  No running processes found                                                           |\n",
      "+---------------------------------------------------------------------------------------+\n"
     ]
    }
   ],
   "source": [
    "!nvidia-smi"
   ]
  },
  {
   "cell_type": "code",
   "execution_count": 21,
   "metadata": {},
   "outputs": [],
   "source": [
    "import numpy as np\n",
    "import os\n",
    "from imageio.v2 import imread\n",
    "import imageio\n",
    "from PIL import Image, ImageFilter, ImageEnhance\n",
    "import datetime\n",
    "import os"
   ]
  },
  {
   "cell_type": "markdown",
   "metadata": {},
   "source": [
    "We set the random seed so that the results don't vary drastically."
   ]
  },
  {
   "cell_type": "code",
   "execution_count": 22,
   "metadata": {},
   "outputs": [],
   "source": [
    "np.random.seed(30)\n",
    "import random as rn\n",
    "rn.seed(30)\n",
    "import tensorflow as tf\n",
    "# tf.set_random_seed(30) # deprecated\n",
    "tf.random.set_seed(30)\n",
    "import cv2\n",
    "import matplotlib.pyplot as plt\n",
    "%matplotlib inline"
   ]
  },
  {
   "cell_type": "markdown",
   "metadata": {},
   "source": [
    "In this block, you read the folder names for training and validation. You also set the `batch_size` here. Note that you set the batch size in such a way that you are able to use the GPU in full capacity. You keep increasing the batch size until the machine throws an error."
   ]
  },
  {
   "cell_type": "code",
   "execution_count": 23,
   "metadata": {},
   "outputs": [],
   "source": [
    "project_folder='/datasets/Project_data'"
   ]
  },
  {
   "cell_type": "markdown",
   "metadata": {},
   "source": [
    "## Configration"
   ]
  },
  {
   "cell_type": "code",
   "execution_count": 24,
   "metadata": {},
   "outputs": [
    {
     "name": "stdout",
     "output_type": "stream",
     "text": [
      "# training sequences = 663\n",
      "# validation sequences = 100\n",
      "# epochs = 50\n"
     ]
    }
   ],
   "source": [
    "train_doc = np.random.permutation(open(f'{project_folder}/train.csv').readlines())\n",
    "val_doc = np.random.permutation(open(f'{project_folder}/val.csv').readlines())\n",
    "batch_size = 10 #experiment with the batch size\n",
    "image_count = 30 # number of images to be used for each video\n",
    "image_height=160\n",
    "image_width=160\n",
    "channels=3\n",
    "num_classes=5 # number of classes\n",
    "input_shape=(image_count,image_width,image_height,channels)\n",
    "curr_dt_time = datetime.datetime.now()\n",
    "train_path = f'{project_folder}/train'\n",
    "val_path = f'{project_folder}/val'\n",
    "num_train_sequences = len(train_doc)\n",
    "print('# training sequences =', num_train_sequences)\n",
    "num_val_sequences = len(val_doc)\n",
    "print('# validation sequences =', num_val_sequences)\n",
    "num_epochs = 50 # choose the number of epochs  \n",
    "print ('# epochs =', num_epochs)"
   ]
  },
  {
   "cell_type": "markdown",
   "metadata": {},
   "source": [
    "## Generator\n",
    "This is one of the most important part of the code. The overall structure of the generator has been given. In the generator, you are going to preprocess the images as you have images of 2 different dimensions as well as create a batch of video frames. You have to experiment with `img_idx`, `y`,`z` and normalization such that you get high accuracy."
   ]
  },
  {
   "cell_type": "code",
   "execution_count": 25,
   "metadata": {},
   "outputs": [],
   "source": [
    "def one_batch_data(source_path, t, batch, batch_size, img_idx, augment, remaining_seq=0):\n",
    "        # Determine the sequence length for the current batch\n",
    "        seq_len = remaining_seq if remaining_seq else batch_size\n",
    "        \n",
    "        # Initialize arrays for batch data and labels\n",
    "        batch_data = np.zeros((seq_len, len(img_idx), image_height, image_width, channels))\n",
    "        batch_labels = np.zeros((seq_len, num_classes))\n",
    "        \n",
    "        if augment: \n",
    "            # Initialize array for augmented batch data\n",
    "            batch_data_aug = np.zeros((seq_len, len(img_idx), image_height, image_width, channels))\n",
    "\n",
    "        # Process each folder (video) in the batch\n",
    "        for folder in range(seq_len):\n",
    "            imgs = os.listdir(source_path + '/' + t[folder + (batch * batch_size)].split(';')[0])\n",
    "            for idx, item in enumerate(img_idx): \n",
    "                # Read and resize the image\n",
    "                image = imread(source_path + '/' + t[folder + (batch * batch_size)].strip().split(';')[0] + '/' + imgs[item]).astype(np.float32)\n",
    "                #image_resized = imresize(image, (self.image_height, self.image_width, 3))\n",
    "                image_resized = cv2.resize(image, (image_width, image_height), interpolation=cv2.INTER_AREA)\n",
    "                \n",
    "                \n",
    "                # Normalize and add the image data to the batch\n",
    "                batch_data[folder, idx, :, :, 0] = (image_resized[:, :, 0]) / 255\n",
    "                batch_data[folder, idx, :, :, 1] = (image_resized[:, :, 1]) / 255\n",
    "                batch_data[folder, idx, :, :, 2] = (image_resized[:, :, 2]) / 255\n",
    "                \n",
    "                if augment:\n",
    "                    # Apply random transformations for augmentation\n",
    "                    shifted = cv2.warpAffine(\n",
    "                        image, \n",
    "                        np.float32([[1, 0, np.random.randint(-30, 30)], [0, 1, np.random.randint(-30, 30)]]),\n",
    "                        (image.shape[1], image.shape[0])\n",
    "                    )\n",
    "                    gray = cv2.cvtColor(shifted, cv2.COLOR_BGR2GRAY)\n",
    "                    x0, y0 = np.argwhere(gray > 0).min(axis=0)\n",
    "                    x1, y1 = np.argwhere(gray > 0).max(axis=0)\n",
    "                    cropped = shifted[x0:x1, y0:y1, :]\n",
    "                    #image_resized = imresize(cropped, (self.image_height, self.image_width, 3))\n",
    "                    image_resized = cv2.resize(cropped, (image_width, image_height), interpolation=cv2.INTER_AREA)\n",
    "                    \n",
    "                    # Normalize and add the augmented image data\n",
    "                    batch_data_aug[folder, idx, :, :, 0] = (image_resized[:, :, 0]) / 255\n",
    "                    batch_data_aug[folder, idx, :, :, 1] = (image_resized[:, :, 1]) / 255\n",
    "                    batch_data_aug[folder, idx, :, :, 2] = (image_resized[:, :, 2]) / 255\n",
    "            \n",
    "            # Assign one-hot encoded labels to the batch\n",
    "            batch_labels[folder, int(t[folder + (batch * batch_size)].strip().split(';')[2])] = 1\n",
    "        \n",
    "        if augment:\n",
    "            # Concatenate original and augmented data/labels\n",
    "            batch_data = np.concatenate([batch_data, batch_data_aug])\n",
    "            batch_labels = np.concatenate([batch_labels, batch_labels])\n",
    "\n",
    "        return batch_data, batch_labels"
   ]
  },
  {
   "cell_type": "code",
   "execution_count": 26,
   "metadata": {},
   "outputs": [],
   "source": [
    "def generator(source_path, folder_list, batch_size, augment=False):\n",
    "    #img_idx = [x for x in range(0, image_count) if x % 2 != 0]\n",
    "    #print('Source path =', source_path, '; batch size =', batch_size, '; img_ix =', img_idx)\n",
    "    img_idx = [x for x in range(0, image_count)]\n",
    "    img_idx = img_idx[5:25] # middle 20 frames\n",
    "    print('Source path =', source_path, '; batch size =', batch_size)\n",
    "    while True:\n",
    "        t = np.random.permutation(folder_list)\n",
    "        num_batches = len(t) // batch_size  # calculate the number of batches\n",
    "        for batch in range(num_batches):  # we iterate over the number of batches\n",
    "            batch_data, batch_labels = one_batch_data(source_path, t, batch, batch_size, img_idx, augment)\n",
    "            yield batch_data, batch_labels\n",
    "\n",
    "        # Handle the remaining sequences if any (not forming a full batch)\n",
    "        remaining_seq = len(t) % batch_size\n",
    "        if remaining_seq != 0:\n",
    "            batch_data, batch_labels = one_batch_data(source_path, t, num_batches, batch_size, img_idx, augment, remaining_seq)\n",
    "            yield batch_data, batch_labels    \n"
   ]
  },
  {
   "cell_type": "markdown",
   "metadata": {},
   "source": [
    "Note here that a video is represented above in the generator as (number of images, height, width, number of channels). Take this into consideration while creating the model architecture."
   ]
  },
  {
   "cell_type": "code",
   "execution_count": 27,
   "metadata": {},
   "outputs": [],
   "source": [
    "def create_model_config(name):\n",
    "    model_name = name + '_' + str(curr_dt_time).replace(' ','').replace(':','_') + '/'\n",
    "\n",
    "    if not os.path.exists(model_name):\n",
    "        os.mkdir(model_name)\n",
    "\n",
    "    filepath = model_name + 'model-{epoch:05d}-{loss:.5f}-{categorical_accuracy:.5f}-{val_loss:.5f}-{val_categorical_accuracy:.5f}.keras'\n",
    "\n",
    "    checkpoint = ModelCheckpoint(filepath, monitor='val_loss', verbose=1, save_best_only=True, save_weights_only=False, mode='auto')\n",
    "\n",
    "    LR = ReduceLROnPlateau(monitor='val_loss', factor=0.2, patience=5, verbose=1, mode='auto')\n",
    "    early_stopping = EarlyStopping(monitor='val_loss', patience=10, verbose=1, mode='auto', restore_best_weights=True)\n",
    "\n",
    "    callbacks_list = [checkpoint, LR, early_stopping]\n",
    "    return callbacks_list"
   ]
  },
  {
   "cell_type": "code",
   "execution_count": 28,
   "metadata": {},
   "outputs": [],
   "source": [
    "def calculate_steps_per_epoch():\n",
    "    if (num_train_sequences%batch_size) == 0:\n",
    "        steps_per_epoch = int(num_train_sequences/batch_size)\n",
    "    else:\n",
    "        steps_per_epoch = (num_train_sequences//batch_size) + 1\n",
    "\n",
    "    if (num_val_sequences%batch_size) == 0:\n",
    "        validation_steps = int(num_val_sequences/batch_size)\n",
    "    else:\n",
    "        validation_steps = (num_val_sequences//batch_size) + 1\n",
    "    return steps_per_epoch, validation_steps"
   ]
  },
  {
   "cell_type": "code",
   "execution_count": 29,
   "metadata": {},
   "outputs": [],
   "source": [
    "# Ensure that the number of epochs is consistent with the history data\n",
    "def plot_evaluation_graph():\n",
    "    num_epochs = len(history.history['loss'])\n",
    "\n",
    "    plt.figure(figsize=(10,10))\n",
    "\n",
    "    acc = history.history['categorical_accuracy']\n",
    "    val_acc = history.history['val_categorical_accuracy']\n",
    "\n",
    "    loss = history.history['loss']\n",
    "    val_loss = history.history['val_loss']\n",
    "\n",
    "    epochs_range = range(num_epochs)\n",
    "\n",
    "    plt.figure(figsize=(8, 8))\n",
    "    plt.subplot(1, 2, 1)\n",
    "    plt.plot(epochs_range, acc, label='Training Accuracy')\n",
    "    plt.plot(epochs_range, val_acc, label='Validation Accuracy')\n",
    "    plt.legend(loc='lower right')\n",
    "    plt.title('Training and Validation Accuracy')\n",
    "\n",
    "    plt.subplot(1, 2, 2)\n",
    "    plt.plot(epochs_range, loss, label='Training Loss')\n",
    "    plt.plot(epochs_range, val_loss, label='Validation Loss')\n",
    "    plt.legend(loc='upper right')\n",
    "    plt.title('Training and Validation Loss')\n",
    "    plt.show()"
   ]
  },
  {
   "cell_type": "markdown",
   "metadata": {},
   "source": [
    "## Model\n",
    "Here you make the model using different functionalities that Keras provides. Remember to use `Conv3D` and `MaxPooling3D` and not `Conv2D` and `Maxpooling2D` for a 3D convolution model. You would want to use `TimeDistributed` while building a Conv2D + RNN model. Also remember that the last layer is the softmax. Design the network in such a way that the model is able to give good accuracy on the least number of parameters so that it can fit in the memory of the webcam."
   ]
  },
  {
   "cell_type": "code",
   "execution_count": 30,
   "metadata": {},
   "outputs": [],
   "source": [
    "from keras.models import Sequential, Model\n",
    "from keras.layers import Dense, GRU, Flatten, TimeDistributed, Flatten, BatchNormalization, Activation,Dropout,GlobalAveragePooling3D,GRU,GlobalAveragePooling2D,LSTM,MaxPool2D,ConvLSTM2D,GlobalAveragePooling1D\n",
    "from keras.layers.convolutional import Conv3D, MaxPooling3D,Conv2D, MaxPooling2D\n",
    "from keras.callbacks import ModelCheckpoint, ReduceLROnPlateau, EarlyStopping\n",
    "from keras import optimizers\n",
    "# from keras.applications import MobileNet"
   ]
  },
  {
   "cell_type": "markdown",
   "metadata": {},
   "source": [
    "### First Experiment - Conv3D Without Data Augmentation"
   ]
  },
  {
   "cell_type": "code",
   "execution_count": 12,
   "metadata": {},
   "outputs": [
    {
     "name": "stderr",
     "output_type": "stream",
     "text": [
      "2024-12-31 13:17:24.760845: W tensorflow/core/common_runtime/gpu/gpu_bfc_allocator.cc:39] Overriding allow_growth setting because the TF_FORCE_GPU_ALLOW_GROWTH environment variable is set. Original config value was 0.\n",
      "2024-12-31 13:17:24.760918: I tensorflow/core/common_runtime/gpu/gpu_device.cc:1525] Created device /job:localhost/replica:0/task:0/device:GPU:0 with 22855 MB memory:  -> device: 0, name: Quadro RTX 6000, pci bus id: 0000:3f:00.0, compute capability: 7.5\n"
     ]
    }
   ],
   "source": [
    "model = Sequential()\n",
    "model.add(Conv3D(16, (3, 3, 3), padding='same',\n",
    "          input_shape=input_shape))\n",
    "model.add(Activation('relu'))\n",
    "model.add(MaxPooling3D(pool_size=(2, 2, 2)))\n",
    "\n",
    "model.add(Conv3D(32, (2, 2, 2), padding='same'))\n",
    "model.add(Activation('relu'))\n",
    "model.add(MaxPooling3D(pool_size=(2, 2, 2)))\n",
    "\n",
    "model.add(Conv3D(64, (2, 2, 2), padding='same'))\n",
    "model.add(Activation('relu'))\n",
    "model.add(MaxPooling3D(pool_size=(2, 2, 2)))\n",
    "\n",
    "model.add(Conv3D(128, (2, 2, 2), padding='same'))\n",
    "model.add(Activation('relu'))\n",
    "model.add(MaxPooling3D(pool_size=(2, 2, 2)))\n",
    "\n",
    "model.add(Flatten())\n",
    "model.add(Dense(128,activation='relu'))\n",
    "model.add(Dense(64,activation='relu'))\n",
    "\n",
    "model.add(Dense(num_classes,activation='softmax'))"
   ]
  },
  {
   "cell_type": "code",
   "execution_count": 13,
   "metadata": {},
   "outputs": [
    {
     "name": "stdout",
     "output_type": "stream",
     "text": [
      "Steps per epoch: 34\n",
      "Validation steps: 5\n"
     ]
    }
   ],
   "source": [
    "batch_size = 20 #experiment with the batch size\n",
    "image_count = 30 # number of images to be used for each video\n",
    "num_epochs = 25 # choose the number of epochs  \n",
    "train_generator = generator(train_path, train_doc, batch_size, augment=False)\n",
    "val_generator = generator(val_path, val_doc, batch_size, augment=False)\n",
    "\n",
    "callbacks_list = create_model_config('model_1')\n",
    "steps_per_epoch, validation_steps = calculate_steps_per_epoch()\n",
    "print(f\"Steps per epoch: {steps_per_epoch}\") \n",
    "print(f\"Validation steps: {validation_steps}\")"
   ]
  },
  {
   "cell_type": "markdown",
   "metadata": {},
   "source": [
    "Now that you have written the model, the next step is to `compile` the model. When you print the `summary` of the model, you'll see the total number of parameters you have to train."
   ]
  },
  {
   "cell_type": "code",
   "execution_count": 14,
   "metadata": {
    "scrolled": true
   },
   "outputs": [
    {
     "name": "stdout",
     "output_type": "stream",
     "text": [
      "Model: \"sequential\"\n",
      "_________________________________________________________________\n",
      " Layer (type)                Output Shape              Param #   \n",
      "=================================================================\n",
      " conv3d (Conv3D)             (None, 30, 160, 160, 16)  1312      \n",
      "                                                                 \n",
      " activation (Activation)     (None, 30, 160, 160, 16)  0         \n",
      "                                                                 \n",
      " max_pooling3d (MaxPooling3D  (None, 15, 80, 80, 16)   0         \n",
      " )                                                               \n",
      "                                                                 \n",
      " conv3d_1 (Conv3D)           (None, 15, 80, 80, 32)    4128      \n",
      "                                                                 \n",
      " activation_1 (Activation)   (None, 15, 80, 80, 32)    0         \n",
      "                                                                 \n",
      " max_pooling3d_1 (MaxPooling  (None, 7, 40, 40, 32)    0         \n",
      " 3D)                                                             \n",
      "                                                                 \n",
      " conv3d_2 (Conv3D)           (None, 7, 40, 40, 64)     16448     \n",
      "                                                                 \n",
      " activation_2 (Activation)   (None, 7, 40, 40, 64)     0         \n",
      "                                                                 \n",
      " max_pooling3d_2 (MaxPooling  (None, 3, 20, 20, 64)    0         \n",
      " 3D)                                                             \n",
      "                                                                 \n",
      " conv3d_3 (Conv3D)           (None, 3, 20, 20, 128)    65664     \n",
      "                                                                 \n",
      " activation_3 (Activation)   (None, 3, 20, 20, 128)    0         \n",
      "                                                                 \n",
      " max_pooling3d_3 (MaxPooling  (None, 1, 10, 10, 128)   0         \n",
      " 3D)                                                             \n",
      "                                                                 \n",
      " flatten (Flatten)           (None, 12800)             0         \n",
      "                                                                 \n",
      " dense (Dense)               (None, 128)               1638528   \n",
      "                                                                 \n",
      " dense_1 (Dense)             (None, 64)                8256      \n",
      "                                                                 \n",
      " dense_2 (Dense)             (None, 5)                 325       \n",
      "                                                                 \n",
      "=================================================================\n",
      "Total params: 1,734,661\n",
      "Trainable params: 1,734,661\n",
      "Non-trainable params: 0\n",
      "_________________________________________________________________\n",
      "None\n"
     ]
    }
   ],
   "source": [
    "optimiser = 'Adam' #write your optimizer\n",
    "model.compile(optimizer=optimiser, loss='categorical_crossentropy', metrics=['categorical_accuracy'])\n",
    "print (model.summary())"
   ]
  },
  {
   "cell_type": "markdown",
   "metadata": {},
   "source": [
    "Let us now fit the model. This will start training the model and with the help of the checkpoints, you'll be able to save the model at the end of each epoch."
   ]
  },
  {
   "cell_type": "code",
   "execution_count": 15,
   "metadata": {},
   "outputs": [
    {
     "name": "stdout",
     "output_type": "stream",
     "text": [
      "Source path = /datasets/Project_data/train ; batch size = 20\n",
      "Epoch 1/25\n"
     ]
    },
    {
     "name": "stderr",
     "output_type": "stream",
     "text": [
      "2024-12-31 13:17:28.810373: I tensorflow/stream_executor/cuda/cuda_dnn.cc:377] Loaded cuDNN version 8302\n"
     ]
    },
    {
     "name": "stdout",
     "output_type": "stream",
     "text": [
      "34/34 [==============================] - ETA: 0s - loss: 1.5849 - categorical_accuracy: 0.1961Source path = /datasets/Project_data/val ; batch size = 20\n",
      "\n",
      "Epoch 00001: val_loss improved from inf to 1.46500, saving model to model_1_2024-12-3113_17_23.812989/model-00001-1.58494-0.19608-1.46500-0.33000.keras\n",
      "34/34 [==============================] - 97s 3s/step - loss: 1.5849 - categorical_accuracy: 0.1961 - val_loss: 1.4650 - val_categorical_accuracy: 0.3300 - lr: 0.0010\n",
      "Epoch 2/25\n",
      "34/34 [==============================] - ETA: 0s - loss: 1.4522 - categorical_accuracy: 0.3665\n",
      "Epoch 00002: val_loss improved from 1.46500 to 1.20017, saving model to model_1_2024-12-3113_17_23.812989/model-00002-1.45221-0.36652-1.20017-0.54000.keras\n",
      "34/34 [==============================] - 80s 2s/step - loss: 1.4522 - categorical_accuracy: 0.3665 - val_loss: 1.2002 - val_categorical_accuracy: 0.5400 - lr: 0.0010\n",
      "Epoch 3/25\n",
      "34/34 [==============================] - ETA: 0s - loss: 1.2395 - categorical_accuracy: 0.4630\n",
      "Epoch 00003: val_loss improved from 1.20017 to 1.04184, saving model to model_1_2024-12-3113_17_23.812989/model-00003-1.23953-0.46305-1.04184-0.53000.keras\n",
      "34/34 [==============================] - 66s 2s/step - loss: 1.2395 - categorical_accuracy: 0.4630 - val_loss: 1.0418 - val_categorical_accuracy: 0.5300 - lr: 0.0010\n",
      "Epoch 4/25\n",
      "33/34 [============================>.] - ETA: 1s - loss: 1.0089 - categorical_accuracy: 0.5652\n",
      "Epoch 00004: val_loss improved from 1.04184 to 0.95115, saving model to model_1_2024-12-3113_17_23.812989/model-00004-1.00702-0.56561-0.95115-0.59000.keras\n",
      "34/34 [==============================] - 54s 2s/step - loss: 1.0070 - categorical_accuracy: 0.5656 - val_loss: 0.9511 - val_categorical_accuracy: 0.5900 - lr: 0.0010\n",
      "Epoch 5/25\n",
      "34/34 [==============================] - ETA: 0s - loss: 0.8278 - categorical_accuracy: 0.6712\n",
      "Epoch 00005: val_loss improved from 0.95115 to 0.78678, saving model to model_1_2024-12-3113_17_23.812989/model-00005-0.82785-0.67119-0.78678-0.70000.keras\n",
      "34/34 [==============================] - 53s 2s/step - loss: 0.8278 - categorical_accuracy: 0.6712 - val_loss: 0.7868 - val_categorical_accuracy: 0.7000 - lr: 0.0010\n",
      "Epoch 6/25\n",
      "33/34 [============================>.] - ETA: 1s - loss: 0.6892 - categorical_accuracy: 0.7182\n",
      "Epoch 00006: val_loss improved from 0.78678 to 0.57675, saving model to model_1_2024-12-3113_17_23.812989/model-00006-0.68685-0.71946-0.57675-0.77000.keras\n",
      "34/34 [==============================] - 51s 2s/step - loss: 0.6869 - categorical_accuracy: 0.7195 - val_loss: 0.5767 - val_categorical_accuracy: 0.7700 - lr: 0.0010\n",
      "Epoch 7/25\n",
      "33/34 [============================>.] - ETA: 1s - loss: 0.5024 - categorical_accuracy: 0.8030\n",
      "Epoch 00007: val_loss did not improve from 0.57675\n",
      "34/34 [==============================] - 52s 2s/step - loss: 0.5013 - categorical_accuracy: 0.8039 - val_loss: 0.7185 - val_categorical_accuracy: 0.7100 - lr: 0.0010\n",
      "Epoch 8/25\n",
      "34/34 [==============================] - ETA: 0s - loss: 0.3550 - categorical_accuracy: 0.8703\n",
      "Epoch 00008: val_loss did not improve from 0.57675\n",
      "34/34 [==============================] - 54s 2s/step - loss: 0.3550 - categorical_accuracy: 0.8703 - val_loss: 0.8293 - val_categorical_accuracy: 0.6900 - lr: 0.0010\n",
      "Epoch 9/25\n",
      "33/34 [============================>.] - ETA: 1s - loss: 0.3345 - categorical_accuracy: 0.8848\n",
      "Epoch 00009: val_loss did not improve from 0.57675\n",
      "34/34 [==============================] - 50s 2s/step - loss: 0.3331 - categorical_accuracy: 0.8854 - val_loss: 0.7909 - val_categorical_accuracy: 0.6900 - lr: 0.0010\n",
      "Epoch 10/25\n",
      "34/34 [==============================] - ETA: 0s - loss: 0.1909 - categorical_accuracy: 0.9306\n",
      "Epoch 00010: val_loss did not improve from 0.57675\n",
      "34/34 [==============================] - 51s 2s/step - loss: 0.1909 - categorical_accuracy: 0.9306 - val_loss: 0.6845 - val_categorical_accuracy: 0.7400 - lr: 0.0010\n",
      "Epoch 11/25\n",
      "33/34 [============================>.] - ETA: 1s - loss: 0.1864 - categorical_accuracy: 0.9303\n",
      "Epoch 00011: val_loss did not improve from 0.57675\n",
      "\n",
      "Epoch 00011: ReduceLROnPlateau reducing learning rate to 0.00020000000949949026.\n",
      "34/34 [==============================] - 49s 1s/step - loss: 0.1888 - categorical_accuracy: 0.9291 - val_loss: 0.7340 - val_categorical_accuracy: 0.7400 - lr: 0.0010\n",
      "Epoch 12/25\n",
      "34/34 [==============================] - ETA: 0s - loss: 0.0962 - categorical_accuracy: 0.9729\n",
      "Epoch 00012: val_loss improved from 0.57675 to 0.49181, saving model to model_1_2024-12-3113_17_23.812989/model-00012-0.09620-0.97285-0.49181-0.81000.keras\n",
      "34/34 [==============================] - 48s 1s/step - loss: 0.0962 - categorical_accuracy: 0.9729 - val_loss: 0.4918 - val_categorical_accuracy: 0.8100 - lr: 2.0000e-04\n",
      "Epoch 13/25\n",
      "34/34 [==============================] - ETA: 0s - loss: 0.0458 - categorical_accuracy: 0.9910\n",
      "Epoch 00013: val_loss did not improve from 0.49181\n",
      "34/34 [==============================] - 48s 1s/step - loss: 0.0458 - categorical_accuracy: 0.9910 - val_loss: 0.6440 - val_categorical_accuracy: 0.7500 - lr: 2.0000e-04\n",
      "Epoch 14/25\n",
      "34/34 [==============================] - ETA: 0s - loss: 0.0302 - categorical_accuracy: 0.9940\n",
      "Epoch 00014: val_loss did not improve from 0.49181\n",
      "34/34 [==============================] - 48s 1s/step - loss: 0.0302 - categorical_accuracy: 0.9940 - val_loss: 0.7211 - val_categorical_accuracy: 0.7400 - lr: 2.0000e-04\n",
      "Epoch 15/25\n",
      "33/34 [============================>.] - ETA: 1s - loss: 0.0225 - categorical_accuracy: 0.9970\n",
      "Epoch 00015: val_loss did not improve from 0.49181\n",
      "34/34 [==============================] - 48s 1s/step - loss: 0.0224 - categorical_accuracy: 0.9970 - val_loss: 0.5329 - val_categorical_accuracy: 0.7900 - lr: 2.0000e-04\n",
      "Epoch 16/25\n",
      "34/34 [==============================] - ETA: 0s - loss: 0.0166 - categorical_accuracy: 1.0000\n",
      "Epoch 00016: val_loss did not improve from 0.49181\n",
      "34/34 [==============================] - 47s 1s/step - loss: 0.0166 - categorical_accuracy: 1.0000 - val_loss: 0.7058 - val_categorical_accuracy: 0.7500 - lr: 2.0000e-04\n",
      "Epoch 17/25\n",
      "33/34 [============================>.] - ETA: 1s - loss: 0.0123 - categorical_accuracy: 1.0000\n",
      "Epoch 00017: val_loss did not improve from 0.49181\n",
      "\n",
      "Epoch 00017: ReduceLROnPlateau reducing learning rate to 4.0000001899898055e-05.\n",
      "34/34 [==============================] - 47s 1s/step - loss: 0.0123 - categorical_accuracy: 1.0000 - val_loss: 0.8737 - val_categorical_accuracy: 0.7400 - lr: 2.0000e-04\n",
      "Epoch 18/25\n",
      "34/34 [==============================] - ETA: 0s - loss: 0.0100 - categorical_accuracy: 1.0000\n",
      "Epoch 00018: val_loss did not improve from 0.49181\n",
      "34/34 [==============================] - 47s 1s/step - loss: 0.0100 - categorical_accuracy: 1.0000 - val_loss: 0.7370 - val_categorical_accuracy: 0.7400 - lr: 4.0000e-05\n",
      "Epoch 19/25\n",
      "34/34 [==============================] - ETA: 0s - loss: 0.0091 - categorical_accuracy: 1.0000\n",
      "Epoch 00019: val_loss did not improve from 0.49181\n",
      "34/34 [==============================] - 47s 1s/step - loss: 0.0091 - categorical_accuracy: 1.0000 - val_loss: 0.5805 - val_categorical_accuracy: 0.8200 - lr: 4.0000e-05\n",
      "Epoch 20/25\n",
      "33/34 [============================>.] - ETA: 1s - loss: 0.0087 - categorical_accuracy: 1.0000\n",
      "Epoch 00020: val_loss did not improve from 0.49181\n",
      "34/34 [==============================] - 47s 1s/step - loss: 0.0086 - categorical_accuracy: 1.0000 - val_loss: 0.8352 - val_categorical_accuracy: 0.7400 - lr: 4.0000e-05\n",
      "Epoch 21/25\n",
      "33/34 [============================>.] - ETA: 1s - loss: 0.0082 - categorical_accuracy: 1.0000\n",
      "Epoch 00021: val_loss did not improve from 0.49181\n",
      "34/34 [==============================] - 48s 1s/step - loss: 0.0083 - categorical_accuracy: 1.0000 - val_loss: 0.7585 - val_categorical_accuracy: 0.7600 - lr: 4.0000e-05\n",
      "Epoch 22/25\n",
      "33/34 [============================>.] - ETA: 1s - loss: 0.0079 - categorical_accuracy: 1.0000\n",
      "Epoch 00022: val_loss did not improve from 0.49181\n",
      "\n",
      "Epoch 00022: ReduceLROnPlateau reducing learning rate to 8.000000525498762e-06.\n",
      "Restoring model weights from the end of the best epoch: 12.\n",
      "34/34 [==============================] - 48s 1s/step - loss: 0.0079 - categorical_accuracy: 1.0000 - val_loss: 0.7258 - val_categorical_accuracy: 0.7400 - lr: 4.0000e-05\n",
      "Epoch 00022: early stopping\n"
     ]
    }
   ],
   "source": [
    "# history = model.fit_generator(train_generator, steps_per_epoch=steps_per_epoch, epochs=num_epochs, verbose=1, \n",
    "#                     callbacks=callbacks_list, validation_data=val_generator, \n",
    "#                     validation_steps=validation_steps, class_weight=None, workers=4, initial_epoch=0,max_queue_size=20)\n",
    "\n",
    "# fit_generator is deprecated and will be removed in a future version. Using fit which supports generators.\n",
    "history=model.fit(train_generator,\n",
    "                  steps_per_epoch=steps_per_epoch,\n",
    "                  epochs=num_epochs,\n",
    "                  verbose=1,\n",
    "                  callbacks=callbacks_list,\n",
    "                  validation_data=val_generator,\n",
    "                  validation_steps=validation_steps,\n",
    "                  class_weight=None,\n",
    "                  batch_size=batch_size,\n",
    "                  initial_epoch=0)"
   ]
  },
  {
   "cell_type": "code",
   "execution_count": 16,
   "metadata": {},
   "outputs": [
    {
     "data": {
      "text/plain": [
       "<Figure size 720x720 with 0 Axes>"
      ]
     },
     "metadata": {},
     "output_type": "display_data"
    },
    {
     "data": {
      "image/png": "[encoded data removed]",
      "text/plain": [
       "<Figure size 576x576 with 2 Axes>"
      ]
     },
     "metadata": {
      "needs_background": "light"
     },
     "output_type": "display_data"
    }
   ],
   "source": [
    "plot_evaluation_graph()"
   ]
  },
  {
   "cell_type": "markdown",
   "metadata": {},
   "source": [
    "### Second Experiment - Conv3D with Data Augmentation"
   ]
  },
  {
   "cell_type": "code",
   "execution_count": 31,
   "metadata": {},
   "outputs": [],
   "source": [
    "model = Sequential()\n",
    "model.add(Conv3D(16, (3, 3, 3), padding='same',\n",
    "          input_shape=input_shape))\n",
    "model.add(Activation('relu'))\n",
    "model.add(MaxPooling3D(pool_size=(2, 2, 2)))\n",
    "\n",
    "model.add(Conv3D(32, (2, 2, 2), padding='same'))\n",
    "model.add(Activation('relu'))\n",
    "model.add(MaxPooling3D(pool_size=(2, 2, 2)))\n",
    "\n",
    "model.add(Conv3D(64, (2, 2, 2), padding='same'))\n",
    "model.add(Activation('relu'))\n",
    "model.add(MaxPooling3D(pool_size=(2, 2, 2)))\n",
    "\n",
    "model.add(Conv3D(128, (2, 2, 2), padding='same'))\n",
    "model.add(Activation('relu'))\n",
    "model.add(MaxPooling3D(pool_size=(2, 2, 2)))\n",
    "\n",
    "model.add(Flatten())\n",
    "model.add(Dense(128,activation='relu'))\n",
    "model.add(Dense(64,activation='relu'))\n",
    "\n",
    "model.add(Dense(num_classes,activation='softmax'))"
   ]
  },
  {
   "cell_type": "code",
   "execution_count": 32,
   "metadata": {},
   "outputs": [
    {
     "name": "stdout",
     "output_type": "stream",
     "text": [
      "Steps per epoch: 34\n",
      "Validation steps: 5\n"
     ]
    }
   ],
   "source": [
    "batch_size = 20 #experiment with the batch size\n",
    "image_count = 30 # number of images to be used for each video\n",
    "num_epochs = 25 # choose the number of epochs  \n",
    "train_generator = generator(train_path, train_doc, batch_size, augment=True)\n",
    "val_generator = generator(val_path, val_doc, batch_size, augment=True)\n",
    "\n",
    "callbacks_list = create_model_config('model_2')\n",
    "steps_per_epoch, validation_steps = calculate_steps_per_epoch()\n",
    "print(f\"Steps per epoch: {steps_per_epoch}\") \n",
    "print(f\"Validation steps: {validation_steps}\")"
   ]
  },
  {
   "cell_type": "code",
   "execution_count": 33,
   "metadata": {
    "scrolled": true
   },
   "outputs": [
    {
     "name": "stdout",
     "output_type": "stream",
     "text": [
      "Model: \"sequential_2\"\n",
      "_________________________________________________________________\n",
      " Layer (type)                Output Shape              Param #   \n",
      "=================================================================\n",
      " conv3d_8 (Conv3D)           (None, 30, 160, 160, 16)  1312      \n",
      "                                                                 \n",
      " activation_8 (Activation)   (None, 30, 160, 160, 16)  0         \n",
      "                                                                 \n",
      " max_pooling3d_8 (MaxPooling  (None, 15, 80, 80, 16)   0         \n",
      " 3D)                                                             \n",
      "                                                                 \n",
      " conv3d_9 (Conv3D)           (None, 15, 80, 80, 32)    4128      \n",
      "                                                                 \n",
      " activation_9 (Activation)   (None, 15, 80, 80, 32)    0         \n",
      "                                                                 \n",
      " max_pooling3d_9 (MaxPooling  (None, 7, 40, 40, 32)    0         \n",
      " 3D)                                                             \n",
      "                                                                 \n",
      " conv3d_10 (Conv3D)          (None, 7, 40, 40, 64)     16448     \n",
      "                                                                 \n",
      " activation_10 (Activation)  (None, 7, 40, 40, 64)     0         \n",
      "                                                                 \n",
      " max_pooling3d_10 (MaxPoolin  (None, 3, 20, 20, 64)    0         \n",
      " g3D)                                                            \n",
      "                                                                 \n",
      " conv3d_11 (Conv3D)          (None, 3, 20, 20, 128)    65664     \n",
      "                                                                 \n",
      " activation_11 (Activation)  (None, 3, 20, 20, 128)    0         \n",
      "                                                                 \n",
      " max_pooling3d_11 (MaxPoolin  (None, 1, 10, 10, 128)   0         \n",
      " g3D)                                                            \n",
      "                                                                 \n",
      " flatten_2 (Flatten)         (None, 12800)             0         \n",
      "                                                                 \n",
      " dense_6 (Dense)             (None, 128)               1638528   \n",
      "                                                                 \n",
      " dense_7 (Dense)             (None, 64)                8256      \n",
      "                                                                 \n",
      " dense_8 (Dense)             (None, 5)                 325       \n",
      "                                                                 \n",
      "=================================================================\n",
      "Total params: 1,734,661\n",
      "Trainable params: 1,734,661\n",
      "Non-trainable params: 0\n",
      "_________________________________________________________________\n",
      "None\n"
     ]
    }
   ],
   "source": [
    "optimiser = 'Adam' #write your optimizer\n",
    "model.compile(optimizer=optimiser, loss='categorical_crossentropy', metrics=['categorical_accuracy'])\n",
    "print (model.summary())"
   ]
  },
  {
   "cell_type": "code",
   "execution_count": 34,
   "metadata": {},
   "outputs": [
    {
     "name": "stdout",
     "output_type": "stream",
     "text": [
      "Source path = /datasets/Project_data/train ; batch size = 20\n",
      "Epoch 1/25\n",
      "34/34 [==============================] - ETA: 0s - loss: 1.5833 - categorical_accuracy: 0.2112Source path = /datasets/Project_data/val ; batch size = 20\n",
      "\n",
      "Epoch 00001: val_loss improved from inf to 1.47166, saving model to model_2_2024-12-3114_11_23.804348/model-00001-1.58332-0.21116-1.47166-0.47000.keras\n",
      "34/34 [==============================] - 144s 4s/step - loss: 1.5833 - categorical_accuracy: 0.2112 - val_loss: 1.4717 - val_categorical_accuracy: 0.4700 - lr: 0.0010\n",
      "Epoch 2/25\n",
      "34/34 [==============================] - ETA: 0s - loss: 1.4640 - categorical_accuracy: 0.3869\n",
      "Epoch 00002: val_loss improved from 1.47166 to 1.26740, saving model to model_2_2024-12-3114_11_23.804348/model-00002-1.46403-0.38688-1.26740-0.43500.keras\n",
      "34/34 [==============================] - 141s 4s/step - loss: 1.4640 - categorical_accuracy: 0.3869 - val_loss: 1.2674 - val_categorical_accuracy: 0.4350 - lr: 0.0010\n",
      "Epoch 3/25\n",
      "34/34 [==============================] - ETA: 0s - loss: 1.2068 - categorical_accuracy: 0.4977\n",
      "Epoch 00003: val_loss improved from 1.26740 to 0.99871, saving model to model_2_2024-12-3114_11_23.804348/model-00003-1.20675-0.49774-0.99871-0.63000.keras\n",
      "34/34 [==============================] - 138s 4s/step - loss: 1.2068 - categorical_accuracy: 0.4977 - val_loss: 0.9987 - val_categorical_accuracy: 0.6300 - lr: 0.0010\n",
      "Epoch 4/25\n",
      "34/34 [==============================] - ETA: 0s - loss: 1.1765 - categorical_accuracy: 0.4932\n",
      "Epoch 00004: val_loss did not improve from 0.99871\n",
      "34/34 [==============================] - 136s 4s/step - loss: 1.1765 - categorical_accuracy: 0.4932 - val_loss: 1.1253 - val_categorical_accuracy: 0.4800 - lr: 0.0010\n",
      "Epoch 5/25\n",
      "34/34 [==============================] - ETA: 0s - loss: 1.1025 - categorical_accuracy: 0.5498\n",
      "Epoch 00005: val_loss improved from 0.99871 to 0.95129, saving model to model_2_2024-12-3114_11_23.804348/model-00005-1.10253-0.54977-0.95129-0.56000.keras\n",
      "34/34 [==============================] - 140s 4s/step - loss: 1.1025 - categorical_accuracy: 0.5498 - val_loss: 0.9513 - val_categorical_accuracy: 0.5600 - lr: 0.0010\n",
      "Epoch 6/25\n",
      "34/34 [==============================] - ETA: 0s - loss: 1.0042 - categorical_accuracy: 0.5837\n",
      "Epoch 00006: val_loss improved from 0.95129 to 0.82888, saving model to model_2_2024-12-3114_11_23.804348/model-00006-1.00422-0.58371-0.82888-0.65000.keras\n",
      "34/34 [==============================] - 137s 4s/step - loss: 1.0042 - categorical_accuracy: 0.5837 - val_loss: 0.8289 - val_categorical_accuracy: 0.6500 - lr: 0.0010\n",
      "Epoch 7/25\n",
      "34/34 [==============================] - ETA: 0s - loss: 0.8796 - categorical_accuracy: 0.6365\n",
      "Epoch 00007: val_loss did not improve from 0.82888\n",
      "34/34 [==============================] - 139s 4s/step - loss: 0.8796 - categorical_accuracy: 0.6365 - val_loss: 0.9363 - val_categorical_accuracy: 0.6050 - lr: 0.0010\n",
      "Epoch 8/25\n",
      "34/34 [==============================] - ETA: 0s - loss: 0.8368 - categorical_accuracy: 0.6629\n",
      "Epoch 00008: val_loss improved from 0.82888 to 0.70531, saving model to model_2_2024-12-3114_11_23.804348/model-00008-0.83683-0.66290-0.70531-0.73000.keras\n",
      "34/34 [==============================] - 139s 4s/step - loss: 0.8368 - categorical_accuracy: 0.6629 - val_loss: 0.7053 - val_categorical_accuracy: 0.7300 - lr: 0.0010\n",
      "Epoch 9/25\n",
      "34/34 [==============================] - ETA: 0s - loss: 0.7164 - categorical_accuracy: 0.7089\n",
      "Epoch 00009: val_loss did not improve from 0.70531\n",
      "34/34 [==============================] - 138s 4s/step - loss: 0.7164 - categorical_accuracy: 0.7089 - val_loss: 0.8138 - val_categorical_accuracy: 0.6750 - lr: 0.0010\n",
      "Epoch 10/25\n",
      "34/34 [==============================] - ETA: 0s - loss: 0.6982 - categorical_accuracy: 0.7097\n",
      "Epoch 00010: val_loss did not improve from 0.70531\n",
      "34/34 [==============================] - 140s 4s/step - loss: 0.6982 - categorical_accuracy: 0.7097 - val_loss: 0.9685 - val_categorical_accuracy: 0.5850 - lr: 0.0010\n",
      "Epoch 11/25\n",
      "34/34 [==============================] - ETA: 0s - loss: 0.7138 - categorical_accuracy: 0.7089\n",
      "Epoch 00011: val_loss did not improve from 0.70531\n",
      "34/34 [==============================] - 141s 4s/step - loss: 0.7138 - categorical_accuracy: 0.7089 - val_loss: 0.7479 - val_categorical_accuracy: 0.7500 - lr: 0.0010\n",
      "Epoch 12/25\n",
      "34/34 [==============================] - ETA: 0s - loss: 0.5429 - categorical_accuracy: 0.7760\n",
      "Epoch 00012: val_loss improved from 0.70531 to 0.67838, saving model to model_2_2024-12-3114_11_23.804348/model-00012-0.54289-0.77602-0.67838-0.80000.keras\n",
      "34/34 [==============================] - 139s 4s/step - loss: 0.5429 - categorical_accuracy: 0.7760 - val_loss: 0.6784 - val_categorical_accuracy: 0.8000 - lr: 0.0010\n",
      "Epoch 13/25\n",
      "34/34 [==============================] - ETA: 0s - loss: 0.4969 - categorical_accuracy: 0.8062\n",
      "Epoch 00013: val_loss did not improve from 0.67838\n",
      "34/34 [==============================] - 136s 4s/step - loss: 0.4969 - categorical_accuracy: 0.8062 - val_loss: 0.9853 - val_categorical_accuracy: 0.6550 - lr: 0.0010\n",
      "Epoch 14/25\n",
      "34/34 [==============================] - ETA: 0s - loss: 0.4545 - categorical_accuracy: 0.8228\n",
      "Epoch 00014: val_loss did not improve from 0.67838\n",
      "34/34 [==============================] - 138s 4s/step - loss: 0.4545 - categorical_accuracy: 0.8228 - val_loss: 0.8583 - val_categorical_accuracy: 0.7400 - lr: 0.0010\n",
      "Epoch 15/25\n",
      "34/34 [==============================] - ETA: 0s - loss: 0.3352 - categorical_accuracy: 0.8703\n",
      "Epoch 00015: val_loss did not improve from 0.67838\n",
      "34/34 [==============================] - 138s 4s/step - loss: 0.3352 - categorical_accuracy: 0.8703 - val_loss: 0.9962 - val_categorical_accuracy: 0.7450 - lr: 0.0010\n",
      "Epoch 16/25\n",
      "34/34 [==============================] - ETA: 0s - loss: 0.3869 - categorical_accuracy: 0.8484\n",
      "Epoch 00016: val_loss did not improve from 0.67838\n",
      "34/34 [==============================] - 137s 4s/step - loss: 0.3869 - categorical_accuracy: 0.8484 - val_loss: 0.8874 - val_categorical_accuracy: 0.7350 - lr: 0.0010\n",
      "Epoch 17/25\n",
      "34/34 [==============================] - ETA: 0s - loss: 0.3170 - categorical_accuracy: 0.8771\n",
      "Epoch 00017: val_loss did not improve from 0.67838\n",
      "\n",
      "Epoch 00017: ReduceLROnPlateau reducing learning rate to 0.00020000000949949026.\n",
      "34/34 [==============================] - 136s 4s/step - loss: 0.3170 - categorical_accuracy: 0.8771 - val_loss: 0.9166 - val_categorical_accuracy: 0.7350 - lr: 0.0010\n",
      "Epoch 18/25\n",
      "34/34 [==============================] - ETA: 0s - loss: 0.1815 - categorical_accuracy: 0.9299\n",
      "Epoch 00018: val_loss did not improve from 0.67838\n",
      "34/34 [==============================] - 139s 4s/step - loss: 0.1815 - categorical_accuracy: 0.9299 - val_loss: 1.0439 - val_categorical_accuracy: 0.7700 - lr: 2.0000e-04\n",
      "Epoch 19/25\n",
      "34/34 [==============================] - ETA: 0s - loss: 0.1545 - categorical_accuracy: 0.9359\n",
      "Epoch 00019: val_loss did not improve from 0.67838\n",
      "34/34 [==============================] - 138s 4s/step - loss: 0.1545 - categorical_accuracy: 0.9359 - val_loss: 1.2375 - val_categorical_accuracy: 0.7050 - lr: 2.0000e-04\n",
      "Epoch 20/25\n",
      "34/34 [==============================] - ETA: 0s - loss: 0.1468 - categorical_accuracy: 0.9472\n",
      "Epoch 00020: val_loss did not improve from 0.67838\n",
      "34/34 [==============================] - 141s 4s/step - loss: 0.1468 - categorical_accuracy: 0.9472 - val_loss: 1.2113 - val_categorical_accuracy: 0.7450 - lr: 2.0000e-04\n",
      "Epoch 21/25\n",
      "34/34 [==============================] - ETA: 0s - loss: 0.1412 - categorical_accuracy: 0.9457\n",
      "Epoch 00021: val_loss did not improve from 0.67838\n",
      "34/34 [==============================] - 137s 4s/step - loss: 0.1412 - categorical_accuracy: 0.9457 - val_loss: 1.1808 - val_categorical_accuracy: 0.7400 - lr: 2.0000e-04\n",
      "Epoch 22/25\n",
      "34/34 [==============================] - ETA: 0s - loss: 0.1302 - categorical_accuracy: 0.9563\n",
      "Epoch 00022: val_loss did not improve from 0.67838\n",
      "\n",
      "Epoch 00022: ReduceLROnPlateau reducing learning rate to 4.0000001899898055e-05.\n",
      "Restoring model weights from the end of the best epoch: 12.\n",
      "34/34 [==============================] - 138s 4s/step - loss: 0.1302 - categorical_accuracy: 0.9563 - val_loss: 1.3374 - val_categorical_accuracy: 0.7200 - lr: 2.0000e-04\n",
      "Epoch 00022: early stopping\n"
     ]
    }
   ],
   "source": [
    "# history = model.fit_generator(train_generator, steps_per_epoch=steps_per_epoch, epochs=num_epochs, verbose=1, \n",
    "#                     callbacks=callbacks_list, validation_data=val_generator, \n",
    "#                     validation_steps=validation_steps, class_weight=None, workers=4, initial_epoch=0,max_queue_size=20)\n",
    "\n",
    "# fit_generator is deprecated and will be removed in a future version. Using fit which supports generators.\n",
    "history=model.fit(train_generator,\n",
    "                  steps_per_epoch=steps_per_epoch,\n",
    "                  epochs=num_epochs,\n",
    "                  verbose=1,\n",
    "                  callbacks=callbacks_list,\n",
    "                  validation_data=val_generator,\n",
    "                  validation_steps=validation_steps,\n",
    "                  class_weight=None,\n",
    "                  batch_size=batch_size,\n",
    "                  initial_epoch=0)"
   ]
  },
  {
   "cell_type": "code",
   "execution_count": 36,
   "metadata": {},
   "outputs": [
    {
     "data": {
      "text/plain": [
       "<Figure size 720x720 with 0 Axes>"
      ]
     },
     "metadata": {},
     "output_type": "display_data"
    },
    {
     "data": {
      "image/png": "[encoded data removed]",
      "text/plain": [
       "<Figure size 576x576 with 2 Axes>"
      ]
     },
     "metadata": {
      "needs_background": "light"
     },
     "output_type": "display_data"
    }
   ],
   "source": [
    "plot_evaluation_graph()"
   ]
  },
  {
   "cell_type": "markdown",
   "metadata": {},
   "source": []
  },
  {
   "cell_type": "markdown",
   "metadata": {},
   "source": [
    "### Thrid Experiment - Conv3D with Data Augmentation and additional Layer"
   ]
  },
  {
   "cell_type": "code",
   "execution_count": 37,
   "metadata": {},
   "outputs": [],
   "source": [
    "model = Sequential()\n",
    "model.add(Conv3D(8, (2, 2, 2), padding='same',\n",
    "          input_shape=input_shape))\n",
    "model.add(Activation('relu'))\n",
    "\n",
    "model.add(Conv3D(16, (2, 2, 2), padding='same'))\n",
    "model.add(Activation('relu'))\n",
    "model.add(MaxPooling3D(pool_size=(2, 2, 2)))\n",
    "\n",
    "model.add(Conv3D(32, (2, 2, 2), padding='same'))\n",
    "model.add(Activation('relu'))\n",
    "model.add(MaxPooling3D(pool_size=(2, 2, 2)))\n",
    "\n",
    "model.add(Conv3D(64, (2, 2, 2), padding='same'))\n",
    "model.add(Activation('relu'))\n",
    "model.add(MaxPooling3D(pool_size=(2, 2, 2)))\n",
    "\n",
    "model.add(Conv3D(128, (2, 2, 2), padding='same'))\n",
    "model.add(Activation('relu'))\n",
    "model.add(MaxPooling3D(pool_size=(2, 2, 2)))\n",
    "\n",
    "model.add(Flatten())\n",
    "model.add(Dense(128,activation='relu'))\n",
    "model.add(Dense(64,activation='relu'))\n",
    "\n",
    "model.add(Dense(num_classes,activation='softmax'))"
   ]
  },
  {
   "cell_type": "code",
   "execution_count": 38,
   "metadata": {},
   "outputs": [
    {
     "name": "stdout",
     "output_type": "stream",
     "text": [
      "Steps per epoch: 34\n",
      "Validation steps: 5\n"
     ]
    }
   ],
   "source": [
    "batch_size = 20 #experiment with the batch size\n",
    "image_count = 30 # number of images to be used for each video\n",
    "num_epochs = 25 # choose the number of epochs  \n",
    "train_generator = generator(train_path, train_doc, batch_size, augment=True)\n",
    "val_generator = generator(val_path, val_doc, batch_size, augment=True)\n",
    "\n",
    "callbacks_list = create_model_config('model_3')\n",
    "steps_per_epoch, validation_steps = calculate_steps_per_epoch()\n",
    "print(f\"Steps per epoch: {steps_per_epoch}\") \n",
    "print(f\"Validation steps: {validation_steps}\")"
   ]
  },
  {
   "cell_type": "code",
   "execution_count": 39,
   "metadata": {},
   "outputs": [
    {
     "name": "stdout",
     "output_type": "stream",
     "text": [
      "Model: \"sequential_3\"\n",
      "_________________________________________________________________\n",
      " Layer (type)                Output Shape              Param #   \n",
      "=================================================================\n",
      " conv3d_12 (Conv3D)          (None, 30, 160, 160, 8)   200       \n",
      "                                                                 \n",
      " activation_12 (Activation)  (None, 30, 160, 160, 8)   0         \n",
      "                                                                 \n",
      " conv3d_13 (Conv3D)          (None, 30, 160, 160, 16)  1040      \n",
      "                                                                 \n",
      " activation_13 (Activation)  (None, 30, 160, 160, 16)  0         \n",
      "                                                                 \n",
      " max_pooling3d_12 (MaxPoolin  (None, 15, 80, 80, 16)   0         \n",
      " g3D)                                                            \n",
      "                                                                 \n",
      " conv3d_14 (Conv3D)          (None, 15, 80, 80, 32)    4128      \n",
      "                                                                 \n",
      " activation_14 (Activation)  (None, 15, 80, 80, 32)    0         \n",
      "                                                                 \n",
      " max_pooling3d_13 (MaxPoolin  (None, 7, 40, 40, 32)    0         \n",
      " g3D)                                                            \n",
      "                                                                 \n",
      " conv3d_15 (Conv3D)          (None, 7, 40, 40, 64)     16448     \n",
      "                                                                 \n",
      " activation_15 (Activation)  (None, 7, 40, 40, 64)     0         \n",
      "                                                                 \n",
      " max_pooling3d_14 (MaxPoolin  (None, 3, 20, 20, 64)    0         \n",
      " g3D)                                                            \n",
      "                                                                 \n",
      " conv3d_16 (Conv3D)          (None, 3, 20, 20, 128)    65664     \n",
      "                                                                 \n",
      " activation_16 (Activation)  (None, 3, 20, 20, 128)    0         \n",
      "                                                                 \n",
      " max_pooling3d_15 (MaxPoolin  (None, 1, 10, 10, 128)   0         \n",
      " g3D)                                                            \n",
      "                                                                 \n",
      " flatten_3 (Flatten)         (None, 12800)             0         \n",
      "                                                                 \n",
      " dense_9 (Dense)             (None, 128)               1638528   \n",
      "                                                                 \n",
      " dense_10 (Dense)            (None, 64)                8256      \n",
      "                                                                 \n",
      " dense_11 (Dense)            (None, 5)                 325       \n",
      "                                                                 \n",
      "=================================================================\n",
      "Total params: 1,734,589\n",
      "Trainable params: 1,734,589\n",
      "Non-trainable params: 0\n",
      "_________________________________________________________________\n",
      "None\n"
     ]
    }
   ],
   "source": [
    "optimiser = 'Adam' #write your optimizer\n",
    "model.compile(optimizer=optimiser, loss='categorical_crossentropy', metrics=['categorical_accuracy'])\n",
    "print (model.summary())"
   ]
  },
  {
   "cell_type": "code",
   "execution_count": 40,
   "metadata": {},
   "outputs": [
    {
     "name": "stdout",
     "output_type": "stream",
     "text": [
      "Source path = /datasets/Project_data/train ; batch size = 20\n",
      "Epoch 1/25\n",
      "34/34 [==============================] - ETA: 0s - loss: 1.5964 - categorical_accuracy: 0.2443Source path = /datasets/Project_data/val ; batch size = 20\n",
      "\n",
      "Epoch 00001: val_loss improved from inf to 1.59319, saving model to model_3_2024-12-3114_11_23.804348/model-00001-1.59641-0.24434-1.59319-0.39000.keras\n",
      "34/34 [==============================] - 120s 4s/step - loss: 1.5964 - categorical_accuracy: 0.2443 - val_loss: 1.5932 - val_categorical_accuracy: 0.3900 - lr: 0.0010\n",
      "Epoch 2/25\n",
      "34/34 [==============================] - ETA: 0s - loss: 1.5078 - categorical_accuracy: 0.3100\n",
      "Epoch 00002: val_loss improved from 1.59319 to 1.47162, saving model to model_3_2024-12-3114_11_23.804348/model-00002-1.50780-0.30995-1.47162-0.56500.keras\n",
      "34/34 [==============================] - 108s 3s/step - loss: 1.5078 - categorical_accuracy: 0.3100 - val_loss: 1.4716 - val_categorical_accuracy: 0.5650 - lr: 0.0010\n",
      "Epoch 3/25\n",
      "34/34 [==============================] - ETA: 0s - loss: 1.3831 - categorical_accuracy: 0.4389\n",
      "Epoch 00003: val_loss improved from 1.47162 to 1.14018, saving model to model_3_2024-12-3114_11_23.804348/model-00003-1.38310-0.43891-1.14018-0.49000.keras\n",
      "34/34 [==============================] - 107s 3s/step - loss: 1.3831 - categorical_accuracy: 0.4389 - val_loss: 1.1402 - val_categorical_accuracy: 0.4900 - lr: 0.0010\n",
      "Epoch 4/25\n",
      "34/34 [==============================] - ETA: 0s - loss: 1.2034 - categorical_accuracy: 0.4819\n",
      "Epoch 00004: val_loss did not improve from 1.14018\n",
      "34/34 [==============================] - 106s 3s/step - loss: 1.2034 - categorical_accuracy: 0.4819 - val_loss: 1.5414 - val_categorical_accuracy: 0.3450 - lr: 0.0010\n",
      "Epoch 5/25\n",
      "34/34 [==============================] - ETA: 0s - loss: 1.1016 - categorical_accuracy: 0.5460\n",
      "Epoch 00005: val_loss improved from 1.14018 to 1.00426, saving model to model_3_2024-12-3114_11_23.804348/model-00005-1.10159-0.54600-1.00426-0.58500.keras\n",
      "34/34 [==============================] - 106s 3s/step - loss: 1.1016 - categorical_accuracy: 0.5460 - val_loss: 1.0043 - val_categorical_accuracy: 0.5850 - lr: 0.0010\n",
      "Epoch 6/25\n",
      "34/34 [==============================] - ETA: 0s - loss: 1.0266 - categorical_accuracy: 0.5860\n",
      "Epoch 00006: val_loss improved from 1.00426 to 0.97631, saving model to model_3_2024-12-3114_11_23.804348/model-00006-1.02662-0.58597-0.97631-0.64500.keras\n",
      "34/34 [==============================] - 105s 3s/step - loss: 1.0266 - categorical_accuracy: 0.5860 - val_loss: 0.9763 - val_categorical_accuracy: 0.6450 - lr: 0.0010\n",
      "Epoch 7/25\n",
      "34/34 [==============================] - ETA: 0s - loss: 0.8837 - categorical_accuracy: 0.6388\n",
      "Epoch 00007: val_loss improved from 0.97631 to 0.93428, saving model to model_3_2024-12-3114_11_23.804348/model-00007-0.88372-0.63876-0.93428-0.62000.keras\n",
      "34/34 [==============================] - 106s 3s/step - loss: 0.8837 - categorical_accuracy: 0.6388 - val_loss: 0.9343 - val_categorical_accuracy: 0.6200 - lr: 0.0010\n",
      "Epoch 8/25\n",
      "34/34 [==============================] - ETA: 0s - loss: 0.7613 - categorical_accuracy: 0.6983\n",
      "Epoch 00008: val_loss improved from 0.93428 to 0.77323, saving model to model_3_2024-12-3114_11_23.804348/model-00008-0.76133-0.69834-0.77323-0.69000.keras\n",
      "34/34 [==============================] - 106s 3s/step - loss: 0.7613 - categorical_accuracy: 0.6983 - val_loss: 0.7732 - val_categorical_accuracy: 0.6900 - lr: 0.0010\n",
      "Epoch 9/25\n",
      "34/34 [==============================] - ETA: 0s - loss: 0.6573 - categorical_accuracy: 0.7353\n",
      "Epoch 00009: val_loss did not improve from 0.77323\n",
      "34/34 [==============================] - 105s 3s/step - loss: 0.6573 - categorical_accuracy: 0.7353 - val_loss: 0.8362 - val_categorical_accuracy: 0.6700 - lr: 0.0010\n",
      "Epoch 10/25\n",
      "34/34 [==============================] - ETA: 0s - loss: 0.6295 - categorical_accuracy: 0.7647\n",
      "Epoch 00010: val_loss improved from 0.77323 to 0.76984, saving model to model_3_2024-12-3114_11_23.804348/model-00010-0.62948-0.76471-0.76984-0.72500.keras\n",
      "34/34 [==============================] - 106s 3s/step - loss: 0.6295 - categorical_accuracy: 0.7647 - val_loss: 0.7698 - val_categorical_accuracy: 0.7250 - lr: 0.0010\n",
      "Epoch 11/25\n",
      "34/34 [==============================] - ETA: 0s - loss: 0.4350 - categorical_accuracy: 0.8220\n",
      "Epoch 00011: val_loss did not improve from 0.76984\n",
      "34/34 [==============================] - 106s 3s/step - loss: 0.4350 - categorical_accuracy: 0.8220 - val_loss: 0.8555 - val_categorical_accuracy: 0.6900 - lr: 0.0010\n",
      "Epoch 12/25\n",
      "34/34 [==============================] - ETA: 0s - loss: 0.3925 - categorical_accuracy: 0.8529\n",
      "Epoch 00012: val_loss improved from 0.76984 to 0.73778, saving model to model_3_2024-12-3114_11_23.804348/model-00012-0.39246-0.85294-0.73778-0.77000.keras\n",
      "34/34 [==============================] - 106s 3s/step - loss: 0.3925 - categorical_accuracy: 0.8529 - val_loss: 0.7378 - val_categorical_accuracy: 0.7700 - lr: 0.0010\n",
      "Epoch 13/25\n",
      "34/34 [==============================] - ETA: 0s - loss: 0.3494 - categorical_accuracy: 0.8537\n",
      "Epoch 00013: val_loss did not improve from 0.73778\n",
      "34/34 [==============================] - 106s 3s/step - loss: 0.3494 - categorical_accuracy: 0.8537 - val_loss: 1.1280 - val_categorical_accuracy: 0.6750 - lr: 0.0010\n",
      "Epoch 14/25\n",
      "34/34 [==============================] - ETA: 0s - loss: 0.3743 - categorical_accuracy: 0.8560\n",
      "Epoch 00014: val_loss improved from 0.73778 to 0.73280, saving model to model_3_2024-12-3114_11_23.804348/model-00014-0.37426-0.85596-0.73280-0.74500.keras\n",
      "34/34 [==============================] - 107s 3s/step - loss: 0.3743 - categorical_accuracy: 0.8560 - val_loss: 0.7328 - val_categorical_accuracy: 0.7450 - lr: 0.0010\n",
      "Epoch 15/25\n",
      "34/34 [==============================] - ETA: 0s - loss: 0.2972 - categorical_accuracy: 0.8831\n",
      "Epoch 00015: val_loss did not improve from 0.73280\n",
      "34/34 [==============================] - 107s 3s/step - loss: 0.2972 - categorical_accuracy: 0.8831 - val_loss: 0.7964 - val_categorical_accuracy: 0.7650 - lr: 0.0010\n",
      "Epoch 16/25\n",
      "34/34 [==============================] - ETA: 0s - loss: 0.2050 - categorical_accuracy: 0.9216\n",
      "Epoch 00016: val_loss did not improve from 0.73280\n",
      "34/34 [==============================] - 107s 3s/step - loss: 0.2050 - categorical_accuracy: 0.9216 - val_loss: 1.0554 - val_categorical_accuracy: 0.6900 - lr: 0.0010\n",
      "Epoch 17/25\n",
      "34/34 [==============================] - ETA: 0s - loss: 0.1590 - categorical_accuracy: 0.9397\n",
      "Epoch 00017: val_loss did not improve from 0.73280\n",
      "34/34 [==============================] - 106s 3s/step - loss: 0.1590 - categorical_accuracy: 0.9397 - val_loss: 1.1317 - val_categorical_accuracy: 0.7450 - lr: 0.0010\n",
      "Epoch 18/25\n",
      "34/34 [==============================] - ETA: 0s - loss: 0.2171 - categorical_accuracy: 0.9148\n",
      "Epoch 00018: val_loss improved from 0.73280 to 0.63865, saving model to model_3_2024-12-3114_11_23.804348/model-00018-0.21707-0.91478-0.63865-0.80500.keras\n",
      "34/34 [==============================] - 106s 3s/step - loss: 0.2171 - categorical_accuracy: 0.9148 - val_loss: 0.6386 - val_categorical_accuracy: 0.8050 - lr: 0.0010\n",
      "Epoch 19/25\n",
      "34/34 [==============================] - ETA: 0s - loss: 0.1312 - categorical_accuracy: 0.9578\n",
      "Epoch 00019: val_loss did not improve from 0.63865\n",
      "34/34 [==============================] - 107s 3s/step - loss: 0.1312 - categorical_accuracy: 0.9578 - val_loss: 1.1237 - val_categorical_accuracy: 0.6650 - lr: 0.0010\n",
      "Epoch 20/25\n",
      "34/34 [==============================] - ETA: 0s - loss: 0.1046 - categorical_accuracy: 0.9615\n",
      "Epoch 00020: val_loss did not improve from 0.63865\n",
      "34/34 [==============================] - 106s 3s/step - loss: 0.1046 - categorical_accuracy: 0.9615 - val_loss: 1.1055 - val_categorical_accuracy: 0.7050 - lr: 0.0010\n",
      "Epoch 21/25\n",
      "34/34 [==============================] - ETA: 0s - loss: 0.0861 - categorical_accuracy: 0.9713\n",
      "Epoch 00021: val_loss did not improve from 0.63865\n",
      "34/34 [==============================] - 106s 3s/step - loss: 0.0861 - categorical_accuracy: 0.9713 - val_loss: 1.2617 - val_categorical_accuracy: 0.6950 - lr: 0.0010\n",
      "Epoch 22/25\n",
      "34/34 [==============================] - ETA: 0s - loss: 0.1267 - categorical_accuracy: 0.9517\n",
      "Epoch 00022: val_loss did not improve from 0.63865\n",
      "34/34 [==============================] - 106s 3s/step - loss: 0.1267 - categorical_accuracy: 0.9517 - val_loss: 1.0942 - val_categorical_accuracy: 0.7250 - lr: 0.0010\n",
      "Epoch 23/25\n",
      "34/34 [==============================] - ETA: 0s - loss: 0.0749 - categorical_accuracy: 0.9751\n",
      "Epoch 00023: val_loss did not improve from 0.63865\n",
      "\n",
      "Epoch 00023: ReduceLROnPlateau reducing learning rate to 0.00020000000949949026.\n",
      "34/34 [==============================] - 107s 3s/step - loss: 0.0749 - categorical_accuracy: 0.9751 - val_loss: 1.5998 - val_categorical_accuracy: 0.6700 - lr: 0.0010\n",
      "Epoch 24/25\n",
      "34/34 [==============================] - ETA: 0s - loss: 0.0362 - categorical_accuracy: 0.9917\n",
      "Epoch 00024: val_loss did not improve from 0.63865\n",
      "34/34 [==============================] - 106s 3s/step - loss: 0.0362 - categorical_accuracy: 0.9917 - val_loss: 1.1855 - val_categorical_accuracy: 0.7150 - lr: 2.0000e-04\n",
      "Epoch 25/25\n",
      "34/34 [==============================] - ETA: 0s - loss: 0.0318 - categorical_accuracy: 0.9902\n",
      "Epoch 00025: val_loss did not improve from 0.63865\n",
      "34/34 [==============================] - 106s 3s/step - loss: 0.0318 - categorical_accuracy: 0.9902 - val_loss: 1.7731 - val_categorical_accuracy: 0.6650 - lr: 2.0000e-04\n"
     ]
    }
   ],
   "source": [
    "# history = model.fit_generator(train_generator, steps_per_epoch=steps_per_epoch, epochs=num_epochs, verbose=1, \n",
    "#                     callbacks=callbacks_list, validation_data=val_generator, \n",
    "#                     validation_steps=validation_steps, class_weight=None, workers=4, initial_epoch=0,max_queue_size=20)\n",
    "\n",
    "# fit_generator is deprecated and will be removed in a future version. Using fit which supports generators.\n",
    "history=model.fit(train_generator,\n",
    "                  steps_per_epoch=steps_per_epoch,\n",
    "                  epochs=num_epochs,\n",
    "                  verbose=1,\n",
    "                  callbacks=callbacks_list,\n",
    "                  validation_data=val_generator,\n",
    "                  validation_steps=validation_steps,\n",
    "                  class_weight=None,\n",
    "                  batch_size=batch_size,\n",
    "                  initial_epoch=0)"
   ]
  },
  {
   "cell_type": "code",
   "execution_count": 41,
   "metadata": {},
   "outputs": [
    {
     "data": {
      "text/plain": [
       "<Figure size 720x720 with 0 Axes>"
      ]
     },
     "metadata": {},
     "output_type": "display_data"
    },
    {
     "data": {
      "image/png": "[encoded data removed]",
      "text/plain": [
       "<Figure size 576x576 with 2 Axes>"
      ]
     },
     "metadata": {
      "needs_background": "light"
     },
     "output_type": "display_data"
    }
   ],
   "source": [
    "plot_evaluation_graph()"
   ]
  },
  {
   "cell_type": "markdown",
   "metadata": {},
   "source": [
    "### Fouth Experiment - CNN 2D and RNN (LSTM) with Data Augmentation"
   ]
  },
  {
   "cell_type": "code",
   "execution_count": null,
   "metadata": {},
   "outputs": [],
   "source": [
    "model = Sequential()\n",
    "model.add(TimeDistributed(Conv2D(8, (3,3), padding='same',activation='relu'),\n",
    "         input_shape=(20,160,160,3)))\n",
    "model.add(TimeDistributed(BatchNormalization()))\n",
    "model.add(TimeDistributed(MaxPooling2D((2, 2))))\n",
    "\n",
    "model.add(TimeDistributed(Conv2D(16, (3,3), padding='same',activation='relu')))\n",
    "model.add(TimeDistributed(BatchNormalization()))\n",
    "model.add(TimeDistributed(MaxPooling2D((2, 2))))\n",
    "\n",
    "model.add(TimeDistributed(Conv2D(32, (3,3), padding='same',activation='relu')))\n",
    "model.add(TimeDistributed(BatchNormalization()))\n",
    "model.add(TimeDistributed(MaxPooling2D((2, 2))))\n",
    "\n",
    "model.add(TimeDistributed(Conv2D(64, (3,3), padding='same',activation='relu')))\n",
    "model.add(TimeDistributed(BatchNormalization()))\n",
    "model.add(TimeDistributed(MaxPooling2D((2, 2))))\n",
    "\n",
    "model.add(TimeDistributed(Conv2D(128, (3,3), padding='same',activation='relu')))\n",
    "model.add(TimeDistributed(BatchNormalization()))\n",
    "model.add(TimeDistributed(MaxPooling2D((2, 2))))\n",
    "\n",
    "model.add(TimeDistributed(Flatten()))\n",
    "\n",
    "model.add(LSTM(128))\n",
    "model.add(Dropout(0.5))\n",
    "\n",
    "model.add(Dense(128,activation='relu'))\n",
    "model.add(Dropout(0.5))\n",
    "\n",
    "model.add(Dense(num_classes,activation='softmax'))\n"
   ]
  },
  {
   "cell_type": "code",
   "execution_count": null,
   "metadata": {},
   "outputs": [],
   "source": [
    "batch_size = 20 #experiment with the batch size\n",
    "image_count = 30 # number of images to be used for each video\n",
    "num_epochs = 25 # choose the number of epochs  \n",
    "train_generator = generator(train_path, train_doc, batch_size, augment=True)\n",
    "val_generator = generator(val_path, val_doc, batch_size, augment=True)\n",
    "\n",
    "callbacks_list = create_model_config('model_3')\n",
    "steps_per_epoch, validation_steps = calculate_steps_per_epoch()\n",
    "print(f\"Steps per epoch: {steps_per_epoch}\") \n",
    "print(f\"Validation steps: {validation_steps}\")"
   ]
  },
  {
   "cell_type": "code",
   "execution_count": null,
   "metadata": {
    "scrolled": true
   },
   "outputs": [],
   "source": [
    "optimiser = 'Adam' #write your optimizer\n",
    "model.compile(optimizer=optimiser, loss='categorical_crossentropy', metrics=['categorical_accuracy'])\n",
    "print (model.summary())"
   ]
  },
  {
   "cell_type": "code",
   "execution_count": null,
   "metadata": {},
   "outputs": [],
   "source": [
    "# history = model.fit_generator(train_generator, steps_per_epoch=steps_per_epoch, epochs=num_epochs, verbose=1, \n",
    "#                     callbacks=callbacks_list, validation_data=val_generator, \n",
    "#                     validation_steps=validation_steps, class_weight=None, workers=4, initial_epoch=0,max_queue_size=20)\n",
    "\n",
    "# fit_generator is deprecated and will be removed in a future version. Using fit which supports generators.\n",
    "history=model.fit(train_generator,\n",
    "                  steps_per_epoch=steps_per_epoch,\n",
    "                  epochs=num_epochs,\n",
    "                  verbose=1,\n",
    "                  callbacks=callbacks_list,\n",
    "                  validation_data=val_generator,\n",
    "                  validation_steps=validation_steps,\n",
    "                  class_weight=None,\n",
    "                  batch_size=batch_size,\n",
    "                  initial_epoch=0)"
   ]
  },
  {
   "cell_type": "code",
   "execution_count": null,
   "metadata": {},
   "outputs": [],
   "source": [
    "plot_evaluation_graph()"
   ]
  },
  {
   "cell_type": "code",
   "execution_count": null,
   "metadata": {},
   "outputs": [],
   "source": []
  },
  {
   "cell_type": "markdown",
   "metadata": {},
   "source": [
    "### Fifth Experiment - CNN 2D and GRU with Data Augmentation"
   ]
  },
  {
   "cell_type": "code",
   "execution_count": null,
   "metadata": {},
   "outputs": [],
   "source": [
    "model = Sequential()\n",
    "model.add(TimeDistributed(Conv2D(8, (3,3), padding='same', activation='relu'), input_shape=(20,160,160,3)))\n",
    "\n",
    "model.add(TimeDistributed(Conv2D(16, (3, 3), padding='same', activation='relu')))\n",
    "model.add(TimeDistributed(BatchNormalization()))\n",
    "model.add(TimeDistributed(MaxPooling2D((2, 2))))\n",
    "\n",
    "model.add(TimeDistributed(Conv2D(32, (3, 3), padding='same', activation='relu')))\n",
    "model.add(TimeDistributed(BatchNormalization()))\n",
    "model.add(TimeDistributed(MaxPooling2D((2, 2))))\n",
    "\n",
    "model.add(TimeDistributed(Conv2D(64, (3, 3), padding='same', activation='relu')))\n",
    "model.add(TimeDistributed(BatchNormalization()))\n",
    "model.add(TimeDistributed(MaxPooling2D((2, 2))))\n",
    "\n",
    "model.add(TimeDistributed(Conv2D(128, (3, 3), padding='same', activation='relu')))\n",
    "model.add(TimeDistributed(BatchNormalization()))\n",
    "model.add(TimeDistributed(MaxPooling2D((2, 2))))\n",
    "\n",
    "model.add(TimeDistributed(Flatten()))\n",
    "\n",
    "model.add(GRU(128))\n",
    "model.add(Dropout(0.5))\n",
    "\n",
    "model.add(Dense(128, activation='relu'))\n",
    "model.add(Dropout(0.5))\n",
    "\n",
    "model.add(Dense(num_classes, activation='softmax'))\n"
   ]
  },
  {
   "cell_type": "code",
   "execution_count": null,
   "metadata": {},
   "outputs": [],
   "source": [
    "batch_size = 20 #experiment with the batch size\n",
    "image_count = 30 # number of images to be used for each video\n",
    "num_epochs = 25 # choose the number of epochs  \n",
    "train_generator = generator(train_path, train_doc, batch_size, augment=True)\n",
    "val_generator = generator(val_path, val_doc, batch_size, augment=True)\n",
    "\n",
    "callbacks_list = create_model_config('model_5')\n",
    "steps_per_epoch, validation_steps = calculate_steps_per_epoch()\n",
    "print(f\"Steps per epoch: {steps_per_epoch}\") \n",
    "print(f\"Validation steps: {validation_steps}\")"
   ]
  },
  {
   "cell_type": "code",
   "execution_count": null,
   "metadata": {
    "scrolled": true
   },
   "outputs": [],
   "source": [
    "optimiser = 'Adam' #write your optimizer\n",
    "model.compile(optimizer=optimiser, loss='categorical_crossentropy', metrics=['categorical_accuracy'])\n",
    "print (model.summary())"
   ]
  },
  {
   "cell_type": "code",
   "execution_count": null,
   "metadata": {},
   "outputs": [],
   "source": [
    "# history = model.fit_generator(train_generator, steps_per_epoch=steps_per_epoch, epochs=num_epochs, verbose=1, \n",
    "#                     callbacks=callbacks_list, validation_data=val_generator, \n",
    "#                     validation_steps=validation_steps, class_weight=None, workers=4, initial_epoch=0,max_queue_size=20)\n",
    "\n",
    "# fit_generator is deprecated and will be removed in a future version. Using fit which supports generators.\n",
    "history=model.fit(train_generator,\n",
    "                  steps_per_epoch=steps_per_epoch,\n",
    "                  epochs=num_epochs,\n",
    "                  verbose=1,\n",
    "                  callbacks=callbacks_list,\n",
    "                  validation_data=val_generator,\n",
    "                  validation_steps=validation_steps,\n",
    "                  class_weight=None,\n",
    "                  batch_size=batch_size,\n",
    "                  initial_epoch=0)"
   ]
  },
  {
   "cell_type": "code",
   "execution_count": null,
   "metadata": {},
   "outputs": [],
   "source": [
    "plot_evaluation_graph()"
   ]
  },
  {
   "cell_type": "markdown",
   "metadata": {},
   "source": [
    "### Sixth Experiment -   Transfer Learning with MobileNet pre trained model with Data Augmentation"
   ]
  },
  {
   "cell_type": "code",
   "execution_count": null,
   "metadata": {},
   "outputs": [],
   "source": [
    "from keras.applications import mobilenet\n",
    "\n",
    "model = Sequential()\n",
    "model.add(TimeDistributed(mobilenet.MobileNet(weights='imagenet', include_top=False),input_shape=input_shape, name='mobilenet', trainable=False))\n",
    "model.add(TimeDistributed(BatchNormalization())) \n",
    "model.add(TimeDistributed(MaxPooling2D((2, 2))))\n",
    "\n",
    "model.add(TimeDistributed(Flatten()))\n",
    "\n",
    "model.add(GRU(128)) \n",
    "model.add(Dropout(0.5))\n",
    "\n",
    "model.add(Dense(128,activation='relu')) \n",
    "model.add(Dropout(0.5)) \n",
    "model.add(Dense(num_classes, activation='softmax'))\n"
   ]
  },
  {
   "cell_type": "code",
   "execution_count": null,
   "metadata": {},
   "outputs": [],
   "source": [
    "batch_size = 20 #experiment with the batch size\n",
    "image_count = 30 # number of images to be used for each video\n",
    "num_epochs = 25 # choose the number of epochs  \n",
    "train_generator = generator(train_path, train_doc, batch_size, augment=True)\n",
    "val_generator = generator(val_path, val_doc, batch_size, augment=True)\n",
    "\n",
    "callbacks_list = create_model_config('model_6')\n",
    "steps_per_epoch, validation_steps = calculate_steps_per_epoch()\n",
    "print(f\"Steps per epoch: {steps_per_epoch}\") \n",
    "print(f\"Validation steps: {validation_steps}\")"
   ]
  },
  {
   "cell_type": "code",
   "execution_count": null,
   "metadata": {
    "scrolled": true
   },
   "outputs": [],
   "source": [
    "optimiser = 'Adam' #write your optimizer\n",
    "model.compile(optimizer=optimiser, loss='categorical_crossentropy', metrics=['categorical_accuracy'])\n",
    "print (model.summary())"
   ]
  },
  {
   "cell_type": "code",
   "execution_count": null,
   "metadata": {},
   "outputs": [],
   "source": [
    "# history = model.fit_generator(train_generator, steps_per_epoch=steps_per_epoch, epochs=num_epochs, verbose=1, \n",
    "#                     callbacks=callbacks_list, validation_data=val_generator, \n",
    "#                     validation_steps=validation_steps, class_weight=None, workers=4, initial_epoch=0,max_queue_size=20)\n",
    "\n",
    "# fit_generator is deprecated and will be removed in a future version. Using fit which supports generators.\n",
    "history=model2.fit(train_generator,\n",
    "                  steps_per_epoch=steps_per_epoch,\n",
    "                  epochs=num_epochs,\n",
    "                  verbose=1,\n",
    "                  callbacks=callbacks_list,\n",
    "                  validation_data=val_generator,\n",
    "                  validation_steps=validation_steps,\n",
    "                  class_weight=None,\n",
    "                  batch_size=batch_size,\n",
    "                  initial_epoch=0)"
   ]
  },
  {
   "cell_type": "code",
   "execution_count": null,
   "metadata": {},
   "outputs": [],
   "source": [
    "plot_evaluation_graph()"
   ]
  },
  {
   "cell_type": "code",
   "execution_count": null,
   "metadata": {},
   "outputs": [],
   "source": []
  },
  {
   "cell_type": "markdown",
   "metadata": {},
   "source": [
    "### Select the best model from all experiment and final evaluation"
   ]
  },
  {
   "cell_type": "code",
   "execution_count": null,
   "metadata": {},
   "outputs": [],
   "source": [
    "from keras.models import load_model\n",
    " \n",
    "# load model\n",
    "model = load_model('model_init_2024-12-3013_53_07.750757/model-00011-0.55022-0.78808-0.78526-0.75000.keras')\n",
    "# summarize model.\n",
    "model.summary()"
   ]
  },
  {
   "cell_type": "code",
   "execution_count": null,
   "metadata": {},
   "outputs": [],
   "source": [
    "# Evaluate on Validation data\n",
    "scores = model.evaluate(val_generator, verbose=1, steps=validation_steps*10, max_queue_size=3000, workers=1, use_multiprocessing=False)\n",
    "print(\"%s%s: %.2f%%\" % (\"evaluate \",model.metrics_names[1], scores[1]*100))"
   ]
  },
  {
   "cell_type": "code",
   "execution_count": null,
   "metadata": {},
   "outputs": [],
   "source": []
  }
 ],
 "metadata": {
  "kernelspec": {
   "display_name": "Python 3 (ipykernel)",
   "language": "python",
   "name": "python3"
  },
  "language_info": {
   "codemirror_mode": {
    "name": "ipython",
    "version": 3
   },
   "file_extension": ".py",
   "mimetype": "text/x-python",
   "name": "python",
   "nbconvert_exporter": "python",
   "pygments_lexer": "ipython3",
   "version": "3.8.10"
  },
  "vscode": {
   "interpreter": {
    "hash": "5b78c356f59ad4f4bb37d320e87edfdd6e4609350ddbfb799f14c15ad9db04c2"
   }
  }
 },
 "nbformat": 4,
 "nbformat_minor": 4
}
