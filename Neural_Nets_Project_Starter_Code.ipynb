{
 "cells": [
  {
   "cell_type": "markdown",
   "metadata": {},
   "source": [
    "# Gesture Recognition\n",
    "In this group project, you are going to build a 3D Conv & CNN-RNN models that will be able to predict the 5 gestures correctly."
   ]
  },
  {
   "cell_type": "code",
   "execution_count": 1,
   "metadata": {},
   "outputs": [
    {
     "name": "stdout",
     "output_type": "stream",
     "text": [
      "Tue Dec 31 08:18:45 2024       \n",
      "+---------------------------------------------------------------------------------------+\n",
      "| NVIDIA-SMI 535.104.05             Driver Version: 535.104.05   CUDA Version: 12.2     |\n",
      "|-----------------------------------------+----------------------+----------------------+\n",
      "| GPU  Name                 Persistence-M | Bus-Id        Disp.A | Volatile Uncorr. ECC |\n",
      "| Fan  Temp   Perf          Pwr:Usage/Cap |         Memory-Usage | GPU-Util  Compute M. |\n",
      "|                                         |                      |               MIG M. |\n",
      "|=========================================+======================+======================|\n",
      "|   0  Quadro RTX 5000                Off | 00000000:3D:00.0 Off |                  Off |\n",
      "| 33%   27C    P8              13W / 230W |      6MiB / 16384MiB |      0%      Default |\n",
      "|                                         |                      |                  N/A |\n",
      "+-----------------------------------------+----------------------+----------------------+\n",
      "                                                                                         \n",
      "+---------------------------------------------------------------------------------------+\n",
      "| Processes:                                                                            |\n",
      "|  GPU   GI   CI        PID   Type   Process name                            GPU Memory |\n",
      "|        ID   ID                                                             Usage      |\n",
      "|=======================================================================================|\n",
      "+---------------------------------------------------------------------------------------+\n"
     ]
    }
   ],
   "source": [
    "!nvidia-smi"
   ]
  },
  {
   "cell_type": "code",
   "execution_count": 2,
   "metadata": {},
   "outputs": [],
   "source": [
    "import numpy as np\n",
    "import os\n",
    "from imageio.v2 import imread\n",
    "import imageio\n",
    "from PIL import Image, ImageFilter, ImageEnhance\n",
    "import datetime\n",
    "import os"
   ]
  },
  {
   "cell_type": "markdown",
   "metadata": {},
   "source": [
    "We set the random seed so that the results don't vary drastically."
   ]
  },
  {
   "cell_type": "code",
   "execution_count": 3,
   "metadata": {},
   "outputs": [],
   "source": [
    "np.random.seed(30)\n",
    "import random as rn\n",
    "rn.seed(30)\n",
    "import tensorflow as tf\n",
    "# tf.set_random_seed(30) # deprecated\n",
    "tf.random.set_seed(30)\n",
    "import cv2\n",
    "import matplotlib.pyplot as plt\n",
    "%matplotlib inline"
   ]
  },
  {
   "cell_type": "markdown",
   "metadata": {},
   "source": [
    "In this block, you read the folder names for training and validation. You also set the `batch_size` here. Note that you set the batch size in such a way that you are able to use the GPU in full capacity. You keep increasing the batch size until the machine throws an error."
   ]
  },
  {
   "cell_type": "code",
   "execution_count": 4,
   "metadata": {},
   "outputs": [],
   "source": [
    "project_folder='/datasets/Project_data'"
   ]
  },
  {
   "cell_type": "markdown",
   "metadata": {},
   "source": [
    "## Configration"
   ]
  },
  {
   "cell_type": "code",
   "execution_count": 5,
   "metadata": {},
   "outputs": [
    {
     "name": "stdout",
     "output_type": "stream",
     "text": [
      "# training sequences = 663\n",
      "# validation sequences = 100\n",
      "# epochs = 50\n"
     ]
    }
   ],
   "source": [
    "train_doc = np.random.permutation(open(f'{project_folder}/train.csv').readlines())\n",
    "val_doc = np.random.permutation(open(f'{project_folder}/val.csv').readlines())\n",
    "batch_size = 10 #experiment with the batch size\n",
    "image_count = 30 # number of images to be used for each video\n",
    "image_height=160\n",
    "image_width=160\n",
    "channels=3\n",
    "num_classes=5 # number of classes\n",
    "input_shape=(image_count,image_width,image_height,channels)\n",
    "curr_dt_time = datetime.datetime.now()\n",
    "train_path = f'{project_folder}/train'\n",
    "val_path = f'{project_folder}/val'\n",
    "num_train_sequences = len(train_doc)\n",
    "print('# training sequences =', num_train_sequences)\n",
    "num_val_sequences = len(val_doc)\n",
    "print('# validation sequences =', num_val_sequences)\n",
    "num_epochs = 50 # choose the number of epochs  \n",
    "print ('# epochs =', num_epochs)"
   ]
  },
  {
   "cell_type": "markdown",
   "metadata": {},
   "source": [
    "## Generator\n",
    "This is one of the most important part of the code. The overall structure of the generator has been given. In the generator, you are going to preprocess the images as you have images of 2 different dimensions as well as create a batch of video frames. You have to experiment with `img_idx`, `y`,`z` and normalization such that you get high accuracy."
   ]
  },
  {
   "cell_type": "code",
   "execution_count": 6,
   "metadata": {},
   "outputs": [],
   "source": [
    "def one_batch_data(source_path, t, batch, batch_size, img_idx, augment, remaining_seq=0):\n",
    "        # Determine the sequence length for the current batch\n",
    "        seq_len = remaining_seq if remaining_seq else batch_size\n",
    "        \n",
    "        # Initialize arrays for batch data and labels\n",
    "        batch_data = np.zeros((seq_len, len(img_idx), image_height, image_width, channels))\n",
    "        batch_labels = np.zeros((seq_len, num_classes))\n",
    "        \n",
    "        if augment: \n",
    "            # Initialize array for augmented batch data\n",
    "            batch_data_aug = np.zeros((seq_len, len(img_idx), image_height, image_width, channels))\n",
    "\n",
    "        # Process each folder (video) in the batch\n",
    "        for folder in range(seq_len):\n",
    "            imgs = os.listdir(source_path + '/' + t[folder + (batch * batch_size)].split(';')[0])\n",
    "            for idx, item in enumerate(img_idx): \n",
    "                # Read and resize the image\n",
    "                image = imread(source_path + '/' + t[folder + (batch * batch_size)].strip().split(';')[0] + '/' + imgs[item]).astype(np.float32)\n",
    "                #image_resized = imresize(image, (self.image_height, self.image_width, 3))\n",
    "                image_resized = cv2.resize(image, (image_width, image_height), interpolation=cv2.INTER_AREA)\n",
    "                \n",
    "                \n",
    "                # Normalize and add the image data to the batch\n",
    "                batch_data[folder, idx, :, :, 0] = (image_resized[:, :, 0]) / 255\n",
    "                batch_data[folder, idx, :, :, 1] = (image_resized[:, :, 1]) / 255\n",
    "                batch_data[folder, idx, :, :, 2] = (image_resized[:, :, 2]) / 255\n",
    "                \n",
    "                if augment:\n",
    "                    # Apply random transformations for augmentation\n",
    "                    shifted = cv2.warpAffine(\n",
    "                        image, \n",
    "                        np.float32([[1, 0, np.random.randint(-30, 30)], [0, 1, np.random.randint(-30, 30)]]),\n",
    "                        (image.shape[1], image.shape[0])\n",
    "                    )\n",
    "                    gray = cv2.cvtColor(shifted, cv2.COLOR_BGR2GRAY)\n",
    "                    x0, y0 = np.argwhere(gray > 0).min(axis=0)\n",
    "                    x1, y1 = np.argwhere(gray > 0).max(axis=0)\n",
    "                    cropped = shifted[x0:x1, y0:y1, :]\n",
    "                    #image_resized = imresize(cropped, (self.image_height, self.image_width, 3))\n",
    "                    image_resized = cv2.resize(cropped, (image_width, image_height), interpolation=cv2.INTER_AREA)\n",
    "                    \n",
    "                    # Normalize and add the augmented image data\n",
    "                    batch_data_aug[folder, idx, :, :, 0] = (image_resized[:, :, 0]) / 255\n",
    "                    batch_data_aug[folder, idx, :, :, 1] = (image_resized[:, :, 1]) / 255\n",
    "                    batch_data_aug[folder, idx, :, :, 2] = (image_resized[:, :, 2]) / 255\n",
    "            \n",
    "            # Assign one-hot encoded labels to the batch\n",
    "            batch_labels[folder, int(t[folder + (batch * batch_size)].strip().split(';')[2])] = 1\n",
    "        \n",
    "        if augment:\n",
    "            # Concatenate original and augmented data/labels\n",
    "            batch_data = np.concatenate([batch_data, batch_data_aug])\n",
    "            batch_labels = np.concatenate([batch_labels, batch_labels])\n",
    "\n",
    "        return batch_data, batch_labels"
   ]
  },
  {
   "cell_type": "code",
   "execution_count": 7,
   "metadata": {},
   "outputs": [],
   "source": [
    "def generator(source_path, folder_list, batch_size, augment=False):\n",
    "    #img_idx = [x for x in range(0, image_count) if x % 2 != 0]\n",
    "    #print('Source path =', source_path, '; batch size =', batch_size, '; img_ix =', img_idx)\n",
    "    img_idx = [x for x in range(0, image_count)]\n",
    "    img_idx = img_idx[5:25] # middle 20 frames\n",
    "    print('Source path =', source_path, '; batch size =', batch_size)\n",
    "    while True:\n",
    "        t = np.random.permutation(folder_list)\n",
    "        num_batches = len(t) // batch_size  # calculate the number of batches\n",
    "        for batch in range(num_batches):  # we iterate over the number of batches\n",
    "            batch_data, batch_labels = one_batch_data(source_path, t, batch, batch_size, img_idx, augment)\n",
    "            yield batch_data, batch_labels\n",
    "\n",
    "        # Handle the remaining sequences if any (not forming a full batch)\n",
    "        remaining_seq = len(t) % batch_size\n",
    "        if remaining_seq != 0:\n",
    "            batch_data, batch_labels = one_batch_data(source_path, t, num_batches, batch_size, img_idx, augment, remaining_seq)\n",
    "            yield batch_data, batch_labels    \n"
   ]
  },
  {
   "cell_type": "markdown",
   "metadata": {},
   "source": [
    "Note here that a video is represented above in the generator as (number of images, height, width, number of channels). Take this into consideration while creating the model architecture."
   ]
  },
  {
   "cell_type": "code",
   "execution_count": 8,
   "metadata": {},
   "outputs": [],
   "source": [
    "def create_model_config(name):\n",
    "    model_name = name + '_' + str(curr_dt_time).replace(' ','').replace(':','_') + '/'\n",
    "\n",
    "    if not os.path.exists(model_name):\n",
    "        os.mkdir(model_name)\n",
    "\n",
    "    filepath = model_name + 'model-{epoch:05d}-{loss:.5f}-{categorical_accuracy:.5f}-{val_loss:.5f}-{val_categorical_accuracy:.5f}.keras'\n",
    "\n",
    "    checkpoint = ModelCheckpoint(filepath, monitor='val_loss', verbose=1, save_best_only=True, save_weights_only=False, mode='auto')\n",
    "\n",
    "    LR = ReduceLROnPlateau(monitor='val_loss', factor=0.2, patience=5, verbose=1, mode='auto')\n",
    "    early_stopping = EarlyStopping(monitor='val_loss', patience=10, verbose=1, mode='auto', restore_best_weights=True)\n",
    "\n",
    "    callbacks_list = [checkpoint, LR, early_stopping]\n",
    "    return callbacks_list"
   ]
  },
  {
   "cell_type": "code",
   "execution_count": 9,
   "metadata": {},
   "outputs": [],
   "source": [
    "def calculate_steps_per_epoch():\n",
    "    if (num_train_sequences%batch_size) == 0:\n",
    "        steps_per_epoch = int(num_train_sequences/batch_size)\n",
    "    else:\n",
    "        steps_per_epoch = (num_train_sequences//batch_size) + 1\n",
    "\n",
    "    if (num_val_sequences%batch_size) == 0:\n",
    "        validation_steps = int(num_val_sequences/batch_size)\n",
    "    else:\n",
    "        validation_steps = (num_val_sequences//batch_size) + 1\n",
    "    return steps_per_epoch, validation_steps"
   ]
  },
  {
   "cell_type": "code",
   "execution_count": 10,
   "metadata": {},
   "outputs": [],
   "source": [
    "# Ensure that the number of epochs is consistent with the history data\n",
    "def plot_evaluation_graph():\n",
    "    num_epochs = len(history.history['loss'])\n",
    "\n",
    "    plt.figure(figsize=(10,10))\n",
    "\n",
    "    acc = history.history['categorical_accuracy']\n",
    "    val_acc = history.history['val_categorical_accuracy']\n",
    "\n",
    "    loss = history.history['loss']\n",
    "    val_loss = history.history['val_loss']\n",
    "\n",
    "    epochs_range = range(num_epochs)\n",
    "\n",
    "    plt.figure(figsize=(8, 8))\n",
    "    plt.subplot(1, 2, 1)\n",
    "    plt.plot(epochs_range, acc, label='Training Accuracy')\n",
    "    plt.plot(epochs_range, val_acc, label='Validation Accuracy')\n",
    "    plt.legend(loc='lower right')\n",
    "    plt.title('Training and Validation Accuracy')\n",
    "\n",
    "    plt.subplot(1, 2, 2)\n",
    "    plt.plot(epochs_range, loss, label='Training Loss')\n",
    "    plt.plot(epochs_range, val_loss, label='Validation Loss')\n",
    "    plt.legend(loc='upper right')\n",
    "    plt.title('Training and Validation Loss')\n",
    "    plt.show()"
   ]
  },
  {
   "cell_type": "markdown",
   "metadata": {},
   "source": [
    "## Model\n",
    "Here you make the model using different functionalities that Keras provides. Remember to use `Conv3D` and `MaxPooling3D` and not `Conv2D` and `Maxpooling2D` for a 3D convolution model. You would want to use `TimeDistributed` while building a Conv2D + RNN model. Also remember that the last layer is the softmax. Design the network in such a way that the model is able to give good accuracy on the least number of parameters so that it can fit in the memory of the webcam."
   ]
  },
  {
   "cell_type": "code",
   "execution_count": 11,
   "metadata": {},
   "outputs": [],
   "source": [
    "from keras.models import Sequential, Model\n",
    "from keras.layers import Dense, GRU, Flatten, TimeDistributed, Flatten, BatchNormalization, Activation,Dropout,GlobalAveragePooling3D,GRU,GlobalAveragePooling2D,LSTM,MaxPool2D,ConvLSTM2D,GlobalAveragePooling1D\n",
    "from keras.layers.convolutional import Conv3D, MaxPooling3D,Conv2D, MaxPooling2D\n",
    "from keras.callbacks import ModelCheckpoint, ReduceLROnPlateau, EarlyStopping\n",
    "from keras import optimizers\n",
    "# from keras.applications import MobileNet"
   ]
  },
  {
   "cell_type": "markdown",
   "metadata": {},
   "source": [
    "### First Experiment - Conv3D Without Data Augmentation"
   ]
  },
  {
   "cell_type": "code",
   "execution_count": 12,
   "metadata": {},
   "outputs": [
    {
     "name": "stderr",
     "output_type": "stream",
     "text": [
      "2024-12-31 08:18:47.698418: W tensorflow/core/common_runtime/gpu/gpu_bfc_allocator.cc:39] Overriding allow_growth setting because the TF_FORCE_GPU_ALLOW_GROWTH environment variable is set. Original config value was 0.\n",
      "2024-12-31 08:18:47.698488: I tensorflow/core/common_runtime/gpu/gpu_device.cc:1525] Created device /job:localhost/replica:0/task:0/device:GPU:0 with 14800 MB memory:  -> device: 0, name: Quadro RTX 5000, pci bus id: 0000:3d:00.0, compute capability: 7.5\n"
     ]
    }
   ],
   "source": [
    "model = Sequential()\n",
    "model.add(Conv3D(16, (3, 3, 3), padding='same',\n",
    "          input_shape=input_shape))\n",
    "model.add(Activation('relu'))\n",
    "model.add(MaxPooling3D(pool_size=(2, 2, 2)))\n",
    "\n",
    "model.add(Conv3D(32, (2, 2, 2), padding='same'))\n",
    "model.add(Activation('relu'))\n",
    "model.add(MaxPooling3D(pool_size=(2, 2, 2)))\n",
    "\n",
    "model.add(Conv3D(64, (2, 2, 2), padding='same'))\n",
    "model.add(Activation('relu'))\n",
    "model.add(MaxPooling3D(pool_size=(2, 2, 2)))\n",
    "\n",
    "model.add(Conv3D(128, (2, 2, 2), padding='same'))\n",
    "model.add(Activation('relu'))\n",
    "model.add(MaxPooling3D(pool_size=(2, 2, 2)))\n",
    "\n",
    "model.add(Flatten())\n",
    "model.add(Dense(128,activation='relu'))\n",
    "model.add(Dense(64,activation='relu'))\n",
    "\n",
    "model.add(Dense(num_classes,activation='softmax'))"
   ]
  },
  {
   "cell_type": "code",
   "execution_count": 13,
   "metadata": {},
   "outputs": [
    {
     "name": "stdout",
     "output_type": "stream",
     "text": [
      "Steps per epoch: 34\n",
      "Validation steps: 5\n"
     ]
    }
   ],
   "source": [
    "batch_size = 20 #experiment with the batch size\n",
    "image_count = 30 # number of images to be used for each video\n",
    "num_epochs = 25 # choose the number of epochs  \n",
    "train_generator = generator(train_path, train_doc, batch_size, augment=False)\n",
    "val_generator = generator(val_path, val_doc, batch_size, augment=False)\n",
    "\n",
    "callbacks_list = create_model_config('model_1')\n",
    "steps_per_epoch, validation_steps = calculate_steps_per_epoch()\n",
    "print(f\"Steps per epoch: {steps_per_epoch}\") \n",
    "print(f\"Validation steps: {validation_steps}\")"
   ]
  },
  {
   "cell_type": "markdown",
   "metadata": {},
   "source": [
    "Now that you have written the model, the next step is to `compile` the model. When you print the `summary` of the model, you'll see the total number of parameters you have to train."
   ]
  },
  {
   "cell_type": "code",
   "execution_count": 14,
   "metadata": {
    "scrolled": true
   },
   "outputs": [
    {
     "name": "stdout",
     "output_type": "stream",
     "text": [
      "Model: \"sequential\"\n",
      "_________________________________________________________________\n",
      " Layer (type)                Output Shape              Param #   \n",
      "=================================================================\n",
      " conv3d (Conv3D)             (None, 30, 160, 160, 16)  1312      \n",
      "                                                                 \n",
      " activation (Activation)     (None, 30, 160, 160, 16)  0         \n",
      "                                                                 \n",
      " max_pooling3d (MaxPooling3D  (None, 15, 80, 80, 16)   0         \n",
      " )                                                               \n",
      "                                                                 \n",
      " conv3d_1 (Conv3D)           (None, 15, 80, 80, 32)    4128      \n",
      "                                                                 \n",
      " activation_1 (Activation)   (None, 15, 80, 80, 32)    0         \n",
      "                                                                 \n",
      " max_pooling3d_1 (MaxPooling  (None, 7, 40, 40, 32)    0         \n",
      " 3D)                                                             \n",
      "                                                                 \n",
      " conv3d_2 (Conv3D)           (None, 7, 40, 40, 64)     16448     \n",
      "                                                                 \n",
      " activation_2 (Activation)   (None, 7, 40, 40, 64)     0         \n",
      "                                                                 \n",
      " max_pooling3d_2 (MaxPooling  (None, 3, 20, 20, 64)    0         \n",
      " 3D)                                                             \n",
      "                                                                 \n",
      " conv3d_3 (Conv3D)           (None, 3, 20, 20, 128)    65664     \n",
      "                                                                 \n",
      " activation_3 (Activation)   (None, 3, 20, 20, 128)    0         \n",
      "                                                                 \n",
      " max_pooling3d_3 (MaxPooling  (None, 1, 10, 10, 128)   0         \n",
      " 3D)                                                             \n",
      "                                                                 \n",
      " flatten (Flatten)           (None, 12800)             0         \n",
      "                                                                 \n",
      " dense (Dense)               (None, 128)               1638528   \n",
      "                                                                 \n",
      " dense_1 (Dense)             (None, 64)                8256      \n",
      "                                                                 \n",
      " dense_2 (Dense)             (None, 5)                 325       \n",
      "                                                                 \n",
      "=================================================================\n",
      "Total params: 1,734,661\n",
      "Trainable params: 1,734,661\n",
      "Non-trainable params: 0\n",
      "_________________________________________________________________\n",
      "None\n"
     ]
    }
   ],
   "source": [
    "optimiser = 'Adam' #write your optimizer\n",
    "model.compile(optimizer=optimiser, loss='categorical_crossentropy', metrics=['categorical_accuracy'])\n",
    "print (model.summary())"
   ]
  },
  {
   "cell_type": "markdown",
   "metadata": {},
   "source": [
    "Let us now fit the model. This will start training the model and with the help of the checkpoints, you'll be able to save the model at the end of each epoch."
   ]
  },
  {
   "cell_type": "code",
   "execution_count": 15,
   "metadata": {},
   "outputs": [
    {
     "name": "stdout",
     "output_type": "stream",
     "text": [
      "Source path = /datasets/Project_data/train ; batch size = 20\n",
      "Epoch 1/25\n"
     ]
    },
    {
     "name": "stderr",
     "output_type": "stream",
     "text": [
      "2024-12-31 08:18:51.088489: I tensorflow/stream_executor/cuda/cuda_dnn.cc:377] Loaded cuDNN version 8302\n"
     ]
    },
    {
     "name": "stdout",
     "output_type": "stream",
     "text": [
      "34/34 [==============================] - ETA: 0s - loss: 1.5834 - categorical_accuracy: 0.1991Source path = /datasets/Project_data/val ; batch size = 20\n",
      "\n",
      "Epoch 00001: val_loss improved from inf to 1.45991, saving model to model_1_2024-12-3108_18_46.921646/model-00001-1.58335-0.19910-1.45991-0.35000.keras\n",
      "34/34 [==============================] - 61s 2s/step - loss: 1.5834 - categorical_accuracy: 0.1991 - val_loss: 1.4599 - val_categorical_accuracy: 0.3500 - lr: 0.0010\n",
      "Epoch 2/25\n",
      "34/34 [==============================] - ETA: 0s - loss: 1.4045 - categorical_accuracy: 0.4314\n",
      "Epoch 00002: val_loss improved from 1.45991 to 1.43558, saving model to model_1_2024-12-3108_18_46.921646/model-00002-1.40446-0.43137-1.43558-0.36000.keras\n",
      "34/34 [==============================] - 50s 1s/step - loss: 1.4045 - categorical_accuracy: 0.4314 - val_loss: 1.4356 - val_categorical_accuracy: 0.3600 - lr: 0.0010\n",
      "Epoch 3/25\n",
      "34/34 [==============================] - ETA: 0s - loss: 1.2647 - categorical_accuracy: 0.4676\n",
      "Epoch 00003: val_loss improved from 1.43558 to 1.02995, saving model to model_1_2024-12-3108_18_46.921646/model-00003-1.26470-0.46757-1.02995-0.51000.keras\n",
      "34/34 [==============================] - 49s 1s/step - loss: 1.2647 - categorical_accuracy: 0.4676 - val_loss: 1.0299 - val_categorical_accuracy: 0.5100 - lr: 0.0010\n",
      "Epoch 4/25\n",
      "34/34 [==============================] - ETA: 0s - loss: 0.9799 - categorical_accuracy: 0.5792\n",
      "Epoch 00004: val_loss did not improve from 1.02995\n",
      "34/34 [==============================] - 48s 1s/step - loss: 0.9799 - categorical_accuracy: 0.5792 - val_loss: 1.0605 - val_categorical_accuracy: 0.5300 - lr: 0.0010\n",
      "Epoch 5/25\n",
      "33/34 [============================>.] - ETA: 1s - loss: 0.8663 - categorical_accuracy: 0.6545\n",
      "Epoch 00005: val_loss improved from 1.02995 to 0.70665, saving model to model_1_2024-12-3108_18_46.921646/model-00005-0.86651-0.65309-0.70665-0.72000.keras\n",
      "34/34 [==============================] - 48s 1s/step - loss: 0.8665 - categorical_accuracy: 0.6531 - val_loss: 0.7067 - val_categorical_accuracy: 0.7200 - lr: 0.0010\n",
      "Epoch 6/25\n",
      "34/34 [==============================] - ETA: 0s - loss: 0.6514 - categorical_accuracy: 0.7330\n",
      "Epoch 00006: val_loss did not improve from 0.70665\n",
      "34/34 [==============================] - 49s 1s/step - loss: 0.6514 - categorical_accuracy: 0.7330 - val_loss: 0.7071 - val_categorical_accuracy: 0.6900 - lr: 0.0010\n",
      "Epoch 7/25\n",
      "33/34 [============================>.] - ETA: 1s - loss: 0.4939 - categorical_accuracy: 0.8182\n",
      "Epoch 00007: val_loss did not improve from 0.70665\n",
      "34/34 [==============================] - 49s 1s/step - loss: 0.4924 - categorical_accuracy: 0.8190 - val_loss: 0.7314 - val_categorical_accuracy: 0.7000 - lr: 0.0010\n",
      "Epoch 8/25\n",
      "33/34 [============================>.] - ETA: 1s - loss: 0.3444 - categorical_accuracy: 0.8652\n",
      "Epoch 00008: val_loss did not improve from 0.70665\n",
      "34/34 [==============================] - 49s 1s/step - loss: 0.3440 - categorical_accuracy: 0.8658 - val_loss: 0.7495 - val_categorical_accuracy: 0.7100 - lr: 0.0010\n",
      "Epoch 9/25\n",
      "33/34 [============================>.] - ETA: 1s - loss: 0.2516 - categorical_accuracy: 0.9182\n",
      "Epoch 00009: val_loss did not improve from 0.70665\n",
      "34/34 [==============================] - 48s 1s/step - loss: 0.2507 - categorical_accuracy: 0.9186 - val_loss: 1.0618 - val_categorical_accuracy: 0.7100 - lr: 0.0010\n",
      "Epoch 10/25\n",
      "33/34 [============================>.] - ETA: 1s - loss: 0.2499 - categorical_accuracy: 0.9121\n",
      "Epoch 00010: val_loss did not improve from 0.70665\n",
      "\n",
      "Epoch 00010: ReduceLROnPlateau reducing learning rate to 0.00020000000949949026.\n",
      "34/34 [==============================] - 49s 1s/step - loss: 0.2503 - categorical_accuracy: 0.9110 - val_loss: 0.8090 - val_categorical_accuracy: 0.6900 - lr: 0.0010\n",
      "Epoch 11/25\n",
      "33/34 [============================>.] - ETA: 1s - loss: 0.1106 - categorical_accuracy: 0.9636\n",
      "Epoch 00011: val_loss did not improve from 0.70665\n",
      "34/34 [==============================] - 48s 1s/step - loss: 0.1110 - categorical_accuracy: 0.9638 - val_loss: 0.7528 - val_categorical_accuracy: 0.7700 - lr: 2.0000e-04\n",
      "Epoch 12/25\n",
      "34/34 [==============================] - ETA: 0s - loss: 0.0564 - categorical_accuracy: 0.9849\n",
      "Epoch 00012: val_loss improved from 0.70665 to 0.66062, saving model to model_1_2024-12-3108_18_46.921646/model-00012-0.05637-0.98492-0.66062-0.77000.keras\n",
      "34/34 [==============================] - 49s 1s/step - loss: 0.0564 - categorical_accuracy: 0.9849 - val_loss: 0.6606 - val_categorical_accuracy: 0.7700 - lr: 2.0000e-04\n",
      "Epoch 13/25\n",
      "33/34 [============================>.] - ETA: 1s - loss: 0.0377 - categorical_accuracy: 0.9955\n",
      "Epoch 00013: val_loss did not improve from 0.66062\n",
      "34/34 [==============================] - 48s 1s/step - loss: 0.0375 - categorical_accuracy: 0.9955 - val_loss: 0.8685 - val_categorical_accuracy: 0.7300 - lr: 2.0000e-04\n",
      "Epoch 14/25\n",
      "34/34 [==============================] - ETA: 0s - loss: 0.0280 - categorical_accuracy: 0.9985\n",
      "Epoch 00014: val_loss did not improve from 0.66062\n",
      "34/34 [==============================] - 49s 1s/step - loss: 0.0280 - categorical_accuracy: 0.9985 - val_loss: 0.8938 - val_categorical_accuracy: 0.7300 - lr: 2.0000e-04\n",
      "Epoch 15/25\n",
      "34/34 [==============================] - ETA: 0s - loss: 0.0207 - categorical_accuracy: 1.0000\n",
      "Epoch 00015: val_loss improved from 0.66062 to 0.61517, saving model to model_1_2024-12-3108_18_46.921646/model-00015-0.02074-1.00000-0.61517-0.80000.keras\n",
      "34/34 [==============================] - 48s 1s/step - loss: 0.0207 - categorical_accuracy: 1.0000 - val_loss: 0.6152 - val_categorical_accuracy: 0.8000 - lr: 2.0000e-04\n",
      "Epoch 16/25\n",
      "33/34 [============================>.] - ETA: 1s - loss: 0.0157 - categorical_accuracy: 1.0000\n",
      "Epoch 00016: val_loss did not improve from 0.61517\n",
      "34/34 [==============================] - 48s 1s/step - loss: 0.0157 - categorical_accuracy: 1.0000 - val_loss: 0.9341 - val_categorical_accuracy: 0.7100 - lr: 2.0000e-04\n",
      "Epoch 17/25\n",
      "34/34 [==============================] - ETA: 0s - loss: 0.0119 - categorical_accuracy: 1.0000\n",
      "Epoch 00017: val_loss did not improve from 0.61517\n",
      "34/34 [==============================] - 48s 1s/step - loss: 0.0119 - categorical_accuracy: 1.0000 - val_loss: 1.0060 - val_categorical_accuracy: 0.7100 - lr: 2.0000e-04\n",
      "Epoch 18/25\n",
      "34/34 [==============================] - ETA: 0s - loss: 0.0092 - categorical_accuracy: 1.0000\n",
      "Epoch 00018: val_loss did not improve from 0.61517\n",
      "34/34 [==============================] - 48s 1s/step - loss: 0.0092 - categorical_accuracy: 1.0000 - val_loss: 0.8900 - val_categorical_accuracy: 0.7200 - lr: 2.0000e-04\n",
      "Epoch 19/25\n",
      "33/34 [============================>.] - ETA: 1s - loss: 0.0079 - categorical_accuracy: 1.0000\n",
      "Epoch 00019: val_loss did not improve from 0.61517\n",
      "34/34 [==============================] - 48s 1s/step - loss: 0.0079 - categorical_accuracy: 1.0000 - val_loss: 0.7100 - val_categorical_accuracy: 0.7700 - lr: 2.0000e-04\n",
      "Epoch 20/25\n",
      "33/34 [============================>.] - ETA: 1s - loss: 0.0061 - categorical_accuracy: 1.0000\n",
      "Epoch 00020: val_loss did not improve from 0.61517\n",
      "\n",
      "Epoch 00020: ReduceLROnPlateau reducing learning rate to 4.0000001899898055e-05.\n",
      "34/34 [==============================] - 48s 1s/step - loss: 0.0060 - categorical_accuracy: 1.0000 - val_loss: 1.2547 - val_categorical_accuracy: 0.7000 - lr: 2.0000e-04\n",
      "Epoch 21/25\n",
      "33/34 [============================>.] - ETA: 1s - loss: 0.0051 - categorical_accuracy: 1.0000\n",
      "Epoch 00021: val_loss did not improve from 0.61517\n",
      "34/34 [==============================] - 48s 1s/step - loss: 0.0052 - categorical_accuracy: 1.0000 - val_loss: 1.1208 - val_categorical_accuracy: 0.7100 - lr: 4.0000e-05\n",
      "Epoch 22/25\n",
      "33/34 [============================>.] - ETA: 1s - loss: 0.0049 - categorical_accuracy: 1.0000\n",
      "Epoch 00022: val_loss did not improve from 0.61517\n",
      "34/34 [==============================] - 48s 1s/step - loss: 0.0049 - categorical_accuracy: 1.0000 - val_loss: 1.0284 - val_categorical_accuracy: 0.7200 - lr: 4.0000e-05\n",
      "Epoch 23/25\n",
      "34/34 [==============================] - ETA: 0s - loss: 0.0048 - categorical_accuracy: 1.0000\n",
      "Epoch 00023: val_loss did not improve from 0.61517\n",
      "34/34 [==============================] - 50s 1s/step - loss: 0.0048 - categorical_accuracy: 1.0000 - val_loss: 1.2044 - val_categorical_accuracy: 0.6900 - lr: 4.0000e-05\n",
      "Epoch 24/25\n",
      "33/34 [============================>.] - ETA: 1s - loss: 0.0046 - categorical_accuracy: 1.0000\n",
      "Epoch 00024: val_loss did not improve from 0.61517\n",
      "34/34 [==============================] - 49s 1s/step - loss: 0.0046 - categorical_accuracy: 1.0000 - val_loss: 0.9234 - val_categorical_accuracy: 0.7500 - lr: 4.0000e-05\n",
      "Epoch 25/25\n",
      "34/34 [==============================] - ETA: 0s - loss: 0.0044 - categorical_accuracy: 1.0000\n",
      "Epoch 00025: val_loss did not improve from 0.61517\n",
      "\n",
      "Epoch 00025: ReduceLROnPlateau reducing learning rate to 8.000000525498762e-06.\n",
      "Restoring model weights from the end of the best epoch: 15.\n",
      "34/34 [==============================] - 49s 1s/step - loss: 0.0044 - categorical_accuracy: 1.0000 - val_loss: 1.2323 - val_categorical_accuracy: 0.7300 - lr: 4.0000e-05\n",
      "Epoch 00025: early stopping\n"
     ]
    }
   ],
   "source": [
    "# history = model.fit_generator(train_generator, steps_per_epoch=steps_per_epoch, epochs=num_epochs, verbose=1, \n",
    "#                     callbacks=callbacks_list, validation_data=val_generator, \n",
    "#                     validation_steps=validation_steps, class_weight=None, workers=4, initial_epoch=0,max_queue_size=20)\n",
    "\n",
    "# fit_generator is deprecated and will be removed in a future version. Using fit which supports generators.\n",
    "history=model.fit(train_generator,\n",
    "                  steps_per_epoch=steps_per_epoch,\n",
    "                  epochs=num_epochs,\n",
    "                  verbose=1,\n",
    "                  callbacks=callbacks_list,\n",
    "                  validation_data=val_generator,\n",
    "                  validation_steps=validation_steps,\n",
    "                  class_weight=None,\n",
    "                  batch_size=batch_size,\n",
    "                  initial_epoch=0)"
   ]
  },
  {
   "cell_type": "code",
   "execution_count": 16,
   "metadata": {},
   "outputs": [
    {
     "data": {
      "text/plain": [
       "<Figure size 720x720 with 0 Axes>"
      ]
     },
     "metadata": {},
     "output_type": "display_data"
    },
    {
     "data": {
      "image/png": "[encoded data removed]",
      "text/plain": [
       "<Figure size 576x576 with 2 Axes>"
      ]
     },
     "metadata": {
      "needs_background": "light"
     },
     "output_type": "display_data"
    }
   ],
   "source": [
    "plot_evaluation_graph()"
   ]
  },
  {
   "cell_type": "markdown",
   "metadata": {},
   "source": [
    "### Second Experiment - Conv3D with Data Augmentation"
   ]
  },
  {
   "cell_type": "code",
   "execution_count": 17,
   "metadata": {},
   "outputs": [],
   "source": [
    "model = Sequential()\n",
    "model.add(Conv3D(16, (3, 3, 3), padding='same',\n",
    "          input_shape=input_shape))\n",
    "model.add(Activation('relu'))\n",
    "model.add(MaxPooling3D(pool_size=(2, 2, 2)))\n",
    "\n",
    "model.add(Conv3D(32, (2, 2, 2), padding='same'))\n",
    "model.add(Activation('relu'))\n",
    "model.add(MaxPooling3D(pool_size=(2, 2, 2)))\n",
    "\n",
    "model.add(Conv3D(64, (2, 2, 2), padding='same'))\n",
    "model.add(Activation('relu'))\n",
    "model.add(MaxPooling3D(pool_size=(2, 2, 2)))\n",
    "\n",
    "model.add(Conv3D(128, (2, 2, 2), padding='same'))\n",
    "model.add(Activation('relu'))\n",
    "model.add(MaxPooling3D(pool_size=(2, 2, 2)))\n",
    "\n",
    "model.add(Flatten())\n",
    "model.add(Dense(128,activation='relu'))\n",
    "model.add(Dense(64,activation='relu'))\n",
    "\n",
    "model.add(Dense(num_classes,activation='softmax'))"
   ]
  },
  {
   "cell_type": "code",
   "execution_count": 18,
   "metadata": {},
   "outputs": [
    {
     "name": "stdout",
     "output_type": "stream",
     "text": [
      "Steps per epoch: 34\n",
      "Validation steps: 5\n"
     ]
    }
   ],
   "source": [
    "batch_size = 20 #experiment with the batch size\n",
    "image_count = 30 # number of images to be used for each video\n",
    "num_epochs = 25 # choose the number of epochs  \n",
    "train_generator = generator(train_path, train_doc, batch_size, augment=True)\n",
    "val_generator = generator(val_path, val_doc, batch_size, augment=True)\n",
    "\n",
    "callbacks_list = create_model_config('model_2')\n",
    "steps_per_epoch, validation_steps = calculate_steps_per_epoch()\n",
    "print(f\"Steps per epoch: {steps_per_epoch}\") \n",
    "print(f\"Validation steps: {validation_steps}\")"
   ]
  },
  {
   "cell_type": "code",
   "execution_count": 19,
   "metadata": {
    "scrolled": true
   },
   "outputs": [
    {
     "name": "stdout",
     "output_type": "stream",
     "text": [
      "Model: \"sequential_1\"\n",
      "_________________________________________________________________\n",
      " Layer (type)                Output Shape              Param #   \n",
      "=================================================================\n",
      " conv3d_4 (Conv3D)           (None, 30, 160, 160, 16)  1312      \n",
      "                                                                 \n",
      " activation_4 (Activation)   (None, 30, 160, 160, 16)  0         \n",
      "                                                                 \n",
      " max_pooling3d_4 (MaxPooling  (None, 15, 80, 80, 16)   0         \n",
      " 3D)                                                             \n",
      "                                                                 \n",
      " conv3d_5 (Conv3D)           (None, 15, 80, 80, 32)    4128      \n",
      "                                                                 \n",
      " activation_5 (Activation)   (None, 15, 80, 80, 32)    0         \n",
      "                                                                 \n",
      " max_pooling3d_5 (MaxPooling  (None, 7, 40, 40, 32)    0         \n",
      " 3D)                                                             \n",
      "                                                                 \n",
      " conv3d_6 (Conv3D)           (None, 7, 40, 40, 64)     16448     \n",
      "                                                                 \n",
      " activation_6 (Activation)   (None, 7, 40, 40, 64)     0         \n",
      "                                                                 \n",
      " max_pooling3d_6 (MaxPooling  (None, 3, 20, 20, 64)    0         \n",
      " 3D)                                                             \n",
      "                                                                 \n",
      " conv3d_7 (Conv3D)           (None, 3, 20, 20, 128)    65664     \n",
      "                                                                 \n",
      " activation_7 (Activation)   (None, 3, 20, 20, 128)    0         \n",
      "                                                                 \n",
      " max_pooling3d_7 (MaxPooling  (None, 1, 10, 10, 128)   0         \n",
      " 3D)                                                             \n",
      "                                                                 \n",
      " flatten_1 (Flatten)         (None, 12800)             0         \n",
      "                                                                 \n",
      " dense_3 (Dense)             (None, 128)               1638528   \n",
      "                                                                 \n",
      " dense_4 (Dense)             (None, 64)                8256      \n",
      "                                                                 \n",
      " dense_5 (Dense)             (None, 5)                 325       \n",
      "                                                                 \n",
      "=================================================================\n",
      "Total params: 1,734,661\n",
      "Trainable params: 1,734,661\n",
      "Non-trainable params: 0\n",
      "_________________________________________________________________\n",
      "None\n"
     ]
    }
   ],
   "source": [
    "optimiser = 'Adam' #write your optimizer\n",
    "model.compile(optimizer=optimiser, loss='categorical_crossentropy', metrics=['categorical_accuracy'])\n",
    "print (model.summary())"
   ]
  },
  {
   "cell_type": "code",
   "execution_count": 20,
   "metadata": {},
   "outputs": [
    {
     "name": "stdout",
     "output_type": "stream",
     "text": [
      "Source path = /datasets/Project_data/train ; batch size = 20\n",
      "Epoch 1/25\n",
      "34/34 [==============================] - ETA: 0s - loss: 1.5726 - categorical_accuracy: 0.2466Source path = /datasets/Project_data/val ; batch size = 20\n",
      "\n",
      "Epoch 00001: val_loss improved from inf to 1.51967, saving model to model_2_2024-12-3108_18_46.921646/model-00001-1.57258-0.24661-1.51967-0.32000.keras\n",
      "34/34 [==============================] - 110s 3s/step - loss: 1.5726 - categorical_accuracy: 0.2466 - val_loss: 1.5197 - val_categorical_accuracy: 0.3200 - lr: 0.0010\n",
      "Epoch 2/25\n",
      "34/34 [==============================] - ETA: 0s - loss: 1.4310 - categorical_accuracy: 0.3869\n",
      "Epoch 00002: val_loss improved from 1.51967 to 1.38155, saving model to model_2_2024-12-3108_18_46.921646/model-00002-1.43096-0.38688-1.38155-0.50000.keras\n",
      "34/34 [==============================] - 114s 3s/step - loss: 1.4310 - categorical_accuracy: 0.3869 - val_loss: 1.3815 - val_categorical_accuracy: 0.5000 - lr: 0.0010\n",
      "Epoch 3/25\n",
      "34/34 [==============================] - ETA: 0s - loss: 1.3035 - categorical_accuracy: 0.4382\n",
      "Epoch 00003: val_loss improved from 1.38155 to 1.15404, saving model to model_2_2024-12-3108_18_46.921646/model-00003-1.30349-0.43816-1.15404-0.59500.keras\n",
      "34/34 [==============================] - 122s 4s/step - loss: 1.3035 - categorical_accuracy: 0.4382 - val_loss: 1.1540 - val_categorical_accuracy: 0.5950 - lr: 0.0010\n",
      "Epoch 4/25\n",
      "34/34 [==============================] - ETA: 0s - loss: 1.1258 - categorical_accuracy: 0.5452\n",
      "Epoch 00004: val_loss improved from 1.15404 to 1.01040, saving model to model_2_2024-12-3108_18_46.921646/model-00004-1.12578-0.54525-1.01040-0.54500.keras\n",
      "34/34 [==============================] - 133s 4s/step - loss: 1.1258 - categorical_accuracy: 0.5452 - val_loss: 1.0104 - val_categorical_accuracy: 0.5450 - lr: 0.0010\n",
      "Epoch 5/25\n",
      "34/34 [==============================] - ETA: 0s - loss: 1.0552 - categorical_accuracy: 0.5520\n",
      "Epoch 00005: val_loss did not improve from 1.01040\n",
      "34/34 [==============================] - 136s 4s/step - loss: 1.0552 - categorical_accuracy: 0.5520 - val_loss: 1.0192 - val_categorical_accuracy: 0.5300 - lr: 0.0010\n",
      "Epoch 6/25\n",
      "34/34 [==============================] - ETA: 0s - loss: 0.9161 - categorical_accuracy: 0.6146\n",
      "Epoch 00006: val_loss improved from 1.01040 to 0.99839, saving model to model_2_2024-12-3108_18_46.921646/model-00006-0.91611-0.61463-0.99839-0.54000.keras\n",
      "34/34 [==============================] - 118s 4s/step - loss: 0.9161 - categorical_accuracy: 0.6146 - val_loss: 0.9984 - val_categorical_accuracy: 0.5400 - lr: 0.0010\n",
      "Epoch 7/25\n",
      "34/34 [==============================] - ETA: 0s - loss: 0.8418 - categorical_accuracy: 0.6493\n",
      "Epoch 00007: val_loss did not improve from 0.99839\n",
      "34/34 [==============================] - 114s 3s/step - loss: 0.8418 - categorical_accuracy: 0.6493 - val_loss: 1.0511 - val_categorical_accuracy: 0.5750 - lr: 0.0010\n",
      "Epoch 8/25\n",
      "34/34 [==============================] - ETA: 0s - loss: 0.7234 - categorical_accuracy: 0.6923\n",
      "Epoch 00008: val_loss did not improve from 0.99839\n",
      "34/34 [==============================] - 115s 3s/step - loss: 0.7234 - categorical_accuracy: 0.6923 - val_loss: 1.0813 - val_categorical_accuracy: 0.5700 - lr: 0.0010\n",
      "Epoch 9/25\n",
      "34/34 [==============================] - ETA: 0s - loss: 0.7118 - categorical_accuracy: 0.7157\n",
      "Epoch 00009: val_loss improved from 0.99839 to 0.87415, saving model to model_2_2024-12-3108_18_46.921646/model-00009-0.71175-0.71569-0.87415-0.66500.keras\n",
      "34/34 [==============================] - 112s 3s/step - loss: 0.7118 - categorical_accuracy: 0.7157 - val_loss: 0.8741 - val_categorical_accuracy: 0.6650 - lr: 0.0010\n",
      "Epoch 10/25\n",
      "34/34 [==============================] - ETA: 0s - loss: 0.5337 - categorical_accuracy: 0.7919\n",
      "Epoch 00010: val_loss improved from 0.87415 to 0.83507, saving model to model_2_2024-12-3108_18_46.921646/model-00010-0.53373-0.79186-0.83507-0.63000.keras\n",
      "34/34 [==============================] - 115s 3s/step - loss: 0.5337 - categorical_accuracy: 0.7919 - val_loss: 0.8351 - val_categorical_accuracy: 0.6300 - lr: 0.0010\n",
      "Epoch 11/25\n",
      "34/34 [==============================] - ETA: 0s - loss: 0.5016 - categorical_accuracy: 0.7994\n",
      "Epoch 00011: val_loss did not improve from 0.83507\n",
      "34/34 [==============================] - 115s 3s/step - loss: 0.5016 - categorical_accuracy: 0.7994 - val_loss: 0.9216 - val_categorical_accuracy: 0.6550 - lr: 0.0010\n",
      "Epoch 12/25\n",
      "34/34 [==============================] - ETA: 0s - loss: 0.5018 - categorical_accuracy: 0.7881\n",
      "Epoch 00012: val_loss did not improve from 0.83507\n",
      "34/34 [==============================] - 114s 3s/step - loss: 0.5018 - categorical_accuracy: 0.7881 - val_loss: 0.8457 - val_categorical_accuracy: 0.6500 - lr: 0.0010\n",
      "Epoch 13/25\n",
      "34/34 [==============================] - ETA: 0s - loss: 0.4723 - categorical_accuracy: 0.8205\n",
      "Epoch 00013: val_loss did not improve from 0.83507\n",
      "34/34 [==============================] - 110s 3s/step - loss: 0.4723 - categorical_accuracy: 0.8205 - val_loss: 0.9425 - val_categorical_accuracy: 0.6100 - lr: 0.0010\n",
      "Epoch 14/25\n",
      "34/34 [==============================] - ETA: 0s - loss: 0.3667 - categorical_accuracy: 0.8635\n",
      "Epoch 00014: val_loss did not improve from 0.83507\n",
      "34/34 [==============================] - 119s 4s/step - loss: 0.3667 - categorical_accuracy: 0.8635 - val_loss: 0.8700 - val_categorical_accuracy: 0.6650 - lr: 0.0010\n",
      "Epoch 15/25\n",
      "34/34 [==============================] - ETA: 0s - loss: 0.3068 - categorical_accuracy: 0.8741\n",
      "Epoch 00015: val_loss did not improve from 0.83507\n",
      "\n",
      "Epoch 00015: ReduceLROnPlateau reducing learning rate to 0.00020000000949949026.\n",
      "34/34 [==============================] - 109s 3s/step - loss: 0.3068 - categorical_accuracy: 0.8741 - val_loss: 0.9567 - val_categorical_accuracy: 0.6800 - lr: 0.0010\n",
      "Epoch 16/25\n",
      "34/34 [==============================] - ETA: 0s - loss: 0.2096 - categorical_accuracy: 0.9268\n",
      "Epoch 00016: val_loss did not improve from 0.83507\n",
      "34/34 [==============================] - 111s 3s/step - loss: 0.2096 - categorical_accuracy: 0.9268 - val_loss: 0.9249 - val_categorical_accuracy: 0.7050 - lr: 2.0000e-04\n",
      "Epoch 17/25\n",
      "34/34 [==============================] - ETA: 0s - loss: 0.1636 - categorical_accuracy: 0.9374\n",
      "Epoch 00017: val_loss did not improve from 0.83507\n",
      "34/34 [==============================] - 110s 3s/step - loss: 0.1636 - categorical_accuracy: 0.9374 - val_loss: 0.8715 - val_categorical_accuracy: 0.7100 - lr: 2.0000e-04\n",
      "Epoch 18/25\n",
      "34/34 [==============================] - ETA: 0s - loss: 0.1341 - categorical_accuracy: 0.9540\n",
      "Epoch 00018: val_loss did not improve from 0.83507\n",
      "34/34 [==============================] - 107s 3s/step - loss: 0.1341 - categorical_accuracy: 0.9540 - val_loss: 1.2266 - val_categorical_accuracy: 0.6600 - lr: 2.0000e-04\n",
      "Epoch 19/25\n",
      "34/34 [==============================] - ETA: 0s - loss: 0.1343 - categorical_accuracy: 0.9517\n",
      "Epoch 00019: val_loss did not improve from 0.83507\n",
      "34/34 [==============================] - 108s 3s/step - loss: 0.1343 - categorical_accuracy: 0.9517 - val_loss: 0.9661 - val_categorical_accuracy: 0.7150 - lr: 2.0000e-04\n",
      "Epoch 20/25\n",
      "34/34 [==============================] - ETA: 0s - loss: 0.1252 - categorical_accuracy: 0.9608\n",
      "Epoch 00020: val_loss did not improve from 0.83507\n",
      "\n",
      "Epoch 00020: ReduceLROnPlateau reducing learning rate to 4.0000001899898055e-05.\n",
      "Restoring model weights from the end of the best epoch: 10.\n",
      "34/34 [==============================] - 111s 3s/step - loss: 0.1252 - categorical_accuracy: 0.9608 - val_loss: 1.0996 - val_categorical_accuracy: 0.7000 - lr: 2.0000e-04\n",
      "Epoch 00020: early stopping\n"
     ]
    }
   ],
   "source": [
    "# history = model.fit_generator(train_generator, steps_per_epoch=steps_per_epoch, epochs=num_epochs, verbose=1, \n",
    "#                     callbacks=callbacks_list, validation_data=val_generator, \n",
    "#                     validation_steps=validation_steps, class_weight=None, workers=4, initial_epoch=0,max_queue_size=20)\n",
    "\n",
    "# fit_generator is deprecated and will be removed in a future version. Using fit which supports generators.\n",
    "history=model.fit(train_generator,\n",
    "                  steps_per_epoch=steps_per_epoch,\n",
    "                  epochs=num_epochs,\n",
    "                  verbose=1,\n",
    "                  callbacks=callbacks_list,\n",
    "                  validation_data=val_generator,\n",
    "                  validation_steps=validation_steps,\n",
    "                  class_weight=None,\n",
    "                  batch_size=batch_size,\n",
    "                  initial_epoch=0)"
   ]
  },
  {
   "cell_type": "code",
   "execution_count": 21,
   "metadata": {},
   "outputs": [
    {
     "data": {
      "text/plain": [
       "<Figure size 720x720 with 0 Axes>"
      ]
     },
     "metadata": {},
     "output_type": "display_data"
    },
    {
     "data": {
      "image/png": "[encoded data removed]",
      "text/plain": [
       "<Figure size 576x576 with 2 Axes>"
      ]
     },
     "metadata": {
      "needs_background": "light"
     },
     "output_type": "display_data"
    }
   ],
   "source": [
    "plot_evaluation_graph()x`"
   ]
  },
  {
   "cell_type": "markdown",
   "metadata": {},
   "source": []
  },
  {
   "cell_type": "markdown",
   "metadata": {},
   "source": [
    "### Thrid Experiment - Conv3D with Data Augmentation and additional Layer"
   ]
  },
  {
   "cell_type": "code",
   "execution_count": 24,
   "metadata": {},
   "outputs": [],
   "source": [
    "model = Sequential()\n",
    "model.add(Conv3D(8, (2, 2, 2), padding='same',\n",
    "          input_shape=input_shape))\n",
    "model.add(Activation('relu'))\n",
    "\n",
    "model.add(Conv3D(16, (2, 2, 2), padding='same'))\n",
    "model.add(Activation('relu'))\n",
    "model.add(MaxPooling3D(pool_size=(2, 2, 2)))\n",
    "\n",
    "model.add(Conv3D(32, (2, 2, 2), padding='same'))\n",
    "model.add(Activation('relu'))\n",
    "model.add(MaxPooling3D(pool_size=(2, 2, 2)))\n",
    "\n",
    "model.add(Conv3D(64, (2, 2, 2), padding='same'))\n",
    "model.add(Activation('relu'))\n",
    "model.add(MaxPooling3D(pool_size=(2, 2, 2)))\n",
    "\n",
    "model.add(Conv3D(128, (2, 2, 2), padding='same'))\n",
    "model.add(Activation('relu'))\n",
    "model.add(MaxPooling3D(pool_size=(2, 2, 2)))\n",
    "\n",
    "model.add(Flatten())\n",
    "model.add(Dense(128,activation='relu'))\n",
    "model.add(Dense(64,activation='relu'))\n",
    "\n",
    "model.add(Dense(num_classes,activation='softmax'))"
   ]
  },
  {
   "cell_type": "code",
   "execution_count": 25,
   "metadata": {},
   "outputs": [
    {
     "name": "stdout",
     "output_type": "stream",
     "text": [
      "Steps per epoch: 34\n",
      "Validation steps: 5\n"
     ]
    }
   ],
   "source": [
    "batch_size = 20 #experiment with the batch size\n",
    "image_count = 30 # number of images to be used for each video\n",
    "num_epochs = 25 # choose the number of epochs  \n",
    "train_generator = generator(train_path, train_doc, batch_size, augment=True)\n",
    "val_generator = generator(val_path, val_doc, batch_size, augment=True)\n",
    "\n",
    "callbacks_list = create_model_config('model_3')\n",
    "steps_per_epoch, validation_steps = calculate_steps_per_epoch()\n",
    "print(f\"Steps per epoch: {steps_per_epoch}\") \n",
    "print(f\"Validation steps: {validation_steps}\")"
   ]
  },
  {
   "cell_type": "code",
   "execution_count": 26,
   "metadata": {},
   "outputs": [
    {
     "name": "stdout",
     "output_type": "stream",
     "text": [
      "Model: \"sequential_4\"\n",
      "_________________________________________________________________\n",
      " Layer (type)                Output Shape              Param #   \n",
      "=================================================================\n",
      " conv3d_18 (Conv3D)          (None, 30, 160, 160, 8)   200       \n",
      "                                                                 \n",
      " activation_18 (Activation)  (None, 30, 160, 160, 8)   0         \n",
      "                                                                 \n",
      " conv3d_19 (Conv3D)          (None, 30, 160, 160, 16)  1040      \n",
      "                                                                 \n",
      " activation_19 (Activation)  (None, 30, 160, 160, 16)  0         \n",
      "                                                                 \n",
      " max_pooling3d_18 (MaxPoolin  (None, 15, 80, 80, 16)   0         \n",
      " g3D)                                                            \n",
      "                                                                 \n",
      " conv3d_20 (Conv3D)          (None, 15, 80, 80, 32)    4128      \n",
      "                                                                 \n",
      " activation_20 (Activation)  (None, 15, 80, 80, 32)    0         \n",
      "                                                                 \n",
      " max_pooling3d_19 (MaxPoolin  (None, 7, 40, 40, 32)    0         \n",
      " g3D)                                                            \n",
      "                                                                 \n",
      " conv3d_21 (Conv3D)          (None, 7, 40, 40, 64)     16448     \n",
      "                                                                 \n",
      " activation_21 (Activation)  (None, 7, 40, 40, 64)     0         \n",
      "                                                                 \n",
      " max_pooling3d_20 (MaxPoolin  (None, 3, 20, 20, 64)    0         \n",
      " g3D)                                                            \n",
      "                                                                 \n",
      " conv3d_22 (Conv3D)          (None, 3, 20, 20, 128)    65664     \n",
      "                                                                 \n",
      " activation_22 (Activation)  (None, 3, 20, 20, 128)    0         \n",
      "                                                                 \n",
      " max_pooling3d_21 (MaxPoolin  (None, 1, 10, 10, 128)   0         \n",
      " g3D)                                                            \n",
      "                                                                 \n",
      " flatten_2 (Flatten)         (None, 12800)             0         \n",
      "                                                                 \n",
      " dense_6 (Dense)             (None, 128)               1638528   \n",
      "                                                                 \n",
      " dense_7 (Dense)             (None, 64)                8256      \n",
      "                                                                 \n",
      " dense_8 (Dense)             (None, 5)                 325       \n",
      "                                                                 \n",
      "=================================================================\n",
      "Total params: 1,734,589\n",
      "Trainable params: 1,734,589\n",
      "Non-trainable params: 0\n",
      "_________________________________________________________________\n",
      "None\n"
     ]
    }
   ],
   "source": [
    "optimiser = 'Adam' #write your optimizer\n",
    "model.compile(optimizer=optimiser, loss='categorical_crossentropy', metrics=['categorical_accuracy'])\n",
    "print (model.summary())"
   ]
  },
  {
   "cell_type": "code",
   "execution_count": 27,
   "metadata": {},
   "outputs": [
    {
     "name": "stdout",
     "output_type": "stream",
     "text": [
      "Source path = /datasets/Project_data/train ; batch size = 20\n",
      "Epoch 1/25\n",
      "34/34 [==============================] - ETA: 0s - loss: 1.5347 - categorical_accuracy: 0.2428Source path = /datasets/Project_data/val ; batch size = 20\n",
      "\n",
      "Epoch 00001: val_loss improved from inf to 1.37112, saving model to model_3_2024-12-3108_18_46.921646/model-00001-1.53472-0.24284-1.37112-0.43500.keras\n",
      "34/34 [==============================] - 115s 3s/step - loss: 1.5347 - categorical_accuracy: 0.2428 - val_loss: 1.3711 - val_categorical_accuracy: 0.4350 - lr: 0.0010\n",
      "Epoch 2/25\n",
      "34/34 [==============================] - ETA: 0s - loss: 1.3583 - categorical_accuracy: 0.4178\n",
      "Epoch 00002: val_loss improved from 1.37112 to 1.24412, saving model to model_3_2024-12-3108_18_46.921646/model-00002-1.35833-0.41780-1.24412-0.44500.keras\n",
      "34/34 [==============================] - 108s 3s/step - loss: 1.3583 - categorical_accuracy: 0.4178 - val_loss: 1.2441 - val_categorical_accuracy: 0.4450 - lr: 0.0010\n",
      "Epoch 3/25\n",
      "34/34 [==============================] - ETA: 0s - loss: 1.1538 - categorical_accuracy: 0.5075\n",
      "Epoch 00003: val_loss improved from 1.24412 to 1.06812, saving model to model_3_2024-12-3108_18_46.921646/model-00003-1.15380-0.50754-1.06812-0.52500.keras\n",
      "34/34 [==============================] - 106s 3s/step - loss: 1.1538 - categorical_accuracy: 0.5075 - val_loss: 1.0681 - val_categorical_accuracy: 0.5250 - lr: 0.0010\n",
      "Epoch 4/25\n",
      "34/34 [==============================] - ETA: 0s - loss: 1.0231 - categorical_accuracy: 0.5505\n",
      "Epoch 00004: val_loss improved from 1.06812 to 0.95575, saving model to model_3_2024-12-3108_18_46.921646/model-00004-1.02308-0.55053-0.95575-0.59500.keras\n",
      "34/34 [==============================] - 107s 3s/step - loss: 1.0231 - categorical_accuracy: 0.5505 - val_loss: 0.9558 - val_categorical_accuracy: 0.5950 - lr: 0.0010\n",
      "Epoch 5/25\n",
      "34/34 [==============================] - ETA: 0s - loss: 0.9453 - categorical_accuracy: 0.5882\n",
      "Epoch 00005: val_loss improved from 0.95575 to 0.89496, saving model to model_3_2024-12-3108_18_46.921646/model-00005-0.94534-0.58824-0.89496-0.61000.keras\n",
      "34/34 [==============================] - 107s 3s/step - loss: 0.9453 - categorical_accuracy: 0.5882 - val_loss: 0.8950 - val_categorical_accuracy: 0.6100 - lr: 0.0010\n",
      "Epoch 6/25\n",
      "34/34 [==============================] - ETA: 0s - loss: 0.9753 - categorical_accuracy: 0.6041\n",
      "Epoch 00006: val_loss did not improve from 0.89496\n",
      "34/34 [==============================] - 106s 3s/step - loss: 0.9753 - categorical_accuracy: 0.6041 - val_loss: 1.0101 - val_categorical_accuracy: 0.5300 - lr: 0.0010\n",
      "Epoch 7/25\n",
      "34/34 [==============================] - ETA: 0s - loss: 0.8405 - categorical_accuracy: 0.6440\n",
      "Epoch 00007: val_loss did not improve from 0.89496\n",
      "34/34 [==============================] - 106s 3s/step - loss: 0.8405 - categorical_accuracy: 0.6440 - val_loss: 1.0555 - val_categorical_accuracy: 0.5250 - lr: 0.0010\n",
      "Epoch 8/25\n",
      "34/34 [==============================] - ETA: 0s - loss: 0.7797 - categorical_accuracy: 0.6742\n",
      "Epoch 00008: val_loss did not improve from 0.89496\n",
      "34/34 [==============================] - 107s 3s/step - loss: 0.7797 - categorical_accuracy: 0.6742 - val_loss: 1.0119 - val_categorical_accuracy: 0.6000 - lr: 0.0010\n",
      "Epoch 9/25\n",
      "34/34 [==============================] - ETA: 0s - loss: 0.7285 - categorical_accuracy: 0.6983\n",
      "Epoch 00009: val_loss did not improve from 0.89496\n",
      "34/34 [==============================] - 106s 3s/step - loss: 0.7285 - categorical_accuracy: 0.6983 - val_loss: 1.0339 - val_categorical_accuracy: 0.6150 - lr: 0.0010\n",
      "Epoch 10/25\n",
      "34/34 [==============================] - ETA: 0s - loss: 0.7127 - categorical_accuracy: 0.7044\n",
      "Epoch 00010: val_loss did not improve from 0.89496\n",
      "\n",
      "Epoch 00010: ReduceLROnPlateau reducing learning rate to 0.00020000000949949026.\n",
      "34/34 [==============================] - 110s 3s/step - loss: 0.7127 - categorical_accuracy: 0.7044 - val_loss: 0.9158 - val_categorical_accuracy: 0.5900 - lr: 0.0010\n",
      "Epoch 11/25\n",
      "34/34 [==============================] - ETA: 0s - loss: 0.5982 - categorical_accuracy: 0.7579\n",
      "Epoch 00011: val_loss did not improve from 0.89496\n",
      "34/34 [==============================] - 108s 3s/step - loss: 0.5982 - categorical_accuracy: 0.7579 - val_loss: 0.9342 - val_categorical_accuracy: 0.6300 - lr: 2.0000e-04\n",
      "Epoch 12/25\n",
      "34/34 [==============================] - ETA: 0s - loss: 0.5251 - categorical_accuracy: 0.7881\n",
      "Epoch 00012: val_loss did not improve from 0.89496\n",
      "34/34 [==============================] - 107s 3s/step - loss: 0.5251 - categorical_accuracy: 0.7881 - val_loss: 1.0591 - val_categorical_accuracy: 0.6050 - lr: 2.0000e-04\n",
      "Epoch 13/25\n",
      "34/34 [==============================] - ETA: 0s - loss: 0.4887 - categorical_accuracy: 0.8069\n",
      "Epoch 00013: val_loss did not improve from 0.89496\n",
      "34/34 [==============================] - 106s 3s/step - loss: 0.4887 - categorical_accuracy: 0.8069 - val_loss: 1.0150 - val_categorical_accuracy: 0.6600 - lr: 2.0000e-04\n",
      "Epoch 14/25\n",
      "34/34 [==============================] - ETA: 0s - loss: 0.4629 - categorical_accuracy: 0.8054\n",
      "Epoch 00014: val_loss did not improve from 0.89496\n",
      "34/34 [==============================] - 108s 3s/step - loss: 0.4629 - categorical_accuracy: 0.8054 - val_loss: 1.0071 - val_categorical_accuracy: 0.6450 - lr: 2.0000e-04\n",
      "Epoch 15/25\n",
      "34/34 [==============================] - ETA: 0s - loss: 0.4595 - categorical_accuracy: 0.8122\n",
      "Epoch 00015: val_loss did not improve from 0.89496\n",
      "\n",
      "Epoch 00015: ReduceLROnPlateau reducing learning rate to 4.0000001899898055e-05.\n",
      "Restoring model weights from the end of the best epoch: 5.\n",
      "34/34 [==============================] - 110s 3s/step - loss: 0.4595 - categorical_accuracy: 0.8122 - val_loss: 1.0363 - val_categorical_accuracy: 0.6400 - lr: 2.0000e-04\n",
      "Epoch 00015: early stopping\n"
     ]
    }
   ],
   "source": [
    "# history = model.fit_generator(train_generator, steps_per_epoch=steps_per_epoch, epochs=num_epochs, verbose=1, \n",
    "#                     callbacks=callbacks_list, validation_data=val_generator, \n",
    "#                     validation_steps=validation_steps, class_weight=None, workers=4, initial_epoch=0,max_queue_size=20)\n",
    "\n",
    "# fit_generator is deprecated and will be removed in a future version. Using fit which supports generators.\n",
    "history=model.fit(train_generator,\n",
    "                  steps_per_epoch=steps_per_epoch,\n",
    "                  epochs=num_epochs,\n",
    "                  verbose=1,\n",
    "                  callbacks=callbacks_list,\n",
    "                  validation_data=val_generator,\n",
    "                  validation_steps=validation_steps,\n",
    "                  class_weight=None,\n",
    "                  batch_size=batch_size,\n",
    "                  initial_epoch=0)"
   ]
  },
  {
   "cell_type": "code",
   "execution_count": 28,
   "metadata": {},
   "outputs": [
    {
     "data": {
      "text/plain": [
       "<Figure size 720x720 with 0 Axes>"
      ]
     },
     "metadata": {},
     "output_type": "display_data"
    },
    {
     "data": {
      "image/png": "[encoded data removed]",
      "text/plain": [
       "<Figure size 576x576 with 2 Axes>"
      ]
     },
     "metadata": {
      "needs_background": "light"
     },
     "output_type": "display_data"
    }
   ],
   "source": [
    "plot_evaluation_graph()"
   ]
  },
  {
   "cell_type": "markdown",
   "metadata": {},
   "source": [
    "### Fouth Experiment - CNN 2D and RNN (LSTM) with Data Augmentation"
   ]
  },
  {
   "cell_type": "code",
   "execution_count": 29,
   "metadata": {},
   "outputs": [],
   "source": [
    "model = Sequential()\n",
    "model.add(TimeDistributed(Conv2D(8, (3,3), padding='same', activation='relu'), input_shape=input_shape))\n",
    "\n",
    "model.add(TimeDistributed(Conv2D(16, (3, 3), padding='same', activation='relu')))\n",
    "model.add(TimeDistributed(BatchNormalization()))\n",
    "model.add(TimeDistributed(MaxPooling2D((2, 2))))\n",
    "\n",
    "model.add(TimeDistributed(Conv2D(32, (3, 3), padding='same', activation='relu')))\n",
    "model.add(TimeDistributed(BatchNormalization()))\n",
    "model.add(TimeDistributed(MaxPooling2D((2, 2))))\n",
    "\n",
    "model.add(TimeDistributed(Conv2D(64, (3, 3), padding='same', activation='relu')))\n",
    "model.add(TimeDistributed(BatchNormalization()))\n",
    "model.add(TimeDistributed(MaxPooling2D((2, 2))))\n",
    "\n",
    "model.add(TimeDistributed(Conv2D(128, (3, 3), padding='same', activation='relu')))\n",
    "model.add(TimeDistributed(BatchNormalization()))\n",
    "model.add(TimeDistributed(MaxPooling2D((2, 2))))\n",
    "\n",
    "model.add(TimeDistributed(Flatten()))\n",
    "\n",
    "model.add(LSTM(128))\n",
    "model.add(Dropout(0.5))\n",
    "\n",
    "model.add(Dense(128, activation='relu'))\n",
    "model.add(Dropout(0.5))\n",
    "\n",
    "model.add(Dense(num_classes, activation='softmax'))\n"
   ]
  },
  {
   "cell_type": "code",
   "execution_count": 30,
   "metadata": {},
   "outputs": [
    {
     "name": "stdout",
     "output_type": "stream",
     "text": [
      "Steps per epoch: 34\n",
      "Validation steps: 5\n"
     ]
    }
   ],
   "source": [
    "batch_size = 20 #experiment with the batch size\n",
    "image_count = 30 # number of images to be used for each video\n",
    "num_epochs = 25 # choose the number of epochs  \n",
    "train_generator = generator(train_path, train_doc, batch_size, augment=True)\n",
    "val_generator = generator(val_path, val_doc, batch_size, augment=True)\n",
    "\n",
    "callbacks_list = create_model_config('model_3')\n",
    "steps_per_epoch, validation_steps = calculate_steps_per_epoch()\n",
    "print(f\"Steps per epoch: {steps_per_epoch}\") \n",
    "print(f\"Validation steps: {validation_steps}\")"
   ]
  },
  {
   "cell_type": "code",
   "execution_count": 31,
   "metadata": {
    "scrolled": true
   },
   "outputs": [
    {
     "name": "stdout",
     "output_type": "stream",
     "text": [
      "Model: \"sequential_5\"\n",
      "_________________________________________________________________\n",
      " Layer (type)                Output Shape              Param #   \n",
      "=================================================================\n",
      " time_distributed (TimeDistr  (None, 30, 160, 160, 8)  224       \n",
      " ibuted)                                                         \n",
      "                                                                 \n",
      " time_distributed_1 (TimeDis  (None, 30, 160, 160, 16)  1168     \n",
      " tributed)                                                       \n",
      "                                                                 \n",
      " time_distributed_2 (TimeDis  (None, 30, 160, 160, 16)  64       \n",
      " tributed)                                                       \n",
      "                                                                 \n",
      " time_distributed_3 (TimeDis  (None, 30, 80, 80, 16)   0         \n",
      " tributed)                                                       \n",
      "                                                                 \n",
      " time_distributed_4 (TimeDis  (None, 30, 80, 80, 32)   4640      \n",
      " tributed)                                                       \n",
      "                                                                 \n",
      " time_distributed_5 (TimeDis  (None, 30, 80, 80, 32)   128       \n",
      " tributed)                                                       \n",
      "                                                                 \n",
      " time_distributed_6 (TimeDis  (None, 30, 40, 40, 32)   0         \n",
      " tributed)                                                       \n",
      "                                                                 \n",
      " time_distributed_7 (TimeDis  (None, 30, 40, 40, 64)   18496     \n",
      " tributed)                                                       \n",
      "                                                                 \n",
      " time_distributed_8 (TimeDis  (None, 30, 40, 40, 64)   256       \n",
      " tributed)                                                       \n",
      "                                                                 \n",
      " time_distributed_9 (TimeDis  (None, 30, 20, 20, 64)   0         \n",
      " tributed)                                                       \n",
      "                                                                 \n",
      " time_distributed_10 (TimeDi  (None, 30, 20, 20, 128)  73856     \n",
      " stributed)                                                      \n",
      "                                                                 \n",
      " time_distributed_11 (TimeDi  (None, 30, 20, 20, 128)  512       \n",
      " stributed)                                                      \n",
      "                                                                 \n",
      " time_distributed_12 (TimeDi  (None, 30, 10, 10, 128)  0         \n",
      " stributed)                                                      \n",
      "                                                                 \n",
      " time_distributed_13 (TimeDi  (None, 30, 12800)        0         \n",
      " stributed)                                                      \n",
      "                                                                 \n",
      " lstm (LSTM)                 (None, 128)               6619648   \n",
      "                                                                 \n",
      " dropout (Dropout)           (None, 128)               0         \n",
      "                                                                 \n",
      " dense_9 (Dense)             (None, 128)               16512     \n",
      "                                                                 \n",
      " dropout_1 (Dropout)         (None, 128)               0         \n",
      "                                                                 \n",
      " dense_10 (Dense)            (None, 5)                 645       \n",
      "                                                                 \n",
      "=================================================================\n",
      "Total params: 6,736,149\n",
      "Trainable params: 6,735,669\n",
      "Non-trainable params: 480\n",
      "_________________________________________________________________\n",
      "None\n"
     ]
    }
   ],
   "source": [
    "optimiser = 'Adam' #write your optimizer\n",
    "model.compile(optimizer=optimiser, loss='categorical_crossentropy', metrics=['categorical_accuracy'])\n",
    "print (model.summary())"
   ]
  },
  {
   "cell_type": "code",
   "execution_count": 32,
   "metadata": {},
   "outputs": [
    {
     "name": "stdout",
     "output_type": "stream",
     "text": [
      "Source path = /datasets/Project_data/train ; batch size = 20\n",
      "Epoch 1/25\n"
     ]
    },
    {
     "ename": "InvalidArgumentError",
     "evalue": " Input to reshape is a tensor with 10240000 values, but the requested shape requires a multiple of 384000\n\t [[node sequential_5/time_distributed_13/Reshape_1\n (defined at /usr/local/lib/python3.8/dist-packages/keras/layers/wrappers.py:275)\n]] [Op:__inference_train_function_21555]\n\nErrors may have originated from an input operation.\nInput Source operations connected to node sequential_5/time_distributed_13/Reshape_1:\nIn[0] sequential_5/time_distributed_13/flatten_3/Reshape (defined at /usr/local/lib/python3.8/dist-packages/keras/layers/core/flatten.py:96)\t\nIn[1] sequential_5/time_distributed_13/Reshape_1/shape:\n\nOperation defined at: (most recent call last)\n>>>   File \"/usr/lib/python3.8/runpy.py\", line 194, in _run_module_as_main\n>>>     return _run_code(code, main_globals, None,\n>>> \n>>>   File \"/usr/lib/python3.8/runpy.py\", line 87, in _run_code\n>>>     exec(code, run_globals)\n>>> \n>>>   File \"/usr/local/lib/python3.8/dist-packages/ipykernel_launcher.py\", line 16, in <module>\n>>>     app.launch_new_instance()\n>>> \n>>>   File \"/usr/local/lib/python3.8/dist-packages/traitlets/config/application.py\", line 846, in launch_instance\n>>>     app.start()\n>>> \n>>>   File \"/usr/local/lib/python3.8/dist-packages/ipykernel/kernelapp.py\", line 677, in start\n>>>     self.io_loop.start()\n>>> \n>>>   File \"/usr/local/lib/python3.8/dist-packages/tornado/platform/asyncio.py\", line 199, in start\n>>>     self.asyncio_loop.run_forever()\n>>> \n>>>   File \"/usr/lib/python3.8/asyncio/base_events.py\", line 570, in run_forever\n>>>     self._run_once()\n>>> \n>>>   File \"/usr/lib/python3.8/asyncio/base_events.py\", line 1859, in _run_once\n>>>     handle._run()\n>>> \n>>>   File \"/usr/lib/python3.8/asyncio/events.py\", line 81, in _run\n>>>     self._context.run(self._callback, *self._args)\n>>> \n>>>   File \"/usr/local/lib/python3.8/dist-packages/ipykernel/kernelbase.py\", line 461, in dispatch_queue\n>>>     await self.process_one()\n>>> \n>>>   File \"/usr/local/lib/python3.8/dist-packages/ipykernel/kernelbase.py\", line 450, in process_one\n>>>     await dispatch(*args)\n>>> \n>>>   File \"/usr/local/lib/python3.8/dist-packages/ipykernel/kernelbase.py\", line 357, in dispatch_shell\n>>>     await result\n>>> \n>>>   File \"/usr/local/lib/python3.8/dist-packages/ipykernel/kernelbase.py\", line 652, in execute_request\n>>>     reply_content = await reply_content\n>>> \n>>>   File \"/usr/local/lib/python3.8/dist-packages/ipykernel/ipkernel.py\", line 359, in do_execute\n>>>     res = shell.run_cell(code, store_history=store_history, silent=silent)\n>>> \n>>>   File \"/usr/local/lib/python3.8/dist-packages/ipykernel/zmqshell.py\", line 532, in run_cell\n>>>     return super().run_cell(*args, **kwargs)\n>>> \n>>>   File \"/usr/local/lib/python3.8/dist-packages/IPython/core/interactiveshell.py\", line 2914, in run_cell\n>>>     result = self._run_cell(\n>>> \n>>>   File \"/usr/local/lib/python3.8/dist-packages/IPython/core/interactiveshell.py\", line 2960, in _run_cell\n>>>     return runner(coro)\n>>> \n>>>   File \"/usr/local/lib/python3.8/dist-packages/IPython/core/async_helpers.py\", line 78, in _pseudo_sync_runner\n>>>     coro.send(None)\n>>> \n>>>   File \"/usr/local/lib/python3.8/dist-packages/IPython/core/interactiveshell.py\", line 3185, in run_cell_async\n>>>     has_raised = await self.run_ast_nodes(code_ast.body, cell_name,\n>>> \n>>>   File \"/usr/local/lib/python3.8/dist-packages/IPython/core/interactiveshell.py\", line 3377, in run_ast_nodes\n>>>     if (await self.run_code(code, result,  async_=asy)):\n>>> \n>>>   File \"/usr/local/lib/python3.8/dist-packages/IPython/core/interactiveshell.py\", line 3457, in run_code\n>>>     exec(code_obj, self.user_global_ns, self.user_ns)\n>>> \n>>>   File \"/tmp/ipykernel_233/1142039328.py\", line 6, in <module>\n>>>     history=model.fit(train_generator,\n>>> \n>>>   File \"/usr/local/lib/python3.8/dist-packages/keras/utils/traceback_utils.py\", line 64, in error_handler\n>>>     return fn(*args, **kwargs)\n>>> \n>>>   File \"/usr/local/lib/python3.8/dist-packages/keras/engine/training.py\", line 1216, in fit\n>>>     tmp_logs = self.train_function(iterator)\n>>> \n>>>   File \"/usr/local/lib/python3.8/dist-packages/keras/engine/training.py\", line 878, in train_function\n>>>     return step_function(self, iterator)\n>>> \n>>>   File \"/usr/local/lib/python3.8/dist-packages/keras/engine/training.py\", line 867, in step_function\n>>>     outputs = model.distribute_strategy.run(run_step, args=(data,))\n>>> \n>>>   File \"/usr/local/lib/python3.8/dist-packages/keras/engine/training.py\", line 860, in run_step\n>>>     outputs = model.train_step(data)\n>>> \n>>>   File \"/usr/local/lib/python3.8/dist-packages/keras/engine/training.py\", line 808, in train_step\n>>>     y_pred = self(x, training=True)\n>>> \n>>>   File \"/usr/local/lib/python3.8/dist-packages/keras/utils/traceback_utils.py\", line 64, in error_handler\n>>>     return fn(*args, **kwargs)\n>>> \n>>>   File \"/usr/local/lib/python3.8/dist-packages/keras/engine/base_layer.py\", line 1083, in __call__\n>>>     outputs = call_fn(inputs, *args, **kwargs)\n>>> \n>>>   File \"/usr/local/lib/python3.8/dist-packages/keras/utils/traceback_utils.py\", line 92, in error_handler\n>>>     return fn(*args, **kwargs)\n>>> \n>>>   File \"/usr/local/lib/python3.8/dist-packages/keras/engine/sequential.py\", line 373, in call\n>>>     return super(Sequential, self).call(inputs, training=training, mask=mask)\n>>> \n>>>   File \"/usr/local/lib/python3.8/dist-packages/keras/engine/functional.py\", line 451, in call\n>>>     return self._run_internal_graph(\n>>> \n>>>   File \"/usr/local/lib/python3.8/dist-packages/keras/engine/functional.py\", line 589, in _run_internal_graph\n>>>     outputs = node.layer(*args, **kwargs)\n>>> \n>>>   File \"/usr/local/lib/python3.8/dist-packages/keras/utils/traceback_utils.py\", line 64, in error_handler\n>>>     return fn(*args, **kwargs)\n>>> \n>>>   File \"/usr/local/lib/python3.8/dist-packages/keras/engine/base_layer.py\", line 1083, in __call__\n>>>     outputs = call_fn(inputs, *args, **kwargs)\n>>> \n>>>   File \"/usr/local/lib/python3.8/dist-packages/keras/utils/traceback_utils.py\", line 92, in error_handler\n>>>     return fn(*args, **kwargs)\n>>> \n>>>   File \"/usr/local/lib/python3.8/dist-packages/keras/layers/wrappers.py\", line 275, in call\n>>>     y = tf.__internal__.nest.map_structure_up_to(y, tf.reshape, y, output_shape)\n>>> ",
     "output_type": "error",
     "traceback": [
      "\u001b[0;31m---------------------------------------------------------------------------\u001b[0m",
      "\u001b[0;31mInvalidArgumentError\u001b[0m                      Traceback (most recent call last)",
      "\u001b[0;32m/tmp/ipykernel_233/1142039328.py\u001b[0m in \u001b[0;36m<module>\u001b[0;34m\u001b[0m\n\u001b[1;32m      4\u001b[0m \u001b[0;34m\u001b[0m\u001b[0m\n\u001b[1;32m      5\u001b[0m \u001b[0;31m# fit_generator is deprecated and will be removed in a future version. Using fit which supports generators.\u001b[0m\u001b[0;34m\u001b[0m\u001b[0;34m\u001b[0m\u001b[0;34m\u001b[0m\u001b[0m\n\u001b[0;32m----> 6\u001b[0;31m history=model.fit(train_generator,\n\u001b[0m\u001b[1;32m      7\u001b[0m                   \u001b[0msteps_per_epoch\u001b[0m\u001b[0;34m=\u001b[0m\u001b[0msteps_per_epoch\u001b[0m\u001b[0;34m,\u001b[0m\u001b[0;34m\u001b[0m\u001b[0;34m\u001b[0m\u001b[0m\n\u001b[1;32m      8\u001b[0m                   \u001b[0mepochs\u001b[0m\u001b[0;34m=\u001b[0m\u001b[0mnum_epochs\u001b[0m\u001b[0;34m,\u001b[0m\u001b[0;34m\u001b[0m\u001b[0;34m\u001b[0m\u001b[0m\n",
      "\u001b[0;32m/usr/local/lib/python3.8/dist-packages/keras/utils/traceback_utils.py\u001b[0m in \u001b[0;36merror_handler\u001b[0;34m(*args, **kwargs)\u001b[0m\n\u001b[1;32m     65\u001b[0m     \u001b[0;32mexcept\u001b[0m \u001b[0mException\u001b[0m \u001b[0;32mas\u001b[0m \u001b[0me\u001b[0m\u001b[0;34m:\u001b[0m  \u001b[0;31m# pylint: disable=broad-except\u001b[0m\u001b[0;34m\u001b[0m\u001b[0;34m\u001b[0m\u001b[0m\n\u001b[1;32m     66\u001b[0m       \u001b[0mfiltered_tb\u001b[0m \u001b[0;34m=\u001b[0m \u001b[0m_process_traceback_frames\u001b[0m\u001b[0;34m(\u001b[0m\u001b[0me\u001b[0m\u001b[0;34m.\u001b[0m\u001b[0m__traceback__\u001b[0m\u001b[0;34m)\u001b[0m\u001b[0;34m\u001b[0m\u001b[0;34m\u001b[0m\u001b[0m\n\u001b[0;32m---> 67\u001b[0;31m       \u001b[0;32mraise\u001b[0m \u001b[0me\u001b[0m\u001b[0;34m.\u001b[0m\u001b[0mwith_traceback\u001b[0m\u001b[0;34m(\u001b[0m\u001b[0mfiltered_tb\u001b[0m\u001b[0;34m)\u001b[0m \u001b[0;32mfrom\u001b[0m \u001b[0;32mNone\u001b[0m\u001b[0;34m\u001b[0m\u001b[0;34m\u001b[0m\u001b[0m\n\u001b[0m\u001b[1;32m     68\u001b[0m     \u001b[0;32mfinally\u001b[0m\u001b[0;34m:\u001b[0m\u001b[0;34m\u001b[0m\u001b[0;34m\u001b[0m\u001b[0m\n\u001b[1;32m     69\u001b[0m       \u001b[0;32mdel\u001b[0m \u001b[0mfiltered_tb\u001b[0m\u001b[0;34m\u001b[0m\u001b[0;34m\u001b[0m\u001b[0m\n",
      "\u001b[0;32m/usr/local/lib/python3.8/dist-packages/tensorflow/python/eager/execute.py\u001b[0m in \u001b[0;36mquick_execute\u001b[0;34m(op_name, num_outputs, inputs, attrs, ctx, name)\u001b[0m\n\u001b[1;32m     56\u001b[0m   \u001b[0;32mtry\u001b[0m\u001b[0;34m:\u001b[0m\u001b[0;34m\u001b[0m\u001b[0;34m\u001b[0m\u001b[0m\n\u001b[1;32m     57\u001b[0m     \u001b[0mctx\u001b[0m\u001b[0;34m.\u001b[0m\u001b[0mensure_initialized\u001b[0m\u001b[0;34m(\u001b[0m\u001b[0;34m)\u001b[0m\u001b[0;34m\u001b[0m\u001b[0;34m\u001b[0m\u001b[0m\n\u001b[0;32m---> 58\u001b[0;31m     tensors = pywrap_tfe.TFE_Py_Execute(ctx._handle, device_name, op_name,\n\u001b[0m\u001b[1;32m     59\u001b[0m                                         inputs, attrs, num_outputs)\n\u001b[1;32m     60\u001b[0m   \u001b[0;32mexcept\u001b[0m \u001b[0mcore\u001b[0m\u001b[0;34m.\u001b[0m\u001b[0m_NotOkStatusException\u001b[0m \u001b[0;32mas\u001b[0m \u001b[0me\u001b[0m\u001b[0;34m:\u001b[0m\u001b[0;34m\u001b[0m\u001b[0;34m\u001b[0m\u001b[0m\n",
      "\u001b[0;31mInvalidArgumentError\u001b[0m:  Input to reshape is a tensor with 10240000 values, but the requested shape requires a multiple of 384000\n\t [[node sequential_5/time_distributed_13/Reshape_1\n (defined at /usr/local/lib/python3.8/dist-packages/keras/layers/wrappers.py:275)\n]] [Op:__inference_train_function_21555]\n\nErrors may have originated from an input operation.\nInput Source operations connected to node sequential_5/time_distributed_13/Reshape_1:\nIn[0] sequential_5/time_distributed_13/flatten_3/Reshape (defined at /usr/local/lib/python3.8/dist-packages/keras/layers/core/flatten.py:96)\t\nIn[1] sequential_5/time_distributed_13/Reshape_1/shape:\n\nOperation defined at: (most recent call last)\n>>>   File \"/usr/lib/python3.8/runpy.py\", line 194, in _run_module_as_main\n>>>     return _run_code(code, main_globals, None,\n>>> \n>>>   File \"/usr/lib/python3.8/runpy.py\", line 87, in _run_code\n>>>     exec(code, run_globals)\n>>> \n>>>   File \"/usr/local/lib/python3.8/dist-packages/ipykernel_launcher.py\", line 16, in <module>\n>>>     app.launch_new_instance()\n>>> \n>>>   File \"/usr/local/lib/python3.8/dist-packages/traitlets/config/application.py\", line 846, in launch_instance\n>>>     app.start()\n>>> \n>>>   File \"/usr/local/lib/python3.8/dist-packages/ipykernel/kernelapp.py\", line 677, in start\n>>>     self.io_loop.start()\n>>> \n>>>   File \"/usr/local/lib/python3.8/dist-packages/tornado/platform/asyncio.py\", line 199, in start\n>>>     self.asyncio_loop.run_forever()\n>>> \n>>>   File \"/usr/lib/python3.8/asyncio/base_events.py\", line 570, in run_forever\n>>>     self._run_once()\n>>> \n>>>   File \"/usr/lib/python3.8/asyncio/base_events.py\", line 1859, in _run_once\n>>>     handle._run()\n>>> \n>>>   File \"/usr/lib/python3.8/asyncio/events.py\", line 81, in _run\n>>>     self._context.run(self._callback, *self._args)\n>>> \n>>>   File \"/usr/local/lib/python3.8/dist-packages/ipykernel/kernelbase.py\", line 461, in dispatch_queue\n>>>     await self.process_one()\n>>> \n>>>   File \"/usr/local/lib/python3.8/dist-packages/ipykernel/kernelbase.py\", line 450, in process_one\n>>>     await dispatch(*args)\n>>> \n>>>   File \"/usr/local/lib/python3.8/dist-packages/ipykernel/kernelbase.py\", line 357, in dispatch_shell\n>>>     await result\n>>> \n>>>   File \"/usr/local/lib/python3.8/dist-packages/ipykernel/kernelbase.py\", line 652, in execute_request\n>>>     reply_content = await reply_content\n>>> \n>>>   File \"/usr/local/lib/python3.8/dist-packages/ipykernel/ipkernel.py\", line 359, in do_execute\n>>>     res = shell.run_cell(code, store_history=store_history, silent=silent)\n>>> \n>>>   File \"/usr/local/lib/python3.8/dist-packages/ipykernel/zmqshell.py\", line 532, in run_cell\n>>>     return super().run_cell(*args, **kwargs)\n>>> \n>>>   File \"/usr/local/lib/python3.8/dist-packages/IPython/core/interactiveshell.py\", line 2914, in run_cell\n>>>     result = self._run_cell(\n>>> \n>>>   File \"/usr/local/lib/python3.8/dist-packages/IPython/core/interactiveshell.py\", line 2960, in _run_cell\n>>>     return runner(coro)\n>>> \n>>>   File \"/usr/local/lib/python3.8/dist-packages/IPython/core/async_helpers.py\", line 78, in _pseudo_sync_runner\n>>>     coro.send(None)\n>>> \n>>>   File \"/usr/local/lib/python3.8/dist-packages/IPython/core/interactiveshell.py\", line 3185, in run_cell_async\n>>>     has_raised = await self.run_ast_nodes(code_ast.body, cell_name,\n>>> \n>>>   File \"/usr/local/lib/python3.8/dist-packages/IPython/core/interactiveshell.py\", line 3377, in run_ast_nodes\n>>>     if (await self.run_code(code, result,  async_=asy)):\n>>> \n>>>   File \"/usr/local/lib/python3.8/dist-packages/IPython/core/interactiveshell.py\", line 3457, in run_code\n>>>     exec(code_obj, self.user_global_ns, self.user_ns)\n>>> \n>>>   File \"/tmp/ipykernel_233/1142039328.py\", line 6, in <module>\n>>>     history=model.fit(train_generator,\n>>> \n>>>   File \"/usr/local/lib/python3.8/dist-packages/keras/utils/traceback_utils.py\", line 64, in error_handler\n>>>     return fn(*args, **kwargs)\n>>> \n>>>   File \"/usr/local/lib/python3.8/dist-packages/keras/engine/training.py\", line 1216, in fit\n>>>     tmp_logs = self.train_function(iterator)\n>>> \n>>>   File \"/usr/local/lib/python3.8/dist-packages/keras/engine/training.py\", line 878, in train_function\n>>>     return step_function(self, iterator)\n>>> \n>>>   File \"/usr/local/lib/python3.8/dist-packages/keras/engine/training.py\", line 867, in step_function\n>>>     outputs = model.distribute_strategy.run(run_step, args=(data,))\n>>> \n>>>   File \"/usr/local/lib/python3.8/dist-packages/keras/engine/training.py\", line 860, in run_step\n>>>     outputs = model.train_step(data)\n>>> \n>>>   File \"/usr/local/lib/python3.8/dist-packages/keras/engine/training.py\", line 808, in train_step\n>>>     y_pred = self(x, training=True)\n>>> \n>>>   File \"/usr/local/lib/python3.8/dist-packages/keras/utils/traceback_utils.py\", line 64, in error_handler\n>>>     return fn(*args, **kwargs)\n>>> \n>>>   File \"/usr/local/lib/python3.8/dist-packages/keras/engine/base_layer.py\", line 1083, in __call__\n>>>     outputs = call_fn(inputs, *args, **kwargs)\n>>> \n>>>   File \"/usr/local/lib/python3.8/dist-packages/keras/utils/traceback_utils.py\", line 92, in error_handler\n>>>     return fn(*args, **kwargs)\n>>> \n>>>   File \"/usr/local/lib/python3.8/dist-packages/keras/engine/sequential.py\", line 373, in call\n>>>     return super(Sequential, self).call(inputs, training=training, mask=mask)\n>>> \n>>>   File \"/usr/local/lib/python3.8/dist-packages/keras/engine/functional.py\", line 451, in call\n>>>     return self._run_internal_graph(\n>>> \n>>>   File \"/usr/local/lib/python3.8/dist-packages/keras/engine/functional.py\", line 589, in _run_internal_graph\n>>>     outputs = node.layer(*args, **kwargs)\n>>> \n>>>   File \"/usr/local/lib/python3.8/dist-packages/keras/utils/traceback_utils.py\", line 64, in error_handler\n>>>     return fn(*args, **kwargs)\n>>> \n>>>   File \"/usr/local/lib/python3.8/dist-packages/keras/engine/base_layer.py\", line 1083, in __call__\n>>>     outputs = call_fn(inputs, *args, **kwargs)\n>>> \n>>>   File \"/usr/local/lib/python3.8/dist-packages/keras/utils/traceback_utils.py\", line 92, in error_handler\n>>>     return fn(*args, **kwargs)\n>>> \n>>>   File \"/usr/local/lib/python3.8/dist-packages/keras/layers/wrappers.py\", line 275, in call\n>>>     y = tf.__internal__.nest.map_structure_up_to(y, tf.reshape, y, output_shape)\n>>> "
     ]
    }
   ],
   "source": [
    "# history = model.fit_generator(train_generator, steps_per_epoch=steps_per_epoch, epochs=num_epochs, verbose=1, \n",
    "#                     callbacks=callbacks_list, validation_data=val_generator, \n",
    "#                     validation_steps=validation_steps, class_weight=None, workers=4, initial_epoch=0,max_queue_size=20)\n",
    "\n",
    "# fit_generator is deprecated and will be removed in a future version. Using fit which supports generators.\n",
    "history=model.fit(train_generator,\n",
    "                  steps_per_epoch=steps_per_epoch,\n",
    "                  epochs=num_epochs,\n",
    "                  verbose=1,\n",
    "                  callbacks=callbacks_list,\n",
    "                  validation_data=val_generator,\n",
    "                  validation_steps=validation_steps,\n",
    "                  class_weight=None,\n",
    "                  batch_size=batch_size,\n",
    "                  initial_epoch=0)"
   ]
  },
  {
   "cell_type": "code",
   "execution_count": null,
   "metadata": {},
   "outputs": [],
   "source": [
    "plot_evaluation_graph()"
   ]
  },
  {
   "cell_type": "code",
   "execution_count": null,
   "metadata": {},
   "outputs": [],
   "source": []
  },
  {
   "cell_type": "code",
   "execution_count": null,
   "metadata": {},
   "outputs": [],
   "source": []
  },
  {
   "cell_type": "markdown",
   "metadata": {},
   "source": [
    "### Fifth Experiment - CNN 2D and GRU with Data Augmentation"
   ]
  },
  {
   "cell_type": "code",
   "execution_count": null,
   "metadata": {},
   "outputs": [],
   "source": [
    "model = Sequential()\n",
    "model.add(TimeDistributed(Conv2D(8, (3,3), padding='same', activation='relu'), input_shape=input_shape))\n",
    "\n",
    "model.add(TimeDistributed(Conv2D(16, (3, 3), padding='same', activation='relu')))\n",
    "model.add(TimeDistributed(BatchNormalization()))\n",
    "model.add(TimeDistributed(MaxPooling2D((2, 2))))\n",
    "\n",
    "model.add(TimeDistributed(Conv2D(32, (3, 3), padding='same', activation='relu')))\n",
    "model.add(TimeDistributed(BatchNormalization()))\n",
    "model.add(TimeDistributed(MaxPooling2D((2, 2))))\n",
    "\n",
    "model.add(TimeDistributed(Conv2D(64, (3, 3), padding='same', activation='relu')))\n",
    "model.add(TimeDistributed(BatchNormalization()))\n",
    "model.add(TimeDistributed(MaxPooling2D((2, 2))))\n",
    "\n",
    "model.add(TimeDistributed(Conv2D(128, (3, 3), padding='same', activation='relu')))\n",
    "model.add(TimeDistributed(BatchNormalization()))\n",
    "model.add(TimeDistributed(MaxPooling2D((2, 2))))\n",
    "\n",
    "model.add(TimeDistributed(Flatten()))\n",
    "\n",
    "model.add(GRU(128))\n",
    "model.add(Dropout(0.5))\n",
    "\n",
    "model.add(Dense(128, activation='relu'))\n",
    "model.add(Dropout(0.5))\n",
    "\n",
    "model.add(Dense(num_classes, activation='softmax'))\n"
   ]
  },
  {
   "cell_type": "code",
   "execution_count": null,
   "metadata": {},
   "outputs": [],
   "source": [
    "batch_size = 20 #experiment with the batch size\n",
    "image_count = 30 # number of images to be used for each video\n",
    "num_epochs = 25 # choose the number of epochs  \n",
    "train_generator = generator(train_path, train_doc, batch_size, augment=True)\n",
    "val_generator = generator(val_path, val_doc, batch_size, augment=True)\n",
    "\n",
    "callbacks_list = create_model_config('model_5')\n",
    "steps_per_epoch, validation_steps = calculate_steps_per_epoch()\n",
    "print(f\"Steps per epoch: {steps_per_epoch}\") \n",
    "print(f\"Validation steps: {validation_steps}\")"
   ]
  },
  {
   "cell_type": "code",
   "execution_count": null,
   "metadata": {
    "scrolled": true
   },
   "outputs": [],
   "source": [
    "optimiser = 'Adam' #write your optimizer\n",
    "model.compile(optimizer=optimiser, loss='categorical_crossentropy', metrics=['categorical_accuracy'])\n",
    "print (model.summary())"
   ]
  },
  {
   "cell_type": "code",
   "execution_count": null,
   "metadata": {},
   "outputs": [],
   "source": [
    "# history = model.fit_generator(train_generator, steps_per_epoch=steps_per_epoch, epochs=num_epochs, verbose=1, \n",
    "#                     callbacks=callbacks_list, validation_data=val_generator, \n",
    "#                     validation_steps=validation_steps, class_weight=None, workers=4, initial_epoch=0,max_queue_size=20)\n",
    "\n",
    "# fit_generator is deprecated and will be removed in a future version. Using fit which supports generators.\n",
    "history=model.fit(train_generator,\n",
    "                  steps_per_epoch=steps_per_epoch,\n",
    "                  epochs=num_epochs,\n",
    "                  verbose=1,\n",
    "                  callbacks=callbacks_list,\n",
    "                  validation_data=val_generator,\n",
    "                  validation_steps=validation_steps,\n",
    "                  class_weight=None,\n",
    "                  batch_size=batch_size,\n",
    "                  initial_epoch=0)"
   ]
  },
  {
   "cell_type": "code",
   "execution_count": null,
   "metadata": {},
   "outputs": [],
   "source": [
    "plot_evaluation_graph()"
   ]
  },
  {
   "cell_type": "markdown",
   "metadata": {},
   "source": [
    "### Sixth Experiment -   Transfer Learning with MobileNet pre trained model with Data Augmentation"
   ]
  },
  {
   "cell_type": "code",
   "execution_count": null,
   "metadata": {},
   "outputs": [],
   "source": [
    "from keras.applications import mobilenet\n",
    "\n",
    "model2 = Sequential()\n",
    "model2.add(TimeDistributed(mobilenet.MobileNet(weights='imagenet', include_top=False),input_shape=input_shape, name='mobilenet', trainable=False))\n",
    "model2.add(TimeDistributed(BatchNormalization())) \n",
    "model2.add(TimeDistributed(MaxPooling2D((2, 2))))\n",
    "\n",
    "model2.add(TimeDistributed(Flatten()))\n",
    "\n",
    "model2.add(GRU(128)) \n",
    "model2.add(Dropout(0.5))\n",
    "\n",
    "model2.add(Dense(128,activation='relu')) \n",
    "model2.add(Dropout(0.5)) \n",
    "model2.add(Dense(num_classes, activation='softmax'))\n"
   ]
  },
  {
   "cell_type": "code",
   "execution_count": null,
   "metadata": {},
   "outputs": [],
   "source": [
    "batch_size = 20 #experiment with the batch size\n",
    "image_count = 30 # number of images to be used for each video\n",
    "num_epochs = 25 # choose the number of epochs  \n",
    "train_generator = generator(train_path, train_doc, batch_size, augment=True)\n",
    "val_generator = generator(val_path, val_doc, batch_size, augment=True)\n",
    "\n",
    "callbacks_list = create_model_config('model_6')\n",
    "steps_per_epoch, validation_steps = calculate_steps_per_epoch()\n",
    "print(f\"Steps per epoch: {steps_per_epoch}\") \n",
    "print(f\"Validation steps: {validation_steps}\")"
   ]
  },
  {
   "cell_type": "code",
   "execution_count": null,
   "metadata": {
    "scrolled": true
   },
   "outputs": [],
   "source": [
    "optimiser = 'Adam' #write your optimizer\n",
    "model.compile(optimizer=optimiser, loss='categorical_crossentropy', metrics=['categorical_accuracy'])\n",
    "print (model.summary())"
   ]
  },
  {
   "cell_type": "code",
   "execution_count": null,
   "metadata": {},
   "outputs": [],
   "source": [
    "# history = model.fit_generator(train_generator, steps_per_epoch=steps_per_epoch, epochs=num_epochs, verbose=1, \n",
    "#                     callbacks=callbacks_list, validation_data=val_generator, \n",
    "#                     validation_steps=validation_steps, class_weight=None, workers=4, initial_epoch=0,max_queue_size=20)\n",
    "\n",
    "# fit_generator is deprecated and will be removed in a future version. Using fit which supports generators.\n",
    "history=model2.fit(train_generator,\n",
    "                  steps_per_epoch=steps_per_epoch,\n",
    "                  epochs=num_epochs,\n",
    "                  verbose=1,\n",
    "                  callbacks=callbacks_list,\n",
    "                  validation_data=val_generator,\n",
    "                  validation_steps=validation_steps,\n",
    "                  class_weight=None,\n",
    "                  batch_size=batch_size,\n",
    "                  initial_epoch=0)"
   ]
  },
  {
   "cell_type": "code",
   "execution_count": null,
   "metadata": {},
   "outputs": [],
   "source": [
    "plot_evaluation_graph()"
   ]
  },
  {
   "cell_type": "code",
   "execution_count": null,
   "metadata": {},
   "outputs": [],
   "source": []
  },
  {
   "cell_type": "markdown",
   "metadata": {},
   "source": [
    "### Select the best model from all experiment and final evaluation"
   ]
  },
  {
   "cell_type": "code",
   "execution_count": null,
   "metadata": {},
   "outputs": [],
   "source": [
    "from keras.models import load_model\n",
    " \n",
    "# load model\n",
    "model = load_model('model_init_2024-12-3013_53_07.750757/model-00011-0.55022-0.78808-0.78526-0.75000.keras')\n",
    "# summarize model.\n",
    "model.summary()"
   ]
  },
  {
   "cell_type": "code",
   "execution_count": null,
   "metadata": {},
   "outputs": [],
   "source": [
    "# Evaluate on Validation data\n",
    "scores = model.evaluate(val_generator, verbose=1, steps=validation_steps*10, max_queue_size=3000, workers=1, use_multiprocessing=False)\n",
    "print(\"%s%s: %.2f%%\" % (\"evaluate \",model.metrics_names[1], scores[1]*100))"
   ]
  },
  {
   "cell_type": "code",
   "execution_count": null,
   "metadata": {},
   "outputs": [],
   "source": []
  }
 ],
 "metadata": {
  "kernelspec": {
   "display_name": "Python 3 (ipykernel)",
   "language": "python",
   "name": "python3"
  },
  "language_info": {
   "codemirror_mode": {
    "name": "ipython",
    "version": 3
   },
   "file_extension": ".py",
   "mimetype": "text/x-python",
   "name": "python",
   "nbconvert_exporter": "python",
   "pygments_lexer": "ipython3",
   "version": "3.8.10"
  },
  "vscode": {
   "interpreter": {
    "hash": "5b78c356f59ad4f4bb37d320e87edfdd6e4609350ddbfb799f14c15ad9db04c2"
   }
  }
 },
 "nbformat": 4,
 "nbformat_minor": 4
}
